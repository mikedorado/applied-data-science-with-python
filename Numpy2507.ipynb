{
 "cells": [
  {
   "cell_type": "code",
   "execution_count": 1,
   "id": "63252caf-eb51-4d7c-84d5-fa9533e0e7a6",
   "metadata": {},
   "outputs": [],
   "source": [
    "list1=[17,2,8,23]\n",
    "list2=[6,5,20,13]"
   ]
  },
  {
   "cell_type": "code",
   "execution_count": 2,
   "id": "99af9d1b-b861-40af-bc43-ac10635f89ab",
   "metadata": {},
   "outputs": [
    {
     "data": {
      "text/plain": [
       "[17, 2, 8, 23, 6, 5, 20, 13]"
      ]
     },
     "execution_count": 2,
     "metadata": {},
     "output_type": "execute_result"
    }
   ],
   "source": [
    "list1+list2"
   ]
  },
  {
   "cell_type": "code",
   "execution_count": 3,
   "id": "94206bed-4ecd-48b5-a2d2-1530ff1ad2b5",
   "metadata": {},
   "outputs": [],
   "source": [
    "t1=(3,6,9,5)*3"
   ]
  },
  {
   "cell_type": "code",
   "execution_count": 4,
   "id": "549b525c-8826-4cb5-b156-8aeff7754d3e",
   "metadata": {},
   "outputs": [
    {
     "data": {
      "text/plain": [
       "(3, 6, 9, 5, 3, 6, 9, 5, 3, 6, 9, 5)"
      ]
     },
     "execution_count": 4,
     "metadata": {},
     "output_type": "execute_result"
    }
   ],
   "source": [
    "t1"
   ]
  },
  {
   "cell_type": "code",
   "execution_count": 5,
   "id": "7ff79b8b-1270-444e-8995-e7ef745b8718",
   "metadata": {},
   "outputs": [],
   "source": [
    "import numpy as xy"
   ]
  },
  {
   "cell_type": "code",
   "execution_count": 6,
   "id": "b5c6b1a4-0ebb-48a8-9e5d-b222f77a133e",
   "metadata": {},
   "outputs": [],
   "source": [
    "list1_array=xy.array(list1)\n",
    "list2_array=xy.array(list2)"
   ]
  },
  {
   "cell_type": "code",
   "execution_count": 7,
   "id": "b800d24e-e86e-4aac-9381-4db74fb4d91d",
   "metadata": {},
   "outputs": [
    {
     "data": {
      "text/plain": [
       "array([23,  7, 28, 36])"
      ]
     },
     "execution_count": 7,
     "metadata": {},
     "output_type": "execute_result"
    }
   ],
   "source": [
    "list1_array+list2_array"
   ]
  },
  {
   "cell_type": "code",
   "execution_count": 8,
   "id": "e9515e2b-a7ff-4aa4-b146-48f75ff2b004",
   "metadata": {},
   "outputs": [
    {
     "name": "stdout",
     "output_type": "stream",
     "text": [
      "[3 6 9 5 3 6 9 5 3 6 9 5]\n",
      "<class 'numpy.ndarray'>\n"
     ]
    }
   ],
   "source": [
    "t1_arr=xy.array(t1)\n",
    "print(t1_arr)\n",
    "print(type(t1_arr))"
   ]
  },
  {
   "cell_type": "code",
   "execution_count": 9,
   "id": "7e1cb43c-4fdf-420d-a05e-1e8568de9d7d",
   "metadata": {},
   "outputs": [
    {
     "data": {
      "text/plain": [
       "array([ 9, 18, 27, 15,  9, 18, 27, 15,  9, 18, 27, 15])"
      ]
     },
     "execution_count": 9,
     "metadata": {},
     "output_type": "execute_result"
    }
   ],
   "source": [
    "(t1_arr)*3"
   ]
  },
  {
   "cell_type": "code",
   "execution_count": 10,
   "id": "e59e38a4-4370-428d-91bb-6838b1fa8406",
   "metadata": {},
   "outputs": [
    {
     "name": "stdout",
     "output_type": "stream",
     "text": [
      "90\n",
      "0\n",
      "<class 'numpy.ndarray'>\n"
     ]
    }
   ],
   "source": [
    "arr0d=xy.array(90)\n",
    "print(arr0d)\n",
    "print(arr0d.ndim)\n",
    "print(type(arr0d))"
   ]
  },
  {
   "cell_type": "code",
   "execution_count": 11,
   "id": "8f9d4043-9e05-4395-a5cb-c0148eb1c05e",
   "metadata": {},
   "outputs": [
    {
     "name": "stdout",
     "output_type": "stream",
     "text": [
      "[25 89 43 16 33]\n",
      "1\n",
      "<class 'numpy.ndarray'>\n"
     ]
    }
   ],
   "source": [
    "arr1d=xy.array([25,89,43,16,33])\n",
    "print(arr1d)\n",
    "print(arr1d.ndim)\n",
    "print(type(arr1d))"
   ]
  },
  {
   "cell_type": "code",
   "execution_count": 12,
   "id": "1c9f13c2-9faf-426f-80bd-a1368e5862ff",
   "metadata": {},
   "outputs": [],
   "source": [
    "arr2d=xy.array([[25,89,43,16,33],[5,6,8,2,10]])"
   ]
  },
  {
   "cell_type": "code",
   "execution_count": 13,
   "id": "65ece40c-2c93-42c4-8e95-390a33392b09",
   "metadata": {},
   "outputs": [],
   "source": [
    "### lists do not allow mathematical operations,but arrays aloow elementwise mathematical computations.\n",
    "#### Lists support multiple data types,while arrays support only homogeneous data type."
   ]
  },
  {
   "cell_type": "code",
   "execution_count": 14,
   "id": "53ed72c7-2556-40bd-8d14-c1430176ef1d",
   "metadata": {},
   "outputs": [
    {
     "name": "stdout",
     "output_type": "stream",
     "text": [
      "[25. 89. 43. 16. 33.]\n",
      "1\n",
      "float64\n"
     ]
    }
   ],
   "source": [
    "arr1d=xy.array([25,89,43,16,33],dtype='float')\n",
    "print(arr1d)\n",
    "print(arr1d.ndim)\n",
    "print(arr1d.dtype)\n"
   ]
  },
  {
   "cell_type": "code",
   "execution_count": 15,
   "id": "be87a87b-745b-46ef-9db4-ed00a8cbc9c0",
   "metadata": {},
   "outputs": [
    {
     "data": {
      "text/plain": [
       "4"
      ]
     },
     "execution_count": 15,
     "metadata": {},
     "output_type": "execute_result"
    }
   ],
   "source": [
    "len(list1)"
   ]
  },
  {
   "cell_type": "code",
   "execution_count": 16,
   "id": "d7520ee1-9682-41e9-b401-569b0442c2e7",
   "metadata": {},
   "outputs": [
    {
     "data": {
      "text/plain": [
       "4"
      ]
     },
     "execution_count": 16,
     "metadata": {},
     "output_type": "execute_result"
    }
   ],
   "source": [
    "list1_array.size"
   ]
  },
  {
   "cell_type": "code",
   "execution_count": 18,
   "id": "989fc56f-9ef4-4ae7-ac72-0e2ae308d196",
   "metadata": {},
   "outputs": [
    {
     "data": {
      "text/plain": [
       "array([[6, 3, 4, 5],\n",
       "       [1, 2, 3, 4]])"
      ]
     },
     "execution_count": 18,
     "metadata": {},
     "output_type": "execute_result"
    }
   ],
   "source": [
    "import numpy as np\n",
    "arr2d=np.array([[6,3,4,5],[1,2,3,4]])\n",
    "arr2d"
   ]
  },
  {
   "cell_type": "markdown",
   "id": "12f7a044-3196-4a6e-b2f2-e41588c75af4",
   "metadata": {},
   "source": [
    "#### Attributes and methods of the array class"
   ]
  },
  {
   "cell_type": "code",
   "execution_count": 23,
   "id": "679cc4c0-c9ae-4995-9097-f8f82d4be742",
   "metadata": {},
   "outputs": [
    {
     "name": "stdout",
     "output_type": "stream",
     "text": [
      "50\n",
      "0\n",
      "int32\n",
      "1\n"
     ]
    }
   ],
   "source": [
    "arr0d= np.array(50)\n",
    "print(arr0d)\n",
    "print(arr0d.ndim) # ndim gives us the number of dimensions in the array\n",
    "print(arr0d.dtype) # returns the datatype of the elements in the array\n",
    "print(arr0d.size) # returns the number of elements stored in the array"
   ]
  },
  {
   "cell_type": "code",
   "execution_count": 25,
   "id": "ee5cc9e9-92f2-49e9-9f26-fd1fb7a50e5c",
   "metadata": {},
   "outputs": [
    {
     "name": "stdout",
     "output_type": "stream",
     "text": [
      "[10 15 25 30]\n",
      "1\n",
      "int32\n",
      "4\n"
     ]
    }
   ],
   "source": [
    "arr1d=np.array([10,15,25,30])\n",
    "print(arr1d)\n",
    "print(arr1d.ndim) # ndim gives us the number of dimensions in the array\n",
    "print(arr1d.dtype) # returns the datatype of the elements in the array\n",
    "print(arr1d.size) # returns the number of elements stored in the array\n"
   ]
  },
  {
   "cell_type": "code",
   "execution_count": 27,
   "id": "97873a15-342a-4cfe-9063-6f2a3a0f5820",
   "metadata": {},
   "outputs": [
    {
     "name": "stdout",
     "output_type": "stream",
     "text": [
      "[[10 15 25 30]\n",
      " [ 2  5  6  8]\n",
      " [ 5 15 13 18]]\n",
      "2\n",
      "int32\n",
      "12\n",
      "(3, 4)\n"
     ]
    }
   ],
   "source": [
    "arr2d=np.array([[10,15,25,30],[2,5,6,8],[5,15,13,18]])\n",
    "print(arr2d)\n",
    "print(arr2d.ndim) # ndim gives us the number of dimensions in the array\n",
    "print(arr2d.dtype) # returns the datatype of the elements in the array\n",
    "print(arr2d.size) # returns the number of elements stored in the array\n",
    "print(arr2d.shape) # returns the number of rows and columns in the array\n",
    "\n"
   ]
  },
  {
   "cell_type": "markdown",
   "id": "88c66614-f0e9-47ab-bfc8-5efd14c367f1",
   "metadata": {},
   "source": [
    "* Every 1D data which we combine to create higher dimensional arrays should have the same size.\n",
    "* If we find the product of the elements returned by the shape attribute,we get the size of the array"
   ]
  },
  {
   "cell_type": "code",
   "execution_count": 36,
   "id": "b687f541-6891-447f-94bc-7d94403de920",
   "metadata": {},
   "outputs": [
    {
     "name": "stdout",
     "output_type": "stream",
     "text": [
      "[[[ 1  8]\n",
      "  [ 2  3]]\n",
      "\n",
      " [[ 4  5]\n",
      "  [ 6  7]]\n",
      "\n",
      " [[ 8  9]\n",
      "  [10 11]]]\n",
      "3\n",
      "int32\n",
      "12\n",
      "(3, 2, 2)\n"
     ]
    }
   ],
   "source": [
    "arr3d=np.array([[[1,8],[2,3]],[[4,5],[6,7]],[[8,9],[10,11]]])\n",
    "print(arr3d)\n",
    "print(arr3d.ndim) # ndim gives us the number of dimensions in the array\n",
    "print(arr3d.dtype) # returns the datatype of the elements in the array\n",
    "print(arr3d.size) # returns the number of elements stored in the array\n",
    "print(arr3d.shape) # returns the number of 2D arrays we combine,number of rows in each 2D array, and columns in each 2D array\n"
   ]
  },
  {
   "cell_type": "markdown",
   "id": "733aa4fb-e7b8-4276-a82c-8197cfa3a7f5",
   "metadata": {},
   "source": [
    "### add and remove dimensions of an array:"
   ]
  },
  {
   "cell_type": "code",
   "execution_count": 39,
   "id": "3767c8b6-960f-47fb-8abe-b00026672323",
   "metadata": {},
   "outputs": [
    {
     "data": {
      "text/plain": [
       "array([ 1,  2,  3,  4,  5,  6,  7,  8,  9, 10, 11, 12])"
      ]
     },
     "execution_count": 39,
     "metadata": {},
     "output_type": "execute_result"
    }
   ],
   "source": [
    "arr10=np.arange(1,13)\n",
    "arr10"
   ]
  },
  {
   "cell_type": "code",
   "execution_count": 41,
   "id": "fb101712-69a3-47ab-9df9-0f9902c31f44",
   "metadata": {},
   "outputs": [
    {
     "name": "stdout",
     "output_type": "stream",
     "text": [
      "[[ 1  2  3  4]\n",
      " [ 5  6  7  8]\n",
      " [ 9 10 11 12]]\n",
      "2\n",
      "(3, 4)\n"
     ]
    }
   ],
   "source": [
    "#convert this 1D array to 2D:\n",
    "arr11=arr10.reshape(3,4)\n",
    "print(arr11)\n",
    "print(arr11.ndim)\n",
    "print(arr11.shape)\n"
   ]
  },
  {
   "cell_type": "code",
   "execution_count": 43,
   "id": "54a979d9-b307-458d-b26a-e59eb73482ae",
   "metadata": {},
   "outputs": [
    {
     "name": "stdout",
     "output_type": "stream",
     "text": [
      "[[[ 1  2]\n",
      "  [ 3  4]\n",
      "  [ 5  6]]\n",
      "\n",
      " [[ 7  8]\n",
      "  [ 9 10]\n",
      "  [11 12]]]\n",
      "3\n",
      "(2, 3, 2)\n"
     ]
    }
   ],
   "source": [
    "##convert the 1D array to 3D array:\n",
    "arr12=arr10.reshape(2,3,2)\n",
    "print(arr12)\n",
    "print(arr12.ndim)\n",
    "print(arr12.shape)\n"
   ]
  },
  {
   "cell_type": "markdown",
   "id": "73616c89-62a2-420f-a951-c17f4f62b5db",
   "metadata": {},
   "source": [
    "#### To convert higher dimensional arrays to the lowest dimension(1D) we use two inbuilt methods of the array class. flatten() and ravel()"
   ]
  },
  {
   "cell_type": "code",
   "execution_count": 46,
   "id": "417de480-07fd-462a-b072-cf59d86a3d16",
   "metadata": {},
   "outputs": [
    {
     "data": {
      "text/plain": [
       "array([ 1,  2,  3,  4,  5,  6,  7,  8,  9, 10, 11, 12])"
      ]
     },
     "execution_count": 46,
     "metadata": {},
     "output_type": "execute_result"
    }
   ],
   "source": [
    "res1d=arr12.flatten()\n",
    "res1d"
   ]
  },
  {
   "cell_type": "code",
   "execution_count": 48,
   "id": "bdaf1c09-e4a5-4302-8638-0cb5c840576b",
   "metadata": {},
   "outputs": [
    {
     "data": {
      "text/plain": [
       "array([ 1,  2,  3,  4,  5,  6,  7,  8,  9, 10, 11, 12])"
      ]
     },
     "execution_count": 48,
     "metadata": {},
     "output_type": "execute_result"
    }
   ],
   "source": [
    "res2=arr11.ravel()\n",
    "res2"
   ]
  },
  {
   "cell_type": "code",
   "execution_count": 50,
   "id": "3b00b21e-e177-4530-8d2d-701370b9f1f8",
   "metadata": {},
   "outputs": [],
   "source": [
    "### Q) Create a 1d array with 8 integer values. Name it 'a',then convert 'a' to a 2D array and name it 'b'\n",
    "### In the third step convert 'b' to a 3D array 'c'."
   ]
  },
  {
   "cell_type": "code",
   "execution_count": 52,
   "id": "f8eab667-3c20-4d28-9ded-1997b7e87d6c",
   "metadata": {},
   "outputs": [],
   "source": [
    "#### Q) reduce the dimensions of 'c' to get back the original 1D data."
   ]
  },
  {
   "cell_type": "code",
   "execution_count": 54,
   "id": "004c9174-a5ef-4aa7-87eb-411518f4c5c2",
   "metadata": {},
   "outputs": [
    {
     "name": "stdout",
     "output_type": "stream",
     "text": [
      "[1 2 3 4 5 6 7 8]\n",
      "1\n",
      "int32\n",
      "8\n"
     ]
    }
   ],
   "source": [
    "a=np.arange(1,9)\n",
    "print(a)\n",
    "print(a.ndim) # ndim gives us the number of dimensions in the array\n",
    "print(a.dtype) # returns the datatype of the elements in the array\n",
    "print(a.size) # returns the number of elements stored in the array\n"
   ]
  },
  {
   "cell_type": "code",
   "execution_count": 56,
   "id": "72fba1c8-e699-45f4-a22d-61997b2381eb",
   "metadata": {},
   "outputs": [
    {
     "name": "stdout",
     "output_type": "stream",
     "text": [
      "[[1 2 3 4]\n",
      " [5 6 7 8]]\n",
      "2\n",
      "int32\n",
      "8\n",
      "(2, 4)\n"
     ]
    }
   ],
   "source": [
    "b=a.reshape(2,4)\n",
    "print(b)\n",
    "print(b.ndim) # ndim gives us the number of dimensions in the array\n",
    "print(b.dtype) # returns the datatype of the elements in the array\n",
    "print(b.size) # returns the number of elements stored in the array\n",
    "print(b.shape)"
   ]
  },
  {
   "cell_type": "code",
   "execution_count": 58,
   "id": "1483508a-c04c-4adf-9e9d-3ee08eb22908",
   "metadata": {},
   "outputs": [
    {
     "name": "stdout",
     "output_type": "stream",
     "text": [
      "[[[1 2]\n",
      "  [3 4]]\n",
      "\n",
      " [[5 6]\n",
      "  [7 8]]]\n",
      "3\n",
      "int32\n",
      "8\n",
      "(2, 2, 2)\n"
     ]
    }
   ],
   "source": [
    "c=a.reshape(2,2,2)\n",
    "print(c)\n",
    "print(c.ndim) # ndim gives us the number of dimensions in the array\n",
    "print(c.dtype) # returns the datatype of the elements in the array\n",
    "print(c.size) # returns the number of elements stored in the array\n",
    "print(c.shape) # returns the number of 2D arrays we combine,number of rows in each 2D array, and columns in each 2D array\n"
   ]
  },
  {
   "cell_type": "code",
   "execution_count": 60,
   "id": "53338cb2-f85a-4004-8e9a-196ea74c23d0",
   "metadata": {},
   "outputs": [
    {
     "data": {
      "text/plain": [
       "array([1, 2, 3, 4, 5, 6, 7, 8])"
      ]
     },
     "execution_count": 60,
     "metadata": {},
     "output_type": "execute_result"
    }
   ],
   "source": [
    "a_1=b.flatten()\n",
    "a_1"
   ]
  },
  {
   "cell_type": "code",
   "execution_count": 62,
   "id": "3a660f22-dbce-4e5b-b1ce-7c574c917ebf",
   "metadata": {},
   "outputs": [
    {
     "data": {
      "text/plain": [
       "array([1, 2, 3, 4, 5, 6, 7, 8])"
      ]
     },
     "execution_count": 62,
     "metadata": {},
     "output_type": "execute_result"
    }
   ],
   "source": [
    "a_2=c.ravel()\n",
    "a_2"
   ]
  },
  {
   "cell_type": "code",
   "execution_count": 64,
   "id": "adea6068-7916-405f-9411-7065224a21b0",
   "metadata": {},
   "outputs": [
    {
     "data": {
      "text/plain": [
       "array([[1, 2],\n",
       "       [3, 4],\n",
       "       [5, 6],\n",
       "       [7, 8]])"
      ]
     },
     "execution_count": 64,
     "metadata": {},
     "output_type": "execute_result"
    }
   ],
   "source": [
    "##convert c to a 2D array:\n",
    "b_1=c.reshape(4,2)\n",
    "b_1"
   ]
  },
  {
   "cell_type": "code",
   "execution_count": 66,
   "id": "e1cb18b9-fe7d-4e87-9b7a-432839878bc2",
   "metadata": {},
   "outputs": [
    {
     "data": {
      "text/plain": [
       "array([ 1,  2,  3,  4,  5,  6,  7,  8,  9, 10, 11, 12, 13, 14, 15, 16, 17,\n",
       "       18, 19, 20, 21, 22, 23, 24, 25, 26, 27, 28, 29, 30])"
      ]
     },
     "execution_count": 66,
     "metadata": {},
     "output_type": "execute_result"
    }
   ],
   "source": [
    "#1d array:\n",
    "arr13=np.arange(1,31)\n",
    "arr13"
   ]
  },
  {
   "cell_type": "code",
   "execution_count": 68,
   "id": "8af44482-67b0-46ba-b3d4-92c9b49f56a1",
   "metadata": {},
   "outputs": [
    {
     "data": {
      "text/plain": [
       "array([ 5,  6,  7,  8,  9, 10, 11, 12])"
      ]
     },
     "execution_count": 68,
     "metadata": {},
     "output_type": "execute_result"
    }
   ],
   "source": [
    "##slice out elements 5-12\n",
    "arr13[4:12]"
   ]
  },
  {
   "cell_type": "code",
   "execution_count": 70,
   "id": "9750b316-1d82-4813-ada6-d7fe9bab8b59",
   "metadata": {},
   "outputs": [
    {
     "data": {
      "text/plain": [
       "array([26, 27, 28, 29, 30])"
      ]
     },
     "execution_count": 70,
     "metadata": {},
     "output_type": "execute_result"
    }
   ],
   "source": [
    "##read elements 26-30\n",
    "arr13[-5:]"
   ]
  },
  {
   "cell_type": "code",
   "execution_count": 79,
   "id": "5c3114cd-eb26-4d7f-b07d-234b535aa80c",
   "metadata": {},
   "outputs": [
    {
     "data": {
      "text/plain": [
       "array([ 5, 10, 15, 20])"
      ]
     },
     "execution_count": 79,
     "metadata": {},
     "output_type": "execute_result"
    }
   ],
   "source": [
    "#slice out 5,10,15,20:\n",
    "arr13[4:20:5]"
   ]
  },
  {
   "cell_type": "markdown",
   "id": "521d12d1-bf70-475c-9dfb-b7bff249c1e9",
   "metadata": {},
   "source": [
    "* The slicing syntax- start:stop:step\n",
    "* skip=step-1"
   ]
  },
  {
   "cell_type": "code",
   "execution_count": null,
   "id": "7ed8d4bf-5533-40f0-af6b-fc8068902ff0",
   "metadata": {},
   "outputs": [],
   "source": []
  }
 ],
 "metadata": {
  "kernelspec": {
   "display_name": "Python [conda env:base] *",
   "language": "python",
   "name": "conda-base-py"
  },
  "language_info": {
   "codemirror_mode": {
    "name": "ipython",
    "version": 3
   },
   "file_extension": ".py",
   "mimetype": "text/x-python",
   "name": "python",
   "nbconvert_exporter": "python",
   "pygments_lexer": "ipython3",
   "version": "3.12.7"
  }
 },
 "nbformat": 4,
 "nbformat_minor": 5
}

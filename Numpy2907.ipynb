{
 "cells": [
  {
   "cell_type": "code",
   "execution_count": 1,
   "id": "63252caf-eb51-4d7c-84d5-fa9533e0e7a6",
   "metadata": {},
   "outputs": [],
   "source": [
    "list1=[17,2,8,23]\n",
    "list2=[6,5,20,13]"
   ]
  },
  {
   "cell_type": "code",
   "execution_count": 2,
   "id": "99af9d1b-b861-40af-bc43-ac10635f89ab",
   "metadata": {},
   "outputs": [
    {
     "data": {
      "text/plain": [
       "[17, 2, 8, 23, 6, 5, 20, 13]"
      ]
     },
     "execution_count": 2,
     "metadata": {},
     "output_type": "execute_result"
    }
   ],
   "source": [
    "list1+list2"
   ]
  },
  {
   "cell_type": "code",
   "execution_count": 3,
   "id": "94206bed-4ecd-48b5-a2d2-1530ff1ad2b5",
   "metadata": {},
   "outputs": [],
   "source": [
    "t1=(3,6,9,5)*3"
   ]
  },
  {
   "cell_type": "code",
   "execution_count": 4,
   "id": "549b525c-8826-4cb5-b156-8aeff7754d3e",
   "metadata": {},
   "outputs": [
    {
     "data": {
      "text/plain": [
       "(3, 6, 9, 5, 3, 6, 9, 5, 3, 6, 9, 5)"
      ]
     },
     "execution_count": 4,
     "metadata": {},
     "output_type": "execute_result"
    }
   ],
   "source": [
    "t1"
   ]
  },
  {
   "cell_type": "code",
   "execution_count": 5,
   "id": "7ff79b8b-1270-444e-8995-e7ef745b8718",
   "metadata": {},
   "outputs": [],
   "source": [
    "import numpy as xy"
   ]
  },
  {
   "cell_type": "code",
   "execution_count": 6,
   "id": "b5c6b1a4-0ebb-48a8-9e5d-b222f77a133e",
   "metadata": {},
   "outputs": [],
   "source": [
    "list1_array=xy.array(list1)\n",
    "list2_array=xy.array(list2)"
   ]
  },
  {
   "cell_type": "code",
   "execution_count": 7,
   "id": "b800d24e-e86e-4aac-9381-4db74fb4d91d",
   "metadata": {},
   "outputs": [
    {
     "data": {
      "text/plain": [
       "array([23,  7, 28, 36])"
      ]
     },
     "execution_count": 7,
     "metadata": {},
     "output_type": "execute_result"
    }
   ],
   "source": [
    "list1_array+list2_array"
   ]
  },
  {
   "cell_type": "code",
   "execution_count": 8,
   "id": "e9515e2b-a7ff-4aa4-b146-48f75ff2b004",
   "metadata": {},
   "outputs": [
    {
     "name": "stdout",
     "output_type": "stream",
     "text": [
      "[3 6 9 5 3 6 9 5 3 6 9 5]\n",
      "<class 'numpy.ndarray'>\n"
     ]
    }
   ],
   "source": [
    "t1_arr=xy.array(t1)\n",
    "print(t1_arr)\n",
    "print(type(t1_arr))"
   ]
  },
  {
   "cell_type": "code",
   "execution_count": 9,
   "id": "7e1cb43c-4fdf-420d-a05e-1e8568de9d7d",
   "metadata": {},
   "outputs": [
    {
     "data": {
      "text/plain": [
       "array([ 9, 18, 27, 15,  9, 18, 27, 15,  9, 18, 27, 15])"
      ]
     },
     "execution_count": 9,
     "metadata": {},
     "output_type": "execute_result"
    }
   ],
   "source": [
    "(t1_arr)*3"
   ]
  },
  {
   "cell_type": "code",
   "execution_count": 10,
   "id": "e59e38a4-4370-428d-91bb-6838b1fa8406",
   "metadata": {},
   "outputs": [
    {
     "name": "stdout",
     "output_type": "stream",
     "text": [
      "90\n",
      "0\n",
      "<class 'numpy.ndarray'>\n"
     ]
    }
   ],
   "source": [
    "arr0d=xy.array(90)\n",
    "print(arr0d)\n",
    "print(arr0d.ndim)\n",
    "print(type(arr0d))"
   ]
  },
  {
   "cell_type": "code",
   "execution_count": 11,
   "id": "8f9d4043-9e05-4395-a5cb-c0148eb1c05e",
   "metadata": {},
   "outputs": [
    {
     "name": "stdout",
     "output_type": "stream",
     "text": [
      "[25 89 43 16 33]\n",
      "1\n",
      "<class 'numpy.ndarray'>\n"
     ]
    }
   ],
   "source": [
    "arr1d=xy.array([25,89,43,16,33])\n",
    "print(arr1d)\n",
    "print(arr1d.ndim)\n",
    "print(type(arr1d))"
   ]
  },
  {
   "cell_type": "code",
   "execution_count": 12,
   "id": "1c9f13c2-9faf-426f-80bd-a1368e5862ff",
   "metadata": {},
   "outputs": [],
   "source": [
    "arr2d=xy.array([[25,89,43,16,33],[5,6,8,2,10]])"
   ]
  },
  {
   "cell_type": "code",
   "execution_count": 13,
   "id": "65ece40c-2c93-42c4-8e95-390a33392b09",
   "metadata": {},
   "outputs": [],
   "source": [
    "### lists do not allow mathematical operations,but arrays aloow elementwise mathematical computations.\n",
    "#### Lists support multiple data types,while arrays support only homogeneous data type."
   ]
  },
  {
   "cell_type": "code",
   "execution_count": 14,
   "id": "53ed72c7-2556-40bd-8d14-c1430176ef1d",
   "metadata": {},
   "outputs": [
    {
     "name": "stdout",
     "output_type": "stream",
     "text": [
      "[25. 89. 43. 16. 33.]\n",
      "1\n",
      "float64\n"
     ]
    }
   ],
   "source": [
    "arr1d=xy.array([25,89,43,16,33],dtype='float')\n",
    "print(arr1d)\n",
    "print(arr1d.ndim)\n",
    "print(arr1d.dtype)\n"
   ]
  },
  {
   "cell_type": "code",
   "execution_count": 15,
   "id": "be87a87b-745b-46ef-9db4-ed00a8cbc9c0",
   "metadata": {},
   "outputs": [
    {
     "data": {
      "text/plain": [
       "4"
      ]
     },
     "execution_count": 15,
     "metadata": {},
     "output_type": "execute_result"
    }
   ],
   "source": [
    "len(list1)"
   ]
  },
  {
   "cell_type": "code",
   "execution_count": 16,
   "id": "d7520ee1-9682-41e9-b401-569b0442c2e7",
   "metadata": {},
   "outputs": [
    {
     "data": {
      "text/plain": [
       "4"
      ]
     },
     "execution_count": 16,
     "metadata": {},
     "output_type": "execute_result"
    }
   ],
   "source": [
    "list1_array.size"
   ]
  },
  {
   "cell_type": "code",
   "execution_count": 18,
   "id": "989fc56f-9ef4-4ae7-ac72-0e2ae308d196",
   "metadata": {},
   "outputs": [
    {
     "data": {
      "text/plain": [
       "array([[6, 3, 4, 5],\n",
       "       [1, 2, 3, 4]])"
      ]
     },
     "execution_count": 18,
     "metadata": {},
     "output_type": "execute_result"
    }
   ],
   "source": [
    "import numpy as np\n",
    "arr2d=np.array([[6,3,4,5],[1,2,3,4]])\n",
    "arr2d"
   ]
  },
  {
   "cell_type": "markdown",
   "id": "12f7a044-3196-4a6e-b2f2-e41588c75af4",
   "metadata": {},
   "source": [
    "#### Attributes and methods of the array class"
   ]
  },
  {
   "cell_type": "code",
   "execution_count": 23,
   "id": "679cc4c0-c9ae-4995-9097-f8f82d4be742",
   "metadata": {},
   "outputs": [
    {
     "name": "stdout",
     "output_type": "stream",
     "text": [
      "50\n",
      "0\n",
      "int32\n",
      "1\n"
     ]
    }
   ],
   "source": [
    "arr0d= np.array(50)\n",
    "print(arr0d)\n",
    "print(arr0d.ndim) # ndim gives us the number of dimensions in the array\n",
    "print(arr0d.dtype) # returns the datatype of the elements in the array\n",
    "print(arr0d.size) # returns the number of elements stored in the array"
   ]
  },
  {
   "cell_type": "code",
   "execution_count": 25,
   "id": "ee5cc9e9-92f2-49e9-9f26-fd1fb7a50e5c",
   "metadata": {},
   "outputs": [
    {
     "name": "stdout",
     "output_type": "stream",
     "text": [
      "[10 15 25 30]\n",
      "1\n",
      "int32\n",
      "4\n"
     ]
    }
   ],
   "source": [
    "arr1d=np.array([10,15,25,30])\n",
    "print(arr1d)\n",
    "print(arr1d.ndim) # ndim gives us the number of dimensions in the array\n",
    "print(arr1d.dtype) # returns the datatype of the elements in the array\n",
    "print(arr1d.size) # returns the number of elements stored in the array\n"
   ]
  },
  {
   "cell_type": "code",
   "execution_count": 27,
   "id": "97873a15-342a-4cfe-9063-6f2a3a0f5820",
   "metadata": {},
   "outputs": [
    {
     "name": "stdout",
     "output_type": "stream",
     "text": [
      "[[10 15 25 30]\n",
      " [ 2  5  6  8]\n",
      " [ 5 15 13 18]]\n",
      "2\n",
      "int32\n",
      "12\n",
      "(3, 4)\n"
     ]
    }
   ],
   "source": [
    "arr2d=np.array([[10,15,25,30],[2,5,6,8],[5,15,13,18]])\n",
    "print(arr2d)\n",
    "print(arr2d.ndim) # ndim gives us the number of dimensions in the array\n",
    "print(arr2d.dtype) # returns the datatype of the elements in the array\n",
    "print(arr2d.size) # returns the number of elements stored in the array\n",
    "print(arr2d.shape) # returns the number of rows and columns in the array\n",
    "\n"
   ]
  },
  {
   "cell_type": "markdown",
   "id": "88c66614-f0e9-47ab-bfc8-5efd14c367f1",
   "metadata": {},
   "source": [
    "* Every 1D data which we combine to create higher dimensional arrays should have the same size.\n",
    "* If we find the product of the elements returned by the shape attribute,we get the size of the array"
   ]
  },
  {
   "cell_type": "code",
   "execution_count": 36,
   "id": "b687f541-6891-447f-94bc-7d94403de920",
   "metadata": {},
   "outputs": [
    {
     "name": "stdout",
     "output_type": "stream",
     "text": [
      "[[[ 1  8]\n",
      "  [ 2  3]]\n",
      "\n",
      " [[ 4  5]\n",
      "  [ 6  7]]\n",
      "\n",
      " [[ 8  9]\n",
      "  [10 11]]]\n",
      "3\n",
      "int32\n",
      "12\n",
      "(3, 2, 2)\n"
     ]
    }
   ],
   "source": [
    "arr3d=np.array([[[1,8],[2,3]],[[4,5],[6,7]],[[8,9],[10,11]]])\n",
    "print(arr3d)\n",
    "print(arr3d.ndim) # ndim gives us the number of dimensions in the array\n",
    "print(arr3d.dtype) # returns the datatype of the elements in the array\n",
    "print(arr3d.size) # returns the number of elements stored in the array\n",
    "print(arr3d.shape) # returns the number of 2D arrays we combine,number of rows in each 2D array, and columns in each 2D array\n"
   ]
  },
  {
   "cell_type": "markdown",
   "id": "733aa4fb-e7b8-4276-a82c-8197cfa3a7f5",
   "metadata": {},
   "source": [
    "### add and remove dimensions of an array:"
   ]
  },
  {
   "cell_type": "code",
   "execution_count": 39,
   "id": "3767c8b6-960f-47fb-8abe-b00026672323",
   "metadata": {},
   "outputs": [
    {
     "data": {
      "text/plain": [
       "array([ 1,  2,  3,  4,  5,  6,  7,  8,  9, 10, 11, 12])"
      ]
     },
     "execution_count": 39,
     "metadata": {},
     "output_type": "execute_result"
    }
   ],
   "source": [
    "arr10=np.arange(1,13)\n",
    "arr10"
   ]
  },
  {
   "cell_type": "code",
   "execution_count": 41,
   "id": "fb101712-69a3-47ab-9df9-0f9902c31f44",
   "metadata": {},
   "outputs": [
    {
     "name": "stdout",
     "output_type": "stream",
     "text": [
      "[[ 1  2  3  4]\n",
      " [ 5  6  7  8]\n",
      " [ 9 10 11 12]]\n",
      "2\n",
      "(3, 4)\n"
     ]
    }
   ],
   "source": [
    "#convert this 1D array to 2D:\n",
    "arr11=arr10.reshape(3,4)\n",
    "print(arr11)\n",
    "print(arr11.ndim)\n",
    "print(arr11.shape)\n"
   ]
  },
  {
   "cell_type": "code",
   "execution_count": 43,
   "id": "54a979d9-b307-458d-b26a-e59eb73482ae",
   "metadata": {},
   "outputs": [
    {
     "name": "stdout",
     "output_type": "stream",
     "text": [
      "[[[ 1  2]\n",
      "  [ 3  4]\n",
      "  [ 5  6]]\n",
      "\n",
      " [[ 7  8]\n",
      "  [ 9 10]\n",
      "  [11 12]]]\n",
      "3\n",
      "(2, 3, 2)\n"
     ]
    }
   ],
   "source": [
    "##convert the 1D array to 3D array:\n",
    "arr12=arr10.reshape(2,3,2)\n",
    "print(arr12)\n",
    "print(arr12.ndim)\n",
    "print(arr12.shape)\n"
   ]
  },
  {
   "cell_type": "markdown",
   "id": "73616c89-62a2-420f-a951-c17f4f62b5db",
   "metadata": {},
   "source": [
    "#### To convert higher dimensional arrays to the lowest dimension(1D) we use two inbuilt methods of the array class. flatten() and ravel()"
   ]
  },
  {
   "cell_type": "code",
   "execution_count": 46,
   "id": "417de480-07fd-462a-b072-cf59d86a3d16",
   "metadata": {},
   "outputs": [
    {
     "data": {
      "text/plain": [
       "array([ 1,  2,  3,  4,  5,  6,  7,  8,  9, 10, 11, 12])"
      ]
     },
     "execution_count": 46,
     "metadata": {},
     "output_type": "execute_result"
    }
   ],
   "source": [
    "res1d=arr12.flatten()\n",
    "res1d"
   ]
  },
  {
   "cell_type": "code",
   "execution_count": 48,
   "id": "bdaf1c09-e4a5-4302-8638-0cb5c840576b",
   "metadata": {},
   "outputs": [
    {
     "data": {
      "text/plain": [
       "array([ 1,  2,  3,  4,  5,  6,  7,  8,  9, 10, 11, 12])"
      ]
     },
     "execution_count": 48,
     "metadata": {},
     "output_type": "execute_result"
    }
   ],
   "source": [
    "res2=arr11.ravel()\n",
    "res2"
   ]
  },
  {
   "cell_type": "code",
   "execution_count": 50,
   "id": "3b00b21e-e177-4530-8d2d-701370b9f1f8",
   "metadata": {},
   "outputs": [],
   "source": [
    "### Q) Create a 1d array with 8 integer values. Name it 'a',then convert 'a' to a 2D array and name it 'b'\n",
    "### In the third step convert 'b' to a 3D array 'c'."
   ]
  },
  {
   "cell_type": "code",
   "execution_count": 52,
   "id": "f8eab667-3c20-4d28-9ded-1997b7e87d6c",
   "metadata": {},
   "outputs": [],
   "source": [
    "#### Q) reduce the dimensions of 'c' to get back the original 1D data."
   ]
  },
  {
   "cell_type": "code",
   "execution_count": 54,
   "id": "004c9174-a5ef-4aa7-87eb-411518f4c5c2",
   "metadata": {},
   "outputs": [
    {
     "name": "stdout",
     "output_type": "stream",
     "text": [
      "[1 2 3 4 5 6 7 8]\n",
      "1\n",
      "int32\n",
      "8\n"
     ]
    }
   ],
   "source": [
    "a=np.arange(1,9)\n",
    "print(a)\n",
    "print(a.ndim) # ndim gives us the number of dimensions in the array\n",
    "print(a.dtype) # returns the datatype of the elements in the array\n",
    "print(a.size) # returns the number of elements stored in the array\n"
   ]
  },
  {
   "cell_type": "code",
   "execution_count": 56,
   "id": "72fba1c8-e699-45f4-a22d-61997b2381eb",
   "metadata": {},
   "outputs": [
    {
     "name": "stdout",
     "output_type": "stream",
     "text": [
      "[[1 2 3 4]\n",
      " [5 6 7 8]]\n",
      "2\n",
      "int32\n",
      "8\n",
      "(2, 4)\n"
     ]
    }
   ],
   "source": [
    "b=a.reshape(2,4)\n",
    "print(b)\n",
    "print(b.ndim) # ndim gives us the number of dimensions in the array\n",
    "print(b.dtype) # returns the datatype of the elements in the array\n",
    "print(b.size) # returns the number of elements stored in the array\n",
    "print(b.shape)"
   ]
  },
  {
   "cell_type": "code",
   "execution_count": 58,
   "id": "1483508a-c04c-4adf-9e9d-3ee08eb22908",
   "metadata": {},
   "outputs": [
    {
     "name": "stdout",
     "output_type": "stream",
     "text": [
      "[[[1 2]\n",
      "  [3 4]]\n",
      "\n",
      " [[5 6]\n",
      "  [7 8]]]\n",
      "3\n",
      "int32\n",
      "8\n",
      "(2, 2, 2)\n"
     ]
    }
   ],
   "source": [
    "c=a.reshape(2,2,2)\n",
    "print(c)\n",
    "print(c.ndim) # ndim gives us the number of dimensions in the array\n",
    "print(c.dtype) # returns the datatype of the elements in the array\n",
    "print(c.size) # returns the number of elements stored in the array\n",
    "print(c.shape) # returns the number of 2D arrays we combine,number of rows in each 2D array, and columns in each 2D array\n"
   ]
  },
  {
   "cell_type": "code",
   "execution_count": 60,
   "id": "53338cb2-f85a-4004-8e9a-196ea74c23d0",
   "metadata": {},
   "outputs": [
    {
     "data": {
      "text/plain": [
       "array([1, 2, 3, 4, 5, 6, 7, 8])"
      ]
     },
     "execution_count": 60,
     "metadata": {},
     "output_type": "execute_result"
    }
   ],
   "source": [
    "a_1=b.flatten()\n",
    "a_1"
   ]
  },
  {
   "cell_type": "code",
   "execution_count": 62,
   "id": "3a660f22-dbce-4e5b-b1ce-7c574c917ebf",
   "metadata": {},
   "outputs": [
    {
     "data": {
      "text/plain": [
       "array([1, 2, 3, 4, 5, 6, 7, 8])"
      ]
     },
     "execution_count": 62,
     "metadata": {},
     "output_type": "execute_result"
    }
   ],
   "source": [
    "a_2=c.ravel()\n",
    "a_2"
   ]
  },
  {
   "cell_type": "code",
   "execution_count": 64,
   "id": "adea6068-7916-405f-9411-7065224a21b0",
   "metadata": {},
   "outputs": [
    {
     "data": {
      "text/plain": [
       "array([[1, 2],\n",
       "       [3, 4],\n",
       "       [5, 6],\n",
       "       [7, 8]])"
      ]
     },
     "execution_count": 64,
     "metadata": {},
     "output_type": "execute_result"
    }
   ],
   "source": [
    "##convert c to a 2D array:\n",
    "b_1=c.reshape(4,2)\n",
    "b_1"
   ]
  },
  {
   "cell_type": "code",
   "execution_count": 66,
   "id": "e1cb18b9-fe7d-4e87-9b7a-432839878bc2",
   "metadata": {},
   "outputs": [
    {
     "data": {
      "text/plain": [
       "array([ 1,  2,  3,  4,  5,  6,  7,  8,  9, 10, 11, 12, 13, 14, 15, 16, 17,\n",
       "       18, 19, 20, 21, 22, 23, 24, 25, 26, 27, 28, 29, 30])"
      ]
     },
     "execution_count": 66,
     "metadata": {},
     "output_type": "execute_result"
    }
   ],
   "source": [
    "#1d array:\n",
    "arr13=np.arange(1,31)\n",
    "arr13"
   ]
  },
  {
   "cell_type": "code",
   "execution_count": 68,
   "id": "8af44482-67b0-46ba-b3d4-92c9b49f56a1",
   "metadata": {},
   "outputs": [
    {
     "data": {
      "text/plain": [
       "array([ 5,  6,  7,  8,  9, 10, 11, 12])"
      ]
     },
     "execution_count": 68,
     "metadata": {},
     "output_type": "execute_result"
    }
   ],
   "source": [
    "##slice out elements 5-12\n",
    "arr13[4:12]"
   ]
  },
  {
   "cell_type": "code",
   "execution_count": 70,
   "id": "9750b316-1d82-4813-ada6-d7fe9bab8b59",
   "metadata": {},
   "outputs": [
    {
     "data": {
      "text/plain": [
       "array([26, 27, 28, 29, 30])"
      ]
     },
     "execution_count": 70,
     "metadata": {},
     "output_type": "execute_result"
    }
   ],
   "source": [
    "##read elements 26-30\n",
    "arr13[-5:]"
   ]
  },
  {
   "cell_type": "code",
   "execution_count": 79,
   "id": "5c3114cd-eb26-4d7f-b07d-234b535aa80c",
   "metadata": {},
   "outputs": [
    {
     "data": {
      "text/plain": [
       "array([ 5, 10, 15, 20])"
      ]
     },
     "execution_count": 79,
     "metadata": {},
     "output_type": "execute_result"
    }
   ],
   "source": [
    "#slice out 5,10,15,20:\n",
    "arr13[4:20:5]"
   ]
  },
  {
   "cell_type": "markdown",
   "id": "521d12d1-bf70-475c-9dfb-b7bff249c1e9",
   "metadata": {},
   "source": [
    "* The slicing syntax- start:stop:step\n",
    "* skip=step-1"
   ]
  },
  {
   "cell_type": "code",
   "execution_count": 81,
   "id": "7ed8d4bf-5533-40f0-af6b-fc8068902ff0",
   "metadata": {},
   "outputs": [
    {
     "data": {
      "text/plain": [
       "array([1, 3, 5, 7, 9])"
      ]
     },
     "execution_count": 81,
     "metadata": {},
     "output_type": "execute_result"
    }
   ],
   "source": [
    "arr14=np.arange(1,10,2)\n",
    "arr14"
   ]
  },
  {
   "cell_type": "code",
   "execution_count": 83,
   "id": "e8ab031e-a9c4-43a6-a90e-66b949b48846",
   "metadata": {},
   "outputs": [
    {
     "data": {
      "text/plain": [
       "array([ 5, 10, 15, 20])"
      ]
     },
     "execution_count": 83,
     "metadata": {},
     "output_type": "execute_result"
    }
   ],
   "source": [
    "arr15=np.arange(5,21,5)\n",
    "arr15"
   ]
  },
  {
   "cell_type": "code",
   "execution_count": 85,
   "id": "ce0af739-3150-4e33-9960-7986ed85e55a",
   "metadata": {},
   "outputs": [
    {
     "data": {
      "text/plain": [
       "array([[ 1,  2,  3,  4],\n",
       "       [ 5,  6,  7,  8],\n",
       "       [ 9, 10, 11, 12],\n",
       "       [13, 14, 15, 16]])"
      ]
     },
     "execution_count": 85,
     "metadata": {},
     "output_type": "execute_result"
    }
   ],
   "source": [
    "arr16=np.arange(1,17,1).reshape(4,4)\n",
    "arr16\n"
   ]
  },
  {
   "cell_type": "code",
   "execution_count": 87,
   "id": "ae60894f-4497-4639-a432-107f9241bc8f",
   "metadata": {},
   "outputs": [
    {
     "data": {
      "text/plain": [
       "10"
      ]
     },
     "execution_count": 87,
     "metadata": {},
     "output_type": "execute_result"
    }
   ],
   "source": [
    "arr16[2,1]"
   ]
  },
  {
   "cell_type": "code",
   "execution_count": 117,
   "id": "95a49e89-6f75-445d-9be4-9e6c1d6d1a32",
   "metadata": {},
   "outputs": [],
   "source": [
    "###Q) slice out elements of the fourth column"
   ]
  },
  {
   "cell_type": "code",
   "execution_count": 101,
   "id": "5050aec3-96bc-4dcc-b15c-215bd4ca9a63",
   "metadata": {},
   "outputs": [
    {
     "data": {
      "text/plain": [
       "array([ 4,  8, 12, 16])"
      ]
     },
     "execution_count": 101,
     "metadata": {},
     "output_type": "execute_result"
    }
   ],
   "source": [
    "arr16[:,3]"
   ]
  },
  {
   "cell_type": "code",
   "execution_count": 91,
   "id": "15fb9406-f414-4678-b3e3-fb368f012b24",
   "metadata": {},
   "outputs": [],
   "source": [
    "###Q)slice out the 1st and 3rd rows of arr16"
   ]
  },
  {
   "cell_type": "code",
   "execution_count": 103,
   "id": "1af2607c-31ad-4c94-bc66-4e9b3db71a6b",
   "metadata": {},
   "outputs": [
    {
     "data": {
      "text/plain": [
       "array([[ 1,  2,  3,  4],\n",
       "       [ 9, 10, 11, 12]])"
      ]
     },
     "execution_count": 103,
     "metadata": {},
     "output_type": "execute_result"
    }
   ],
   "source": [
    "arr16[0:3:2,:]"
   ]
  },
  {
   "cell_type": "code",
   "execution_count": 105,
   "id": "0dff3f2c-4586-407f-ab94-5bfd27b0f435",
   "metadata": {},
   "outputs": [
    {
     "data": {
      "text/plain": [
       "array([[ 1,  2,  3,  4],\n",
       "       [ 9, 10, 11, 12]])"
      ]
     },
     "execution_count": 105,
     "metadata": {},
     "output_type": "execute_result"
    }
   ],
   "source": [
    "arr16[[0,2],:]"
   ]
  },
  {
   "cell_type": "code",
   "execution_count": 93,
   "id": "1a3d5b69-f86c-48f6-b1b4-6668fdd9c654",
   "metadata": {},
   "outputs": [],
   "source": [
    "###Q)reverse the rows of arr16"
   ]
  },
  {
   "cell_type": "code",
   "execution_count": 107,
   "id": "dc0115ba-e0ae-4ad5-957e-0d8af0fe4cc9",
   "metadata": {},
   "outputs": [
    {
     "data": {
      "text/plain": [
       "array([[13, 14, 15, 16],\n",
       "       [ 9, 10, 11, 12],\n",
       "       [ 5,  6,  7,  8],\n",
       "       [ 1,  2,  3,  4]])"
      ]
     },
     "execution_count": 107,
     "metadata": {},
     "output_type": "execute_result"
    }
   ],
   "source": [
    "arr16[::-1,:]"
   ]
  },
  {
   "cell_type": "code",
   "execution_count": 95,
   "id": "4586107c-934f-4dd3-9335-b224abc58ead",
   "metadata": {},
   "outputs": [],
   "source": [
    "###Q) reverse all columns of arr16"
   ]
  },
  {
   "cell_type": "code",
   "execution_count": 109,
   "id": "57d9ce95-c858-4529-9591-afb7a678fc08",
   "metadata": {},
   "outputs": [
    {
     "data": {
      "text/plain": [
       "array([[ 4,  3,  2,  1],\n",
       "       [ 8,  7,  6,  5],\n",
       "       [12, 11, 10,  9],\n",
       "       [16, 15, 14, 13]])"
      ]
     },
     "execution_count": 109,
     "metadata": {},
     "output_type": "execute_result"
    }
   ],
   "source": [
    "arr16[:,::-1]"
   ]
  },
  {
   "cell_type": "code",
   "execution_count": 97,
   "id": "50671297-0729-43eb-9ac3-5dca1539556f",
   "metadata": {},
   "outputs": [],
   "source": [
    "###Q)slice the values 10,11,12 from arr16"
   ]
  },
  {
   "cell_type": "code",
   "execution_count": 111,
   "id": "632cb488-ab9a-40f3-9876-4b652f736c02",
   "metadata": {},
   "outputs": [
    {
     "data": {
      "text/plain": [
       "array([10, 11, 12])"
      ]
     },
     "execution_count": 111,
     "metadata": {},
     "output_type": "execute_result"
    }
   ],
   "source": [
    "arr16[2,1:]"
   ]
  },
  {
   "cell_type": "code",
   "execution_count": 99,
   "id": "04127c5e-f8c4-4690-bf67-19901bd4aa9c",
   "metadata": {},
   "outputs": [],
   "source": [
    "###Q)slice elements 8,12 from arr16"
   ]
  },
  {
   "cell_type": "code",
   "execution_count": 113,
   "id": "84f27771-de53-4077-a8fe-a7c353e53b39",
   "metadata": {},
   "outputs": [
    {
     "data": {
      "text/plain": [
       "array([ 8, 12])"
      ]
     },
     "execution_count": 113,
     "metadata": {},
     "output_type": "execute_result"
    }
   ],
   "source": [
    "arr16[1:3,3]"
   ]
  },
  {
   "cell_type": "code",
   "execution_count": 115,
   "id": "0308fd80-d34d-4443-a040-c4851f7d0884",
   "metadata": {},
   "outputs": [
    {
     "data": {
      "text/plain": [
       "array([ 8, 12])"
      ]
     },
     "execution_count": 115,
     "metadata": {},
     "output_type": "execute_result"
    }
   ],
   "source": [
    "arr16[[1,2],3]"
   ]
  },
  {
   "cell_type": "code",
   "execution_count": 119,
   "id": "408736f4-7c02-4318-9536-0c36e6c8ce63",
   "metadata": {},
   "outputs": [],
   "source": [
    "list2=[9,5,2,8,4]\n"
   ]
  },
  {
   "cell_type": "code",
   "execution_count": 121,
   "id": "33820cb4-dfbc-4822-949d-e61c8ddd5771",
   "metadata": {},
   "outputs": [
    {
     "data": {
      "text/plain": [
       "[4, 8, 2, 5, 9]"
      ]
     },
     "execution_count": 121,
     "metadata": {},
     "output_type": "execute_result"
    }
   ],
   "source": [
    "list2[::-1]"
   ]
  },
  {
   "cell_type": "code",
   "execution_count": 123,
   "id": "82cd18bc-d7dd-43f3-9971-72ef5eca106b",
   "metadata": {},
   "outputs": [
    {
     "data": {
      "text/plain": [
       "(7, 6, 4, 9)"
      ]
     },
     "execution_count": 123,
     "metadata": {},
     "output_type": "execute_result"
    }
   ],
   "source": [
    "tup12=(9,4,6,7)\n",
    "tup12[::-1]"
   ]
  },
  {
   "cell_type": "code",
   "execution_count": 1,
   "id": "f41af124-da50-47cf-aa5b-90908427e495",
   "metadata": {},
   "outputs": [],
   "source": [
    "import numpy as np"
   ]
  },
  {
   "cell_type": "code",
   "execution_count": 7,
   "id": "09101821-78af-4a68-8ab7-65570d31c103",
   "metadata": {},
   "outputs": [
    {
     "name": "stdout",
     "output_type": "stream",
     "text": [
      "[[ 5  6  7]\n",
      " [ 7  8  9]\n",
      " [10 11 12]\n",
      " [13 16 18]]\n",
      "(4, 3)\n"
     ]
    }
   ],
   "source": [
    "ar30=np.array([[5,6,7],[7,8,9],[10,11,12],[13,16,18]])\n",
    "print(ar30)\n",
    "print(ar30.shape)"
   ]
  },
  {
   "cell_type": "code",
   "execution_count": 5,
   "id": "8d2c3074-abb0-48f3-9ee7-1ba9b755a31e",
   "metadata": {},
   "outputs": [],
   "source": [
    "### size of each 1D list gives us the no of columns in our 2D array,and the number of 1D lists we combine gives us the total number of rows in the \n",
    "### 2D array"
   ]
  },
  {
   "cell_type": "code",
   "execution_count": 9,
   "id": "9df9001e-b1c0-4ab2-b65f-1a7ba58712f9",
   "metadata": {},
   "outputs": [],
   "source": [
    "copy_ar30=ar30.copy()"
   ]
  },
  {
   "cell_type": "code",
   "execution_count": 11,
   "id": "62a2e846-fd38-4972-83b1-a09c4e98b45e",
   "metadata": {},
   "outputs": [
    {
     "data": {
      "text/plain": [
       "array([[ 5,  6,  7],\n",
       "       [ 7,  8,  9],\n",
       "       [10, 11, 12],\n",
       "       [13, 16, 18]])"
      ]
     },
     "execution_count": 11,
     "metadata": {},
     "output_type": "execute_result"
    }
   ],
   "source": [
    "copy_ar30"
   ]
  },
  {
   "cell_type": "code",
   "execution_count": 13,
   "id": "134d5fb9-2d50-4b3f-ad19-c000a4f5f56d",
   "metadata": {},
   "outputs": [],
   "source": [
    "copy_ar30[0,1]=60"
   ]
  },
  {
   "cell_type": "code",
   "execution_count": 15,
   "id": "f9a26f40-ef68-480b-ad6e-4fbb2168a9bb",
   "metadata": {},
   "outputs": [
    {
     "data": {
      "text/plain": [
       "array([[ 5, 60,  7],\n",
       "       [ 7,  8,  9],\n",
       "       [10, 11, 12],\n",
       "       [13, 16, 18]])"
      ]
     },
     "execution_count": 15,
     "metadata": {},
     "output_type": "execute_result"
    }
   ],
   "source": [
    "copy_ar30"
   ]
  },
  {
   "cell_type": "code",
   "execution_count": 17,
   "id": "6c39bde2-690a-4c87-82bc-d5bc5e925e0e",
   "metadata": {},
   "outputs": [
    {
     "data": {
      "text/plain": [
       "array([[ 5,  6,  7],\n",
       "       [ 7,  8,  9],\n",
       "       [10, 11, 12],\n",
       "       [13, 16, 18]])"
      ]
     },
     "execution_count": 17,
     "metadata": {},
     "output_type": "execute_result"
    }
   ],
   "source": [
    "ar30"
   ]
  },
  {
   "cell_type": "code",
   "execution_count": 19,
   "id": "418ed27b-6008-4344-bee7-8d38cae70e7e",
   "metadata": {},
   "outputs": [
    {
     "data": {
      "text/plain": [
       "(array([8, 9]), 11)"
      ]
     },
     "execution_count": 19,
     "metadata": {},
     "output_type": "execute_result"
    }
   ],
   "source": [
    "ar30[1,1:],ar30[2,1]"
   ]
  },
  {
   "cell_type": "code",
   "execution_count": 21,
   "id": "1b395a08-7b5c-440f-98c9-36b5618fbc6f",
   "metadata": {},
   "outputs": [
    {
     "name": "stdout",
     "output_type": "stream",
     "text": [
      "8 9 11\n"
     ]
    }
   ],
   "source": [
    "print(copy_ar30[1,1],copy_ar30[1,2],copy_ar30[2,1])"
   ]
  },
  {
   "cell_type": "markdown",
   "id": "536b11d3-6471-416a-813c-71ac2036007a",
   "metadata": {},
   "source": [
    "#### Methods of the Array Class:"
   ]
  },
  {
   "cell_type": "code",
   "execution_count": 24,
   "id": "aa0f3717-713b-4466-9d33-c1f7ac9318bc",
   "metadata": {},
   "outputs": [],
   "source": [
    "aar6=np.array([[0,2],[2,3]])\n",
    "aar7=np.array([[4,5],[6,7]])"
   ]
  },
  {
   "cell_type": "code",
   "execution_count": 26,
   "id": "8d00f154-b78a-47e6-b70f-fe1f270a7d0f",
   "metadata": {},
   "outputs": [
    {
     "data": {
      "text/plain": [
       "array([[0, 2],\n",
       "       [2, 3]])"
      ]
     },
     "execution_count": 26,
     "metadata": {},
     "output_type": "execute_result"
    }
   ],
   "source": [
    "aar6"
   ]
  },
  {
   "cell_type": "code",
   "execution_count": 28,
   "id": "97a0aaf0-10e5-4f57-b36b-7810e336b2f4",
   "metadata": {},
   "outputs": [
    {
     "data": {
      "text/plain": [
       "array([[4, 5],\n",
       "       [6, 7]])"
      ]
     },
     "execution_count": 28,
     "metadata": {},
     "output_type": "execute_result"
    }
   ],
   "source": [
    "aar7"
   ]
  },
  {
   "cell_type": "code",
   "execution_count": 34,
   "id": "3a2c9101-fac2-41a9-888f-baed1e2acfb9",
   "metadata": {},
   "outputs": [
    {
     "data": {
      "text/plain": [
       "array([[0, 2],\n",
       "       [2, 3],\n",
       "       [4, 5],\n",
       "       [6, 7]])"
      ]
     },
     "execution_count": 34,
     "metadata": {},
     "output_type": "execute_result"
    }
   ],
   "source": [
    "res1=np.concatenate((aar6,aar7),0) # when we have equal columns but unequal rows\n",
    "res1"
   ]
  },
  {
   "cell_type": "code",
   "execution_count": 36,
   "id": "5229d309-72e1-437f-be63-ac17614c4201",
   "metadata": {},
   "outputs": [
    {
     "data": {
      "text/plain": [
       "array([[0, 2, 4, 5],\n",
       "       [2, 3, 6, 7]])"
      ]
     },
     "execution_count": 36,
     "metadata": {},
     "output_type": "execute_result"
    }
   ],
   "source": [
    "res2=np.concatenate((aar6,aar7),1)   #when we have equal rows in both arrays but unequal columns\n",
    "res2"
   ]
  },
  {
   "cell_type": "markdown",
   "id": "3a8db075-3021-492c-8a4f-b029740999f3",
   "metadata": {},
   "source": [
    "### axis=0 (default axis,implies rows) and axis=1(other axis,implies columns)"
   ]
  },
  {
   "cell_type": "code",
   "execution_count": 41,
   "id": "c8596d37-d8c9-40b0-9085-940b07fb5b20",
   "metadata": {},
   "outputs": [
    {
     "data": {
      "text/plain": [
       "array([ 3,  4,  9, 12, 45, 88, 90])"
      ]
     },
     "execution_count": 41,
     "metadata": {},
     "output_type": "execute_result"
    }
   ],
   "source": [
    "arr8=np.array([4,9,12,88,3,90,45])\n",
    "sorted_array=np.sort(arr8)\n",
    "sorted_array"
   ]
  },
  {
   "cell_type": "code",
   "execution_count": 43,
   "id": "3448be17-de55-44ca-b5bd-bb9380e08ceb",
   "metadata": {},
   "outputs": [
    {
     "data": {
      "text/plain": [
       "array([4, 0, 1, 2, 6, 3, 5], dtype=int64)"
      ]
     },
     "execution_count": 43,
     "metadata": {},
     "output_type": "execute_result"
    }
   ],
   "source": [
    "sorted_argsort=np.argsort(arr8) #returns the index positions of the sorted data\n",
    "sorted_argsort"
   ]
  },
  {
   "cell_type": "code",
   "execution_count": 45,
   "id": "efe2e47e-d935-4748-9a15-01b61f01b915",
   "metadata": {},
   "outputs": [
    {
     "data": {
      "text/plain": [
       "5"
      ]
     },
     "execution_count": 45,
     "metadata": {},
     "output_type": "execute_result"
    }
   ],
   "source": [
    "arg_max=np.argmax(arr8) #returns the index position of the max value.\n",
    "arg_max"
   ]
  },
  {
   "cell_type": "code",
   "execution_count": 47,
   "id": "bfe59921-58bc-484a-a6f4-66421b082199",
   "metadata": {},
   "outputs": [
    {
     "data": {
      "text/plain": [
       "90"
      ]
     },
     "execution_count": 47,
     "metadata": {},
     "output_type": "execute_result"
    }
   ],
   "source": [
    "max1=np.max(arr8)\n",
    "max1"
   ]
  },
  {
   "cell_type": "code",
   "execution_count": 49,
   "id": "a08a2714-71e2-433f-b611-4d7a4786d282",
   "metadata": {},
   "outputs": [
    {
     "data": {
      "text/plain": [
       "4"
      ]
     },
     "execution_count": 49,
     "metadata": {},
     "output_type": "execute_result"
    }
   ],
   "source": [
    "arg_min=np.argmin(arr8)#returns the index position of the min value.\n",
    "arg_min"
   ]
  },
  {
   "cell_type": "code",
   "execution_count": 51,
   "id": "45d8652d-7d75-4c5f-8af3-85a258fa8ec2",
   "metadata": {},
   "outputs": [
    {
     "data": {
      "text/plain": [
       "3"
      ]
     },
     "execution_count": 51,
     "metadata": {},
     "output_type": "execute_result"
    }
   ],
   "source": [
    "min1=np.min(arr8)\n",
    "min1"
   ]
  },
  {
   "cell_type": "markdown",
   "id": "6c40217f-2a6b-43cd-b1dd-8ad291e3b46d",
   "metadata": {},
   "source": [
    "### where function in numpy works on two arrays,it returns a boolean value of true/false when a condition imposed on one of the array is satisfied. if its true,element of the main array is returned,but if the condition applied on the main array evaluates to a false,element of the secondary array is returned."
   ]
  },
  {
   "cell_type": "code",
   "execution_count": 54,
   "id": "fd4a6573-bcf8-45a6-a3cf-61293ae6fdce",
   "metadata": {},
   "outputs": [
    {
     "data": {
      "text/plain": [
       "array([ 1,  2, 17, 21])"
      ]
     },
     "execution_count": 54,
     "metadata": {},
     "output_type": "execute_result"
    }
   ],
   "source": [
    "x=np.array([1,2,3,4])\n",
    "y=np.array([10,13,17,21])\n",
    "\n",
    "cond=x<3\n",
    "\n",
    "result=np.where(cond,x,y)\n",
    "result"
   ]
  },
  {
   "cell_type": "code",
   "execution_count": 56,
   "id": "156318b4-2ac3-4202-ac10-3a9dd457175a",
   "metadata": {},
   "outputs": [
    {
     "data": {
      "text/plain": [
       "array([4, 0, 0, 0, 0])"
      ]
     },
     "execution_count": 56,
     "metadata": {},
     "output_type": "execute_result"
    }
   ],
   "source": [
    "a=np.array([4,5,6,7,8])\n",
    "result=np.where((a>2)&(a<5),a,0)\n",
    "result"
   ]
  },
  {
   "cell_type": "code",
   "execution_count": null,
   "id": "fae6f9a4-775b-4bb9-b988-30ce2a94a331",
   "metadata": {},
   "outputs": [],
   "source": []
  }
 ],
 "metadata": {
  "kernelspec": {
   "display_name": "Python [conda env:base] *",
   "language": "python",
   "name": "conda-base-py"
  },
  "language_info": {
   "codemirror_mode": {
    "name": "ipython",
    "version": 3
   },
   "file_extension": ".py",
   "mimetype": "text/x-python",
   "name": "python",
   "nbconvert_exporter": "python",
   "pygments_lexer": "ipython3",
   "version": "3.12.7"
  }
 },
 "nbformat": 4,
 "nbformat_minor": 5
}

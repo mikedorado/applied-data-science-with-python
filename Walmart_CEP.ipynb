{
 "cells": [
  {
   "cell_type": "markdown",
   "id": "04f0bc1c-9a34-421f-adf2-10f8171a450a",
   "metadata": {},
   "source": [
    "## Course End Project\n",
    "## Retail Analysis with Walmart Data\n",
    "### By: Mike Dorado\n",
    "\n",
    "### Problem Statement:\n",
    "\n",
    "One of the leading retail stores in the US, Walmart, would like to predict the sales and demand accurately. There are certain events and holidays which impact sales on each day. There are sales data available for 45 stores of Walmart. The business is facing a challenge due to unforeseen demands and runs out of stock some times, due to the inappropriate machine learning algorithm. An ideal ML algorithm will predict demand accurately and ingest factors like economic conditions including CPI, Unemployment Index, etc.\n",
    "\n",
    "Walmart runs several promotional markdown events throughout the year. These markdowns precede prominent holidays, the four largest of all, which are the Super Bowl, Labour Day, Thanksgiving, and Christmas. The weeks including these holidays are weighted five times higher in the evaluation than non-holiday weeks. Part of the challenge presented by this competition is modeling the effects of markdowns on these holiday weeks in the absence of complete/ideal historical data. Historical sales data for 45 Walmart stores located in different regions are available.\n"
   ]
  },
  {
   "cell_type": "code",
   "execution_count": 1,
   "id": "8a65edf4-59ae-4c23-a5b8-25fc41adf82d",
   "metadata": {},
   "outputs": [],
   "source": [
    "### Importing the packages\n",
    "import numpy as np\n",
    "import pandas as pd\n",
    "import matplotlib.pyplot as plt\n",
    "import seaborn as sns"
   ]
  },
  {
   "cell_type": "code",
   "execution_count": 2,
   "id": "4103a91c-d34b-4d70-be04-3afffb26b144",
   "metadata": {},
   "outputs": [
    {
     "data": {
      "text/html": [
       "<div>\n",
       "<style scoped>\n",
       "    .dataframe tbody tr th:only-of-type {\n",
       "        vertical-align: middle;\n",
       "    }\n",
       "\n",
       "    .dataframe tbody tr th {\n",
       "        vertical-align: top;\n",
       "    }\n",
       "\n",
       "    .dataframe thead th {\n",
       "        text-align: right;\n",
       "    }\n",
       "</style>\n",
       "<table border=\"1\" class=\"dataframe\">\n",
       "  <thead>\n",
       "    <tr style=\"text-align: right;\">\n",
       "      <th></th>\n",
       "      <th>Store</th>\n",
       "      <th>Date</th>\n",
       "      <th>Weekly_Sales</th>\n",
       "      <th>Holiday_Flag</th>\n",
       "      <th>Temperature</th>\n",
       "      <th>Fuel_Price</th>\n",
       "      <th>CPI</th>\n",
       "      <th>Unemployment</th>\n",
       "    </tr>\n",
       "  </thead>\n",
       "  <tbody>\n",
       "    <tr>\n",
       "      <th>0</th>\n",
       "      <td>1</td>\n",
       "      <td>05-02-2010</td>\n",
       "      <td>1643690.90</td>\n",
       "      <td>0</td>\n",
       "      <td>42.31</td>\n",
       "      <td>2.572</td>\n",
       "      <td>211.096358</td>\n",
       "      <td>8.106</td>\n",
       "    </tr>\n",
       "    <tr>\n",
       "      <th>1</th>\n",
       "      <td>1</td>\n",
       "      <td>12-02-2010</td>\n",
       "      <td>1641957.44</td>\n",
       "      <td>1</td>\n",
       "      <td>38.51</td>\n",
       "      <td>2.548</td>\n",
       "      <td>211.242170</td>\n",
       "      <td>8.106</td>\n",
       "    </tr>\n",
       "    <tr>\n",
       "      <th>2</th>\n",
       "      <td>1</td>\n",
       "      <td>19-02-2010</td>\n",
       "      <td>1611968.17</td>\n",
       "      <td>0</td>\n",
       "      <td>39.93</td>\n",
       "      <td>2.514</td>\n",
       "      <td>211.289143</td>\n",
       "      <td>8.106</td>\n",
       "    </tr>\n",
       "    <tr>\n",
       "      <th>3</th>\n",
       "      <td>1</td>\n",
       "      <td>26-02-2010</td>\n",
       "      <td>1409727.59</td>\n",
       "      <td>0</td>\n",
       "      <td>46.63</td>\n",
       "      <td>2.561</td>\n",
       "      <td>211.319643</td>\n",
       "      <td>8.106</td>\n",
       "    </tr>\n",
       "    <tr>\n",
       "      <th>4</th>\n",
       "      <td>1</td>\n",
       "      <td>05-03-2010</td>\n",
       "      <td>1554806.68</td>\n",
       "      <td>0</td>\n",
       "      <td>46.50</td>\n",
       "      <td>2.625</td>\n",
       "      <td>211.350143</td>\n",
       "      <td>8.106</td>\n",
       "    </tr>\n",
       "  </tbody>\n",
       "</table>\n",
       "</div>"
      ],
      "text/plain": [
       "   Store        Date  Weekly_Sales  Holiday_Flag  Temperature  Fuel_Price  \\\n",
       "0      1  05-02-2010    1643690.90             0        42.31       2.572   \n",
       "1      1  12-02-2010    1641957.44             1        38.51       2.548   \n",
       "2      1  19-02-2010    1611968.17             0        39.93       2.514   \n",
       "3      1  26-02-2010    1409727.59             0        46.63       2.561   \n",
       "4      1  05-03-2010    1554806.68             0        46.50       2.625   \n",
       "\n",
       "          CPI  Unemployment  \n",
       "0  211.096358         8.106  \n",
       "1  211.242170         8.106  \n",
       "2  211.289143         8.106  \n",
       "3  211.319643         8.106  \n",
       "4  211.350143         8.106  "
      ]
     },
     "execution_count": 2,
     "metadata": {},
     "output_type": "execute_result"
    }
   ],
   "source": [
    "data=pd.read_csv('Walmart_Store_sales.csv')\n",
    "data.head()"
   ]
  },
  {
   "cell_type": "code",
   "execution_count": 3,
   "id": "55aba503-8eb4-4f9f-a43c-57b38cca25e8",
   "metadata": {},
   "outputs": [
    {
     "name": "stdout",
     "output_type": "stream",
     "text": [
      "<class 'pandas.core.frame.DataFrame'>\n",
      "RangeIndex: 6435 entries, 0 to 6434\n",
      "Data columns (total 8 columns):\n",
      " #   Column        Non-Null Count  Dtype  \n",
      "---  ------        --------------  -----  \n",
      " 0   Store         6435 non-null   int64  \n",
      " 1   Date          6435 non-null   object \n",
      " 2   Weekly_Sales  6435 non-null   float64\n",
      " 3   Holiday_Flag  6435 non-null   int64  \n",
      " 4   Temperature   6435 non-null   float64\n",
      " 5   Fuel_Price    6435 non-null   float64\n",
      " 6   CPI           6435 non-null   float64\n",
      " 7   Unemployment  6435 non-null   float64\n",
      "dtypes: float64(5), int64(2), object(1)\n",
      "memory usage: 402.3+ KB\n"
     ]
    }
   ],
   "source": [
    "data.info()"
   ]
  },
  {
   "cell_type": "code",
   "execution_count": 4,
   "id": "7ac04322-7eb5-4862-8e14-4ec9c4e4abe3",
   "metadata": {},
   "outputs": [
    {
     "data": {
      "text/plain": [
       "Store           0\n",
       "Date            0\n",
       "Weekly_Sales    0\n",
       "Holiday_Flag    0\n",
       "Temperature     0\n",
       "Fuel_Price      0\n",
       "CPI             0\n",
       "Unemployment    0\n",
       "dtype: int64"
      ]
     },
     "execution_count": 4,
     "metadata": {},
     "output_type": "execute_result"
    }
   ],
   "source": [
    "data.isna().sum()"
   ]
  },
  {
   "cell_type": "code",
   "execution_count": 5,
   "id": "f8951c66-a461-4490-bc47-65602e31e2e6",
   "metadata": {},
   "outputs": [
    {
     "data": {
      "text/plain": [
       "0"
      ]
     },
     "execution_count": 5,
     "metadata": {},
     "output_type": "execute_result"
    }
   ],
   "source": [
    "data.duplicated().sum()"
   ]
  },
  {
   "cell_type": "code",
   "execution_count": 6,
   "id": "2c1a6b4c-c57e-45bd-8e58-dbf7379eeb96",
   "metadata": {},
   "outputs": [],
   "source": [
    "### Convert data format to datetime\n",
    "from datetime import datetime\n",
    "data['Date']=pd.to_datetime(data['Date'],dayfirst=True)"
   ]
  },
  {
   "cell_type": "code",
   "execution_count": 7,
   "id": "7f78c154-82cb-472c-b0ee-3facb8f9d0fc",
   "metadata": {},
   "outputs": [
    {
     "data": {
      "text/plain": [
       "Store                    int64\n",
       "Date            datetime64[ns]\n",
       "Weekly_Sales           float64\n",
       "Holiday_Flag             int64\n",
       "Temperature            float64\n",
       "Fuel_Price             float64\n",
       "CPI                    float64\n",
       "Unemployment           float64\n",
       "dtype: object"
      ]
     },
     "execution_count": 7,
     "metadata": {},
     "output_type": "execute_result"
    }
   ],
   "source": [
    "data.dtypes"
   ]
  },
  {
   "cell_type": "code",
   "execution_count": 8,
   "id": "adfaa6e6-2809-4244-9f92-841e3bf548db",
   "metadata": {},
   "outputs": [],
   "source": [
    "total_sales=data.groupby('Store')['Weekly_Sales'].sum().round().sort_values(ascending=False)"
   ]
  },
  {
   "cell_type": "code",
   "execution_count": 9,
   "id": "f1801695-4cb4-4a2f-9393-f95f04dc4187",
   "metadata": {},
   "outputs": [
    {
     "data": {
      "text/plain": [
       "Store\n",
       "20    301397792.0\n",
       "4     299543953.0\n",
       "Name: Weekly_Sales, dtype: float64"
      ]
     },
     "execution_count": 9,
     "metadata": {},
     "output_type": "execute_result"
    }
   ],
   "source": [
    "total_sales.head(2)"
   ]
  },
  {
   "cell_type": "markdown",
   "id": "38126f90-760c-40a8-9cb6-bc999ac935cd",
   "metadata": {},
   "source": [
    "#### Store ID # 20 - highest sales"
   ]
  },
  {
   "cell_type": "code",
   "execution_count": 10,
   "id": "88c9b641-71a1-4242-a738-7be6dc1c128c",
   "metadata": {},
   "outputs": [
    {
     "data": {
      "text/html": [
       "<div>\n",
       "<style scoped>\n",
       "    .dataframe tbody tr th:only-of-type {\n",
       "        vertical-align: middle;\n",
       "    }\n",
       "\n",
       "    .dataframe tbody tr th {\n",
       "        vertical-align: top;\n",
       "    }\n",
       "\n",
       "    .dataframe thead th {\n",
       "        text-align: right;\n",
       "    }\n",
       "</style>\n",
       "<table border=\"1\" class=\"dataframe\">\n",
       "  <thead>\n",
       "    <tr style=\"text-align: right;\">\n",
       "      <th></th>\n",
       "      <th>Weekly_Sales</th>\n",
       "    </tr>\n",
       "    <tr>\n",
       "      <th>Store</th>\n",
       "      <th></th>\n",
       "    </tr>\n",
       "  </thead>\n",
       "  <tbody>\n",
       "    <tr>\n",
       "      <th>33</th>\n",
       "      <td>37160222.0</td>\n",
       "    </tr>\n",
       "  </tbody>\n",
       "</table>\n",
       "</div>"
      ],
      "text/plain": [
       "       Weekly_Sales\n",
       "Store              \n",
       "33       37160222.0"
      ]
     },
     "execution_count": 10,
     "metadata": {},
     "output_type": "execute_result"
    }
   ],
   "source": [
    "pd.DataFrame(total_sales).tail(1)"
   ]
  },
  {
   "cell_type": "markdown",
   "id": "095b8033-c68f-46af-80ca-3e0ef0789026",
   "metadata": {},
   "source": [
    "#### Store ID # 33 - lowest sales"
   ]
  },
  {
   "cell_type": "markdown",
   "id": "7dff72f1-48e7-4d15-b9fb-3cb701651954",
   "metadata": {
    "tags": []
   },
   "source": [
    "#### Which store has the maximum standard diviation - i.e., the sales vary a lot. Also, find out the coefficient of mean to the standard diviation"
   ]
  },
  {
   "cell_type": "code",
   "execution_count": 11,
   "id": "9c3c21c8-f0bc-4a6e-888b-97324818605d",
   "metadata": {},
   "outputs": [],
   "source": [
    "data_std=data.groupby('Store')['Weekly_Sales'].std().round().sort_values(ascending=0)"
   ]
  },
  {
   "cell_type": "code",
   "execution_count": 12,
   "id": "04239a2f-f415-41a2-8a06-8758364b4b9b",
   "metadata": {},
   "outputs": [
    {
     "data": {
      "text/html": [
       "<div>\n",
       "<style scoped>\n",
       "    .dataframe tbody tr th:only-of-type {\n",
       "        vertical-align: middle;\n",
       "    }\n",
       "\n",
       "    .dataframe tbody tr th {\n",
       "        vertical-align: top;\n",
       "    }\n",
       "\n",
       "    .dataframe thead th {\n",
       "        text-align: right;\n",
       "    }\n",
       "</style>\n",
       "<table border=\"1\" class=\"dataframe\">\n",
       "  <thead>\n",
       "    <tr style=\"text-align: right;\">\n",
       "      <th></th>\n",
       "      <th>Weekly_Sales</th>\n",
       "    </tr>\n",
       "    <tr>\n",
       "      <th>Store</th>\n",
       "      <th></th>\n",
       "    </tr>\n",
       "  </thead>\n",
       "  <tbody>\n",
       "    <tr>\n",
       "      <th>14</th>\n",
       "      <td>317570.0</td>\n",
       "    </tr>\n",
       "  </tbody>\n",
       "</table>\n",
       "</div>"
      ],
      "text/plain": [
       "       Weekly_Sales\n",
       "Store              \n",
       "14         317570.0"
      ]
     },
     "execution_count": 12,
     "metadata": {},
     "output_type": "execute_result"
    }
   ],
   "source": [
    "pd.DataFrame(data_std).head(1)"
   ]
  },
  {
   "cell_type": "markdown",
   "id": "d3205784-1d68-4cd8-9fbd-328066123d53",
   "metadata": {},
   "source": [
    "#### Store # 14 has the highest variation in sales"
   ]
  },
  {
   "cell_type": "code",
   "execution_count": 13,
   "id": "0979c248-3e19-427b-bf16-f6d4e3822342",
   "metadata": {},
   "outputs": [],
   "source": [
    "store14=data[data.Store==14].Weekly_Sales"
   ]
  },
  {
   "cell_type": "code",
   "execution_count": 14,
   "id": "0122a971-4d60-448e-bb2d-70a0bd34d82f",
   "metadata": {},
   "outputs": [
    {
     "data": {
      "text/plain": [
       "15.71"
      ]
     },
     "execution_count": 14,
     "metadata": {},
     "output_type": "execute_result"
    }
   ],
   "source": [
    "coefficient_of_variatition=store14.std()/store14.mean()*100\n",
    "coefficient_of_variatition.round(2)"
   ]
  },
  {
   "cell_type": "markdown",
   "id": "0bc6c464-8287-4787-ae71-45c20768e323",
   "metadata": {},
   "source": [
    "#### Coefficient of variatition for Store 14: 15.71%"
   ]
  },
  {
   "cell_type": "markdown",
   "id": "5149c030-610a-48a5-9f69-cb3b6611f37b",
   "metadata": {},
   "source": [
    "#### Which store/s has good quarterly growth rate in Q3'2012"
   ]
  },
  {
   "cell_type": "code",
   "execution_count": 15,
   "id": "b4e245e3-2d38-4f1d-84ce-80eadb6d6da1",
   "metadata": {},
   "outputs": [],
   "source": [
    "### Q2 Sales\n",
    "q2_sales=data[(data['Date']>='2012-04-01')&(data['Date']<='2012-06-30')].groupby('Store')['Weekly_Sales'].sum().round()\n",
    "q3_sales=data[(data['Date']>='2012-07-01')&(data['Date']<='2012-09-30')].groupby('Store')['Weekly_Sales'].sum().round()"
   ]
  },
  {
   "cell_type": "code",
   "execution_count": 16,
   "id": "2e762998-460b-4443-8fcd-3b6dc8caffd5",
   "metadata": {},
   "outputs": [
    {
     "data": {
      "text/html": [
       "<div>\n",
       "<style scoped>\n",
       "    .dataframe tbody tr th:only-of-type {\n",
       "        vertical-align: middle;\n",
       "    }\n",
       "\n",
       "    .dataframe tbody tr th {\n",
       "        vertical-align: top;\n",
       "    }\n",
       "\n",
       "    .dataframe thead th {\n",
       "        text-align: right;\n",
       "    }\n",
       "</style>\n",
       "<table border=\"1\" class=\"dataframe\">\n",
       "  <thead>\n",
       "    <tr style=\"text-align: right;\">\n",
       "      <th></th>\n",
       "      <th>Q2_Sales</th>\n",
       "      <th>Q3_Sales</th>\n",
       "      <th>Difference</th>\n",
       "      <th>Growth_Rate</th>\n",
       "    </tr>\n",
       "    <tr>\n",
       "      <th>Store</th>\n",
       "      <th></th>\n",
       "      <th></th>\n",
       "      <th></th>\n",
       "      <th></th>\n",
       "    </tr>\n",
       "  </thead>\n",
       "  <tbody>\n",
       "    <tr>\n",
       "      <th>7</th>\n",
       "      <td>7290859.0</td>\n",
       "      <td>8262787.0</td>\n",
       "      <td>971928.0</td>\n",
       "      <td>13.330775</td>\n",
       "    </tr>\n",
       "    <tr>\n",
       "      <th>16</th>\n",
       "      <td>6564336.0</td>\n",
       "      <td>7121542.0</td>\n",
       "      <td>557206.0</td>\n",
       "      <td>8.488383</td>\n",
       "    </tr>\n",
       "    <tr>\n",
       "      <th>35</th>\n",
       "      <td>10838313.0</td>\n",
       "      <td>11322421.0</td>\n",
       "      <td>484108.0</td>\n",
       "      <td>4.466636</td>\n",
       "    </tr>\n",
       "    <tr>\n",
       "      <th>26</th>\n",
       "      <td>13155336.0</td>\n",
       "      <td>13675692.0</td>\n",
       "      <td>520356.0</td>\n",
       "      <td>3.955475</td>\n",
       "    </tr>\n",
       "    <tr>\n",
       "      <th>39</th>\n",
       "      <td>20214128.0</td>\n",
       "      <td>20715116.0</td>\n",
       "      <td>500988.0</td>\n",
       "      <td>2.478405</td>\n",
       "    </tr>\n",
       "  </tbody>\n",
       "</table>\n",
       "</div>"
      ],
      "text/plain": [
       "         Q2_Sales    Q3_Sales  Difference  Growth_Rate\n",
       "Store                                                 \n",
       "7       7290859.0   8262787.0    971928.0    13.330775\n",
       "16      6564336.0   7121542.0    557206.0     8.488383\n",
       "35     10838313.0  11322421.0    484108.0     4.466636\n",
       "26     13155336.0  13675692.0    520356.0     3.955475\n",
       "39     20214128.0  20715116.0    500988.0     2.478405"
      ]
     },
     "execution_count": 16,
     "metadata": {},
     "output_type": "execute_result"
    }
   ],
   "source": [
    "pd.DataFrame({'Q2_Sales':q2_sales,'Q3_Sales':q3_sales,'Difference':(q3_sales-q2_sales),'Growth_Rate':(q3_sales-q2_sales)/q2_sales*100}).sort_values(by=['Growth_Rate'],ascending=0).head()"
   ]
  },
  {
   "cell_type": "markdown",
   "id": "0b78d5e3-9dc2-4677-aa95-a5f364e49174",
   "metadata": {},
   "source": [
    "#### Sales Impacts - which Holidays which have a higher sales than the mean sales in non-holiday season for all stores togather\n",
    "#### Holidays: \n",
    "##### Super_Bowl: 12-Feb-10, 11-Feb-11, 10-Feb-12, 8-Feb-13\n",
    "##### Labour_Day: 10-Sep-10, 9-Sep-11, 7-Sep-12, 6-Sep-13\n",
    "##### Thanksgiving: 26-Nov-10, 25-Nov-11, 23-Nov-12, 29-Nov-13\n",
    "##### Christmas: 31-Dec-10, 30-Dec-11, 28-Dec-12, 27-Dec-13"
   ]
  },
  {
   "cell_type": "code",
   "execution_count": 17,
   "id": "da7d4652-b274-4b99-971e-1965c4396653",
   "metadata": {},
   "outputs": [],
   "source": [
    "### Holiday Lists\n",
    "Super_Bowl=['12-2-2010', '11-2-2011', '10-2-2012', '8-2-2013']\n",
    "Labour_Day=['10-9-2010', '9-9-2011', '7-9-2012', '6-9-2013']\n",
    "Thanksgiving=['26-11-2010', '25-11-2011', '23-11-2012', '29-11-2013']\n",
    "Christmas=['31-12-2010', '30-12-2011', '28-12-2012', '27-12-2013']"
   ]
  },
  {
   "cell_type": "code",
   "execution_count": 20,
   "id": "53afbf73-08b5-4e47-8f77-09224767cfd0",
   "metadata": {},
   "outputs": [],
   "source": [
    "import warnings\n",
    "warnings.filterwarnings('ignore')\n",
    "\n",
    "# Convert to Datetime\n",
    "Super_Bowl=pd.to_datetime(Super_Bowl, dayfirst=True,format='mixed')\n",
    "Labour_Day=pd.to_datetime(Labour_Day, dayfirst=True,format='mixed')\n",
    "Thanksgiving=pd.to_datetime(Thanksgiving, dayfirst=True,format='mixed')\n",
    "Christmas=pd.to_datetime(Christmas, dayfirst=True,format='mixed')\n",
    "\n",
    "\n",
    "Super_Bowl_sales=round(data.loc[data.Date.isin(Super_Bowl)]['Weekly_Sales'].mean(),2)\n",
    "Labour_Day_sales=round(data.loc[data.Date.isin(Labour_Day)]['Weekly_Sales'].mean(),2)\n",
    "Thanksgiving_sales=round(data.loc[data.Date.isin(Thanksgiving)]['Weekly_Sales'].mean(),2)\n",
    "Christmas_sales=round(data.loc[data.Date.isin(Christmas)]['Weekly_Sales'].mean(),2)"
   ]
  },
  {
   "cell_type": "code",
   "execution_count": 21,
   "id": "5d3cfb09-f343-428b-89b6-f3bbd6e37b91",
   "metadata": {},
   "outputs": [
    {
     "data": {
      "text/plain": [
       "(1079127.99, 1042427.29, 1471273.43, 960833.11)"
      ]
     },
     "execution_count": 21,
     "metadata": {},
     "output_type": "execute_result"
    }
   ],
   "source": [
    "Super_Bowl_sales, Labour_Day_sales, Thanksgiving_sales, Christmas_sales\n"
   ]
  },
  {
   "cell_type": "code",
   "execution_count": null,
   "id": "e82a9cc7-fdb7-4000-a7ba-c1013e763ac6",
   "metadata": {},
   "outputs": [],
   "source": []
  }
 ],
 "metadata": {
  "kernelspec": {
   "display_name": "Python 3 [3.10]",
   "language": "python",
   "name": "python3"
  },
  "language_info": {
   "codemirror_mode": {
    "name": "ipython",
    "version": 3
   },
   "file_extension": ".py",
   "mimetype": "text/x-python",
   "name": "python",
   "nbconvert_exporter": "python",
   "pygments_lexer": "ipython3",
   "version": "3.10.2"
  }
 },
 "nbformat": 4,
 "nbformat_minor": 5
}

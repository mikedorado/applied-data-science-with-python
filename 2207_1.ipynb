{
 "cells": [
  {
   "cell_type": "code",
   "execution_count": null,
   "id": "e7e60655-1c45-4921-aa0c-5ad78045ac91",
   "metadata": {},
   "outputs": [],
   "source": [
    "#### Python is an interpreted language. (Hybrid programming language). Python has an inbuilt compiler which is called JIT(just in time compiler)."
   ]
  },
  {
   "cell_type": "markdown",
   "id": "b935da67-5329-4c2f-85e7-4dc4a536eb77",
   "metadata": {},
   "source": [
    "#### Basic Data Types-:\n",
    "* Integer\n",
    "* Float\n",
    "* Complex\n",
    "* Boolean"
   ]
  },
  {
   "cell_type": "markdown",
   "id": "3a89e668-caa9-40cd-b944-3beb364e67e3",
   "metadata": {},
   "source": [
    "#### Basic data Structures:\n",
    "* Strings\n",
    "* Lists\n",
    "* Tuples\n",
    "* Sets\n",
    "* Dictionaries\n"
   ]
  },
  {
   "cell_type": "code",
   "execution_count": null,
   "id": "b28ece60-5abe-436a-96ca-08678fa916ef",
   "metadata": {},
   "outputs": [],
   "source": [
    "x=10\n",
    "y=15.5\n",
    "z=5+2j\n",
    "a=True"
   ]
  },
  {
   "cell_type": "code",
   "execution_count": null,
   "id": "478d14a0-c937-4b5a-ab3b-275e9e20ca7b",
   "metadata": {},
   "outputs": [],
   "source": [
    "print(type(x))\n",
    "print(type(y))\n",
    "print(type(z))\n",
    "print(type(a))\n"
   ]
  },
  {
   "cell_type": "markdown",
   "id": "35c6a579-e492-4c30-999a-496f20577d81",
   "metadata": {},
   "source": [
    "### Tuples-: Contain ordered collection of elements,contains mixed data types,and are created using the () brackets or the tuple constructor. Tuples are immutable."
   ]
  },
  {
   "cell_type": "code",
   "execution_count": null,
   "id": "baa79843-9710-4b1d-bebd-8020546022c6",
   "metadata": {},
   "outputs": [],
   "source": [
    "t1=(16,17.5,5+2j,False)\n",
    "print(t1)\n",
    "print(type(t1))"
   ]
  },
  {
   "cell_type": "code",
   "execution_count": null,
   "id": "d96ccd8c-d3b5-4227-af82-f1ab71008fe9",
   "metadata": {},
   "outputs": [],
   "source": [
    "t2=tuple(t1)\n",
    "print(type(t2))"
   ]
  },
  {
   "cell_type": "code",
   "execution_count": null,
   "id": "76962ad7-6f6b-43f7-8994-25f2e326f0e3",
   "metadata": {},
   "outputs": [],
   "source": [
    "t1[2]"
   ]
  },
  {
   "cell_type": "code",
   "execution_count": null,
   "id": "12facd1b-e4b8-47b7-bba0-d747bb4edfa1",
   "metadata": {},
   "outputs": [],
   "source": [
    "t1[2]=80"
   ]
  },
  {
   "cell_type": "code",
   "execution_count": null,
   "id": "e0768970-ce12-46ab-b591-3f22195dd447",
   "metadata": {},
   "outputs": [],
   "source": [
    "t3=(5,17.5,5,9+2j,True,89.5,5)"
   ]
  },
  {
   "cell_type": "code",
   "execution_count": null,
   "id": "7283c85f-38ae-4913-bf6b-38bd08f3cb11",
   "metadata": {},
   "outputs": [],
   "source": [
    "t3.count(5)"
   ]
  },
  {
   "cell_type": "code",
   "execution_count": null,
   "id": "3d1f21b0-33fc-4302-8bf4-c29e44edd95d",
   "metadata": {},
   "outputs": [],
   "source": [
    "t3.index(True)"
   ]
  },
  {
   "cell_type": "code",
   "execution_count": null,
   "id": "69ceaebb-d9b2-4317-92f0-d6e0c6d4626a",
   "metadata": {},
   "outputs": [],
   "source": []
  }
 ],
 "metadata": {
  "kernelspec": {
   "display_name": "Python [conda env:base] *",
   "language": "python",
   "name": "conda-base-py"
  },
  "language_info": {
   "codemirror_mode": {
    "name": "ipython",
    "version": 3
   },
   "file_extension": ".py",
   "mimetype": "text/x-python",
   "name": "python",
   "nbconvert_exporter": "python",
   "pygments_lexer": "ipython3",
   "version": "3.12.7"
  }
 },
 "nbformat": 4,
 "nbformat_minor": 5
}

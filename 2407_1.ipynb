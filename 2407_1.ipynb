{
 "cells": [
  {
   "cell_type": "code",
   "execution_count": 1,
   "id": "e7e60655-1c45-4921-aa0c-5ad78045ac91",
   "metadata": {},
   "outputs": [],
   "source": [
    "#### Python is an interpreted language. (Hybrid programming language). Python has an inbuilt compiler which is called JIT(just in time compiler)."
   ]
  },
  {
   "cell_type": "markdown",
   "id": "b935da67-5329-4c2f-85e7-4dc4a536eb77",
   "metadata": {},
   "source": [
    "#### Basic Data Types-:\n",
    "* Integer\n",
    "* Float\n",
    "* Complex\n",
    "* Boolean"
   ]
  },
  {
   "cell_type": "markdown",
   "id": "3a89e668-caa9-40cd-b944-3beb364e67e3",
   "metadata": {},
   "source": [
    "#### Basic data Structures:\n",
    "* Strings\n",
    "* Lists\n",
    "* Tuples\n",
    "* Sets\n",
    "* Dictionaries\n"
   ]
  },
  {
   "cell_type": "code",
   "execution_count": 4,
   "id": "b28ece60-5abe-436a-96ca-08678fa916ef",
   "metadata": {},
   "outputs": [],
   "source": [
    "x=10\n",
    "y=15.5\n",
    "z=5+2j\n",
    "a=True"
   ]
  },
  {
   "cell_type": "code",
   "execution_count": 5,
   "id": "478d14a0-c937-4b5a-ab3b-275e9e20ca7b",
   "metadata": {},
   "outputs": [
    {
     "name": "stdout",
     "output_type": "stream",
     "text": [
      "<class 'int'>\n",
      "<class 'float'>\n",
      "<class 'complex'>\n",
      "<class 'bool'>\n"
     ]
    }
   ],
   "source": [
    "print(type(x))\n",
    "print(type(y))\n",
    "print(type(z))\n",
    "print(type(a))\n"
   ]
  },
  {
   "cell_type": "markdown",
   "id": "35c6a579-e492-4c30-999a-496f20577d81",
   "metadata": {},
   "source": [
    "### Tuples-: Contain ordered collection of elements,contains mixed data types,and are created using the () brackets or the tuple constructor. Tuples are immutable."
   ]
  },
  {
   "cell_type": "code",
   "execution_count": 7,
   "id": "baa79843-9710-4b1d-bebd-8020546022c6",
   "metadata": {},
   "outputs": [
    {
     "name": "stdout",
     "output_type": "stream",
     "text": [
      "(16, 17.5, (5+2j), False)\n",
      "<class 'tuple'>\n"
     ]
    }
   ],
   "source": [
    "t1=(16,17.5,5+2j,False)\n",
    "print(t1)\n",
    "print(type(t1))"
   ]
  },
  {
   "cell_type": "code",
   "execution_count": 8,
   "id": "d96ccd8c-d3b5-4227-af82-f1ab71008fe9",
   "metadata": {},
   "outputs": [
    {
     "name": "stdout",
     "output_type": "stream",
     "text": [
      "<class 'tuple'>\n"
     ]
    }
   ],
   "source": [
    "t2=tuple(t1)\n",
    "print(type(t2))"
   ]
  },
  {
   "cell_type": "code",
   "execution_count": 9,
   "id": "76962ad7-6f6b-43f7-8994-25f2e326f0e3",
   "metadata": {},
   "outputs": [
    {
     "data": {
      "text/plain": [
       "(5+2j)"
      ]
     },
     "execution_count": 9,
     "metadata": {},
     "output_type": "execute_result"
    }
   ],
   "source": [
    "t1[2]"
   ]
  },
  {
   "cell_type": "code",
   "execution_count": 10,
   "id": "12facd1b-e4b8-47b7-bba0-d747bb4edfa1",
   "metadata": {},
   "outputs": [
    {
     "ename": "TypeError",
     "evalue": "'tuple' object does not support item assignment",
     "output_type": "error",
     "traceback": [
      "\u001b[1;31m---------------------------------------------------------------------------\u001b[0m",
      "\u001b[1;31mTypeError\u001b[0m                                 Traceback (most recent call last)",
      "Cell \u001b[1;32mIn[10], line 1\u001b[0m\n\u001b[1;32m----> 1\u001b[0m t1[\u001b[38;5;241m2\u001b[39m]\u001b[38;5;241m=\u001b[39m\u001b[38;5;241m80\u001b[39m\n",
      "\u001b[1;31mTypeError\u001b[0m: 'tuple' object does not support item assignment"
     ]
    }
   ],
   "source": [
    "t1[2]=80"
   ]
  },
  {
   "cell_type": "code",
   "execution_count": 81,
   "id": "e0768970-ce12-46ab-b591-3f22195dd447",
   "metadata": {},
   "outputs": [],
   "source": [
    "t3=(5,17.5,5,9+2j,True,89.5,5)"
   ]
  },
  {
   "cell_type": "code",
   "execution_count": 83,
   "id": "7283c85f-38ae-4913-bf6b-38bd08f3cb11",
   "metadata": {},
   "outputs": [
    {
     "data": {
      "text/plain": [
       "3"
      ]
     },
     "execution_count": 83,
     "metadata": {},
     "output_type": "execute_result"
    }
   ],
   "source": [
    "t3.count(5)"
   ]
  },
  {
   "cell_type": "code",
   "execution_count": 85,
   "id": "3d1f21b0-33fc-4302-8bf4-c29e44edd95d",
   "metadata": {},
   "outputs": [
    {
     "data": {
      "text/plain": [
       "4"
      ]
     },
     "execution_count": 85,
     "metadata": {},
     "output_type": "execute_result"
    }
   ],
   "source": [
    "t3.index(True)"
   ]
  },
  {
   "cell_type": "markdown",
   "id": "8482e105-e1fe-4699-9fb5-fbeb79c398e2",
   "metadata": {},
   "source": [
    "#### Strings-:"
   ]
  },
  {
   "cell_type": "code",
   "execution_count": 88,
   "id": "29de4e16-e679-4563-aeae-7d73879e091b",
   "metadata": {},
   "outputs": [
    {
     "name": "stdout",
     "output_type": "stream",
     "text": [
      "<class 'str'>\n"
     ]
    }
   ],
   "source": [
    "a1='78'\n",
    "print(type(a1))"
   ]
  },
  {
   "cell_type": "code",
   "execution_count": 90,
   "id": "1795535e-3b24-4737-a682-c12fb11d2480",
   "metadata": {},
   "outputs": [
    {
     "data": {
      "text/plain": [
       "'Simplilearn'"
      ]
     },
     "execution_count": 90,
     "metadata": {},
     "output_type": "execute_result"
    }
   ],
   "source": [
    "a2='Simplilearn'\n",
    "a2"
   ]
  },
  {
   "cell_type": "markdown",
   "id": "cf85e862-5f41-4f5c-84dd-4cf6901fdb4e",
   "metadata": {},
   "source": [
    "* positive indexes are read from the beginning to the end. it starts with 0. On the other hand,negetive indexes are read from the end to the beginning and starts with -1.Negetive indexes are used to fetch elements from the bottom."
   ]
  },
  {
   "cell_type": "code",
   "execution_count": 93,
   "id": "b03d4a62-bee9-446f-a7c8-dcd93655da13",
   "metadata": {},
   "outputs": [
    {
     "data": {
      "text/plain": [
       "'a'"
      ]
     },
     "execution_count": 93,
     "metadata": {},
     "output_type": "execute_result"
    }
   ],
   "source": [
    "a2[-3]"
   ]
  },
  {
   "cell_type": "code",
   "execution_count": 95,
   "id": "806ee099-ed54-4141-a67f-8aec5f044282",
   "metadata": {},
   "outputs": [
    {
     "data": {
      "text/plain": [
       "'a'"
      ]
     },
     "execution_count": 95,
     "metadata": {},
     "output_type": "execute_result"
    }
   ],
   "source": [
    "a2[8]"
   ]
  },
  {
   "cell_type": "code",
   "execution_count": 97,
   "id": "e14a83c8-115d-4c7d-a470-b936c30e5beb",
   "metadata": {},
   "outputs": [
    {
     "data": {
      "text/plain": [
       "'lear'"
      ]
     },
     "execution_count": 97,
     "metadata": {},
     "output_type": "execute_result"
    }
   ],
   "source": [
    "##slice the last 5 elements of a2\n",
    "a2[6:10]"
   ]
  },
  {
   "cell_type": "code",
   "execution_count": 99,
   "id": "f0cdf621-5734-41fc-b494-a95c5cb7f067",
   "metadata": {},
   "outputs": [
    {
     "data": {
      "text/plain": [
       "'learn'"
      ]
     },
     "execution_count": 99,
     "metadata": {},
     "output_type": "execute_result"
    }
   ],
   "source": [
    "a2[6:]"
   ]
  },
  {
   "cell_type": "code",
   "execution_count": 101,
   "id": "2aa252b5-2d44-41ba-95ca-789240dc2cc6",
   "metadata": {},
   "outputs": [
    {
     "data": {
      "text/plain": [
       "'learn'"
      ]
     },
     "execution_count": 101,
     "metadata": {},
     "output_type": "execute_result"
    }
   ],
   "source": [
    "a2[-5:]"
   ]
  },
  {
   "cell_type": "code",
   "execution_count": 103,
   "id": "de5b1db6-e4ae-469d-b0c4-74d57c055410",
   "metadata": {},
   "outputs": [],
   "source": [
    "a3='''This is the first session on python,\n",
    "we are going through the basics'''"
   ]
  },
  {
   "cell_type": "code",
   "execution_count": 105,
   "id": "75f50e33-9798-4f13-8cfd-9156afbc59cc",
   "metadata": {},
   "outputs": [
    {
     "name": "stdout",
     "output_type": "stream",
     "text": [
      "<class 'str'>\n"
     ]
    }
   ],
   "source": [
    "print(type(a3))"
   ]
  },
  {
   "cell_type": "code",
   "execution_count": 107,
   "id": "01a6f095-e799-4fab-9ade-73be5ecaa3d4",
   "metadata": {},
   "outputs": [],
   "source": [
    "### Strings objects are created using a single or double quote. \n",
    "###Multiline string values need to be enclosed in 3 double/single quotes to qualify as a string object"
   ]
  },
  {
   "cell_type": "code",
   "execution_count": 109,
   "id": "a3c0724d-5285-4d81-944f-eaf5d676240b",
   "metadata": {},
   "outputs": [
    {
     "data": {
      "text/plain": [
       "'This is the first session on python,\\nwe are going through the basics'"
      ]
     },
     "execution_count": 109,
     "metadata": {},
     "output_type": "execute_result"
    }
   ],
   "source": [
    "a3"
   ]
  },
  {
   "cell_type": "code",
   "execution_count": 111,
   "id": "272674ce-cabb-4f29-8d31-acb57f337877",
   "metadata": {},
   "outputs": [
    {
     "data": {
      "text/plain": [
       "10"
      ]
     },
     "execution_count": 111,
     "metadata": {},
     "output_type": "execute_result"
    }
   ],
   "source": [
    "x"
   ]
  },
  {
   "cell_type": "code",
   "execution_count": 113,
   "id": "4f3d66af-7f54-4066-9c8c-71b987b7349a",
   "metadata": {},
   "outputs": [
    {
     "data": {
      "text/plain": [
       "True"
      ]
     },
     "execution_count": 113,
     "metadata": {},
     "output_type": "execute_result"
    }
   ],
   "source": [
    "x\n",
    "y\n",
    "z\n",
    "a"
   ]
  },
  {
   "cell_type": "code",
   "execution_count": 115,
   "id": "a9f8757b-5776-4fc0-8609-02063c6df4ec",
   "metadata": {},
   "outputs": [
    {
     "name": "stdout",
     "output_type": "stream",
     "text": [
      "10\n",
      "15.5\n",
      "(5+2j)\n",
      "True\n"
     ]
    }
   ],
   "source": [
    "print(x)\n",
    "print(y)\n",
    "print(z)\n",
    "print(a)"
   ]
  },
  {
   "cell_type": "code",
   "execution_count": 117,
   "id": "546289d8-ff70-44ad-b1d0-5690cbc98ead",
   "metadata": {},
   "outputs": [],
   "source": [
    "### Print function is mandatory for multiple assignments in python."
   ]
  },
  {
   "cell_type": "code",
   "execution_count": 119,
   "id": "2d2e2edd-e4b7-44c7-8322-4798fd1995d2",
   "metadata": {},
   "outputs": [],
   "source": [
    "### python is case sensitive."
   ]
  },
  {
   "cell_type": "code",
   "execution_count": 121,
   "id": "89fe0dbe-edbc-4980-8a51-34249a0b6b12",
   "metadata": {},
   "outputs": [
    {
     "name": "stdout",
     "output_type": "stream",
     "text": [
      "10\n"
     ]
    }
   ],
   "source": [
    "print(x)"
   ]
  },
  {
   "cell_type": "markdown",
   "id": "8eb9995b-943f-496b-97ec-671cd320c75f",
   "metadata": {},
   "source": [
    "### Questions on Tuples,Strings."
   ]
  },
  {
   "cell_type": "code",
   "execution_count": 124,
   "id": "13d008e4-547d-4fa9-be65-ffab3a87ae6b",
   "metadata": {},
   "outputs": [],
   "source": [
    "###Q) T1=(55,67,89,23,45.2) Write a program to copy the elements 89,23,45.2 into a new tuple."
   ]
  },
  {
   "cell_type": "code",
   "execution_count": 126,
   "id": "ed57800e-8829-4a26-9229-bb176e3aae35",
   "metadata": {},
   "outputs": [
    {
     "name": "stdout",
     "output_type": "stream",
     "text": [
      "(89, 23, 45.2)\n"
     ]
    }
   ],
   "source": [
    "T1=(55,67,89,23,45.2)\n",
    "T2=T1[2:]\n",
    "print(T2)"
   ]
  },
  {
   "cell_type": "code",
   "execution_count": 128,
   "id": "ef5c67df-7e7d-4fd4-bc4a-b34e7b6067b7",
   "metadata": {},
   "outputs": [],
   "source": [
    "### Q) T3=(100,300,500)\n",
    "### T4=(11,55,77). Revise T3 and T4  to store elements 11,55,77 and 100,300,500 respectively."
   ]
  },
  {
   "cell_type": "code",
   "execution_count": 130,
   "id": "8a386b8e-d5e3-412c-87fb-eb76d5954a09",
   "metadata": {},
   "outputs": [],
   "source": [
    "T3=(100,300,500)\n",
    "T4=(11,55,77)"
   ]
  },
  {
   "cell_type": "code",
   "execution_count": 132,
   "id": "5cffcb22-a022-43ec-a831-0f8dd5b75ec7",
   "metadata": {},
   "outputs": [
    {
     "name": "stdout",
     "output_type": "stream",
     "text": [
      "(11, 55, 77)\n",
      "(100, 300, 500)\n"
     ]
    }
   ],
   "source": [
    "T3,T4=T4,T3\n",
    "print(T3)\n",
    "print(T4)"
   ]
  },
  {
   "cell_type": "code",
   "execution_count": 134,
   "id": "0a8ba3af-3555-4c69-a3ee-aebf0e964607",
   "metadata": {},
   "outputs": [],
   "source": [
    "#### Q) T5= ('Python',[8,9,10],(10,20,30))\n",
    "### Slice out element 9 from the above tuple T5"
   ]
  },
  {
   "cell_type": "code",
   "execution_count": 136,
   "id": "d857765b-fd7d-4b4b-8623-93c272764f76",
   "metadata": {},
   "outputs": [],
   "source": [
    "T5= ('Python',[8,9,10],(10,20,30))"
   ]
  },
  {
   "cell_type": "code",
   "execution_count": 138,
   "id": "fd6a0d4b-8764-4687-9451-1c2653ba1356",
   "metadata": {},
   "outputs": [
    {
     "data": {
      "text/plain": [
       "[8, 9, 10]"
      ]
     },
     "execution_count": 138,
     "metadata": {},
     "output_type": "execute_result"
    }
   ],
   "source": [
    "T5[1]"
   ]
  },
  {
   "cell_type": "code",
   "execution_count": 140,
   "id": "98b044ee-bd52-4c7f-bfd6-37b91b281358",
   "metadata": {},
   "outputs": [
    {
     "data": {
      "text/plain": [
       "9"
      ]
     },
     "execution_count": 140,
     "metadata": {},
     "output_type": "execute_result"
    }
   ],
   "source": [
    "T5[1][1]"
   ]
  },
  {
   "cell_type": "code",
   "execution_count": 142,
   "id": "e7b48cd9-a25f-4d91-840d-3a49e8519562",
   "metadata": {},
   "outputs": [],
   "source": [
    "####Q) Reverse the elements of tuple T1"
   ]
  },
  {
   "cell_type": "code",
   "execution_count": 144,
   "id": "f3ac5af3-d640-4b90-a96f-6199357c42e8",
   "metadata": {},
   "outputs": [
    {
     "data": {
      "text/plain": [
       "(55, 67, 89, 23, 45.2)"
      ]
     },
     "execution_count": 144,
     "metadata": {},
     "output_type": "execute_result"
    }
   ],
   "source": [
    "T1"
   ]
  },
  {
   "cell_type": "code",
   "execution_count": 146,
   "id": "9e850818-19ac-439d-92f9-1264cc546e38",
   "metadata": {},
   "outputs": [
    {
     "data": {
      "text/plain": [
       "(45.2, 23, 89, 67, 55)"
      ]
     },
     "execution_count": 146,
     "metadata": {},
     "output_type": "execute_result"
    }
   ],
   "source": [
    "T1[::-1]"
   ]
  },
  {
   "cell_type": "code",
   "execution_count": 148,
   "id": "fcdc4d74-ef12-47ac-bdd1-d42cf53ccfb4",
   "metadata": {},
   "outputs": [],
   "source": [
    "###Q) Consider a string 'basics to advanced' slice out elements v,a,n from the string object."
   ]
  },
  {
   "cell_type": "code",
   "execution_count": 150,
   "id": "52bb5e1b-d835-488c-9320-58f35a025bd2",
   "metadata": {},
   "outputs": [],
   "source": [
    "str1='basics to advanced'"
   ]
  },
  {
   "cell_type": "code",
   "execution_count": 152,
   "id": "91e8520c-6447-43a0-9497-22f71555914f",
   "metadata": {},
   "outputs": [
    {
     "data": {
      "text/plain": [
       "'van'"
      ]
     },
     "execution_count": 152,
     "metadata": {},
     "output_type": "execute_result"
    }
   ],
   "source": [
    "str1[-6:-3]"
   ]
  },
  {
   "cell_type": "code",
   "execution_count": 153,
   "id": "4e722d80-8373-48bb-8cc6-2c88e0354fb2",
   "metadata": {},
   "outputs": [
    {
     "data": {
      "text/plain": [
       "'van'"
      ]
     },
     "execution_count": 153,
     "metadata": {},
     "output_type": "execute_result"
    }
   ],
   "source": [
    "str1[12:15]"
   ]
  },
  {
   "cell_type": "code",
   "execution_count": 154,
   "id": "17ff6f98-c4cb-43ed-93b3-0a4542c322f0",
   "metadata": {},
   "outputs": [],
   "source": [
    "### Q) Consider a string object s2='simplilearn'. Convert all the characters of the object to its uppercase."
   ]
  },
  {
   "cell_type": "code",
   "execution_count": 155,
   "id": "1428fce8-c5e5-4c22-8ee3-1b2ddbfa3b35",
   "metadata": {},
   "outputs": [
    {
     "data": {
      "text/plain": [
       "'SIMPLILEARN'"
      ]
     },
     "execution_count": 155,
     "metadata": {},
     "output_type": "execute_result"
    }
   ],
   "source": [
    "s2 = 'simplilearn'\n",
    "s = s2.upper()\n",
    "s\n"
   ]
  },
  {
   "cell_type": "markdown",
   "id": "6dd12b9e-2648-4a52-a47b-8b4912270ef7",
   "metadata": {},
   "source": [
    "#### Lists contain multiple data types,are ordered and are mutable. They contain duplicates,and can be created with [] brackets or the list constructor.Constructors are special methods which are used to create objects from a class."
   ]
  },
  {
   "cell_type": "code",
   "execution_count": 157,
   "id": "13eb6e6e-fbf4-401e-bece-f86319efd591",
   "metadata": {},
   "outputs": [],
   "source": [
    "list1=[17,23.5,False,(4,5),7+2j,'string']"
   ]
  },
  {
   "cell_type": "code",
   "execution_count": 158,
   "id": "61f3a61d-2b87-454a-b5bc-0c70d3cf3b16",
   "metadata": {},
   "outputs": [
    {
     "name": "stdout",
     "output_type": "stream",
     "text": [
      "[17, 23.5, False, (4, 5), (7+2j), 'string']\n",
      "<class 'list'>\n"
     ]
    }
   ],
   "source": [
    "print(list1)\n",
    "print(type(list1))"
   ]
  },
  {
   "cell_type": "code",
   "execution_count": 159,
   "id": "d640c351-00fe-42a2-9b5a-6dd483b8167a",
   "metadata": {},
   "outputs": [
    {
     "name": "stdout",
     "output_type": "stream",
     "text": [
      "[17, 23.5, False, (4, 5), (7+2j), 'string']\n",
      "<class 'list'>\n"
     ]
    }
   ],
   "source": [
    "list2=list(list1)\n",
    "print(list2)\n",
    "print(type(list2))"
   ]
  },
  {
   "cell_type": "code",
   "execution_count": 160,
   "id": "5903dc15-2e93-47ab-809a-682a8fb190e6",
   "metadata": {},
   "outputs": [],
   "source": [
    "list1.append(100) ##adds an element at the end of the list"
   ]
  },
  {
   "cell_type": "code",
   "execution_count": 161,
   "id": "13eed2e6-e974-4403-8e6c-7028d40952c8",
   "metadata": {},
   "outputs": [
    {
     "data": {
      "text/plain": [
       "[17, 23.5, False, (4, 5), (7+2j), 'string', 100]"
      ]
     },
     "execution_count": 161,
     "metadata": {},
     "output_type": "execute_result"
    }
   ],
   "source": [
    "list1"
   ]
  },
  {
   "cell_type": "code",
   "execution_count": 162,
   "id": "6200864c-23fb-41ee-a6e4-16f61cb504f9",
   "metadata": {},
   "outputs": [],
   "source": [
    "list2.clear() #removes all elements of a list object to return an empty list"
   ]
  },
  {
   "cell_type": "code",
   "execution_count": 163,
   "id": "ba95eda5-0929-42c7-bb9f-15d48b5b8793",
   "metadata": {},
   "outputs": [
    {
     "data": {
      "text/plain": [
       "[]"
      ]
     },
     "execution_count": 163,
     "metadata": {},
     "output_type": "execute_result"
    }
   ],
   "source": [
    "list2"
   ]
  },
  {
   "cell_type": "code",
   "execution_count": 164,
   "id": "922593f5-4e16-4ab7-ad13-76138325ad4a",
   "metadata": {},
   "outputs": [],
   "source": [
    "list3=list1.copy() #creates a copy of the exsisting object"
   ]
  },
  {
   "cell_type": "code",
   "execution_count": 165,
   "id": "bd9c82b3-b816-45e1-bafe-c97137c0e6f7",
   "metadata": {},
   "outputs": [
    {
     "data": {
      "text/plain": [
       "[17, 23.5, False, (4, 5), (7+2j), 'string', 100]"
      ]
     },
     "execution_count": 165,
     "metadata": {},
     "output_type": "execute_result"
    }
   ],
   "source": [
    "list3"
   ]
  },
  {
   "cell_type": "code",
   "execution_count": 166,
   "id": "a873e006-ee2f-4cca-a4b2-f258f4becd72",
   "metadata": {},
   "outputs": [],
   "source": [
    "list3.append(17)"
   ]
  },
  {
   "cell_type": "code",
   "execution_count": 167,
   "id": "52215e22-3177-46ce-ab9a-8a8afe98952e",
   "metadata": {},
   "outputs": [
    {
     "data": {
      "text/plain": [
       "[17, 23.5, False, (4, 5), (7+2j), 'string', 100, 17]"
      ]
     },
     "execution_count": 167,
     "metadata": {},
     "output_type": "execute_result"
    }
   ],
   "source": [
    "list3"
   ]
  },
  {
   "cell_type": "code",
   "execution_count": 168,
   "id": "8de13c0c-e19b-402a-90bb-85cf2ee4e6f8",
   "metadata": {},
   "outputs": [
    {
     "data": {
      "text/plain": [
       "2"
      ]
     },
     "execution_count": 168,
     "metadata": {},
     "output_type": "execute_result"
    }
   ],
   "source": [
    "list3.count(17) #returns the number of occurences of a certain element in a list."
   ]
  },
  {
   "cell_type": "code",
   "execution_count": 169,
   "id": "898a2f76-2869-45ab-8229-610cb773ba05",
   "metadata": {},
   "outputs": [
    {
     "data": {
      "text/plain": [
       "[17, 23.5, False, (4, 5), (7+2j), 'string', 100, 17]"
      ]
     },
     "execution_count": 169,
     "metadata": {},
     "output_type": "execute_result"
    }
   ],
   "source": [
    "list3"
   ]
  },
  {
   "cell_type": "code",
   "execution_count": 170,
   "id": "a984203d-9abf-46ee-a6b0-30a5404b3a76",
   "metadata": {},
   "outputs": [],
   "source": [
    "list3.extend((True,89,65.2,'text')) ## adds multiple elements at the end of th elist"
   ]
  },
  {
   "cell_type": "code",
   "execution_count": 171,
   "id": "c724800a-edef-469f-bce7-c6fb6d0352ec",
   "metadata": {},
   "outputs": [
    {
     "data": {
      "text/plain": [
       "[17, 23.5, False, (4, 5), (7+2j), 'string', 100, 17, True, 89, 65.2, 'text']"
      ]
     },
     "execution_count": 171,
     "metadata": {},
     "output_type": "execute_result"
    }
   ],
   "source": [
    "list3"
   ]
  },
  {
   "cell_type": "code",
   "execution_count": 172,
   "id": "2ca071b2-a43c-4328-a3d6-69e47285f0c7",
   "metadata": {},
   "outputs": [
    {
     "data": {
      "text/plain": [
       "4"
      ]
     },
     "execution_count": 172,
     "metadata": {},
     "output_type": "execute_result"
    }
   ],
   "source": [
    "list3.index(7+2j)  #gives the index position of an element in the list object"
   ]
  },
  {
   "cell_type": "code",
   "execution_count": 173,
   "id": "e5d0f4c8-21e0-4bee-abda-6fa317c5587d",
   "metadata": {},
   "outputs": [],
   "source": [
    "list3.insert(3,True) #adds an element at a specific position in the list"
   ]
  },
  {
   "cell_type": "code",
   "execution_count": 174,
   "id": "7e293542-3550-4f04-8625-5c59d78b9910",
   "metadata": {},
   "outputs": [
    {
     "name": "stdout",
     "output_type": "stream",
     "text": [
      "[17, 23.5, False, True, (4, 5), (7+2j), 'string', 100, 17, True, 89, 65.2, 'text']\n"
     ]
    }
   ],
   "source": [
    "print(list3)"
   ]
  },
  {
   "cell_type": "code",
   "execution_count": 175,
   "id": "3c3c39c3-421d-4d53-833c-4657b4ba038d",
   "metadata": {},
   "outputs": [
    {
     "data": {
      "text/plain": [
       "(7+2j)"
      ]
     },
     "execution_count": 175,
     "metadata": {},
     "output_type": "execute_result"
    }
   ],
   "source": [
    "list3.pop(5) #removes an element by its index position"
   ]
  },
  {
   "cell_type": "code",
   "execution_count": 176,
   "id": "a29073f2-a513-4127-9a89-2d0e5b3c83b2",
   "metadata": {},
   "outputs": [
    {
     "data": {
      "text/plain": [
       "[17, 23.5, False, True, (4, 5), 'string', 100, 17, True, 89, 65.2, 'text']"
      ]
     },
     "execution_count": 176,
     "metadata": {},
     "output_type": "execute_result"
    }
   ],
   "source": [
    "list3"
   ]
  },
  {
   "cell_type": "code",
   "execution_count": 177,
   "id": "e86f33a9-e877-4791-b6fc-24d16b4eee09",
   "metadata": {},
   "outputs": [],
   "source": [
    "list3.remove(23.5) # remove method removes an element by its value"
   ]
  },
  {
   "cell_type": "code",
   "execution_count": 178,
   "id": "c4ea0feb-0fa9-4895-a797-2994d2295def",
   "metadata": {},
   "outputs": [
    {
     "data": {
      "text/plain": [
       "[17, False, True, (4, 5), 'string', 100, 17, True, 89, 65.2, 'text']"
      ]
     },
     "execution_count": 178,
     "metadata": {},
     "output_type": "execute_result"
    }
   ],
   "source": [
    "list3"
   ]
  },
  {
   "cell_type": "code",
   "execution_count": 179,
   "id": "0125f963-bf07-475d-911d-6717922a6db4",
   "metadata": {},
   "outputs": [],
   "source": [
    "list3.reverse()"
   ]
  },
  {
   "cell_type": "code",
   "execution_count": 180,
   "id": "c252a5e7-3ca2-4a3d-a2b0-04d4e0d0f1c7",
   "metadata": {},
   "outputs": [
    {
     "data": {
      "text/plain": [
       "['text', 65.2, 89, True, 17, 100, 'string', (4, 5), True, False, 17]"
      ]
     },
     "execution_count": 180,
     "metadata": {},
     "output_type": "execute_result"
    }
   ],
   "source": [
    "list3"
   ]
  },
  {
   "cell_type": "code",
   "execution_count": 181,
   "id": "86225e40-639d-4089-ade1-7e9a65268177",
   "metadata": {},
   "outputs": [
    {
     "data": {
      "text/plain": [
       "[17, False, True, (4, 5), 'string', 100, 17, True, 89, 65.2, 'text']"
      ]
     },
     "execution_count": 181,
     "metadata": {},
     "output_type": "execute_result"
    }
   ],
   "source": [
    "list3[::-1] #standard way to reverse elements in an object"
   ]
  },
  {
   "cell_type": "code",
   "execution_count": 182,
   "id": "bff97fe8-77cf-46c1-bc49-3a85730da4b5",
   "metadata": {},
   "outputs": [
    {
     "ename": "TypeError",
     "evalue": "'<' not supported between instances of 'tuple' and 'bool'",
     "output_type": "error",
     "traceback": [
      "\u001b[1;31m---------------------------------------------------------------------------\u001b[0m",
      "\u001b[1;31mTypeError\u001b[0m                                 Traceback (most recent call last)",
      "Cell \u001b[1;32mIn[182], line 1\u001b[0m\n\u001b[1;32m----> 1\u001b[0m list3\u001b[38;5;241m.\u001b[39msort(reverse\u001b[38;5;241m=\u001b[39m\u001b[38;5;28;01mTrue\u001b[39;00m)\n",
      "\u001b[1;31mTypeError\u001b[0m: '<' not supported between instances of 'tuple' and 'bool'"
     ]
    }
   ],
   "source": [
    "list3.sort(reverse=True)"
   ]
  },
  {
   "cell_type": "code",
   "execution_count": null,
   "id": "48af9743-a310-4e54-9f87-5cfcaf0f0081",
   "metadata": {},
   "outputs": [],
   "source": [
    "list4=[23,76,12,89,93,6,100]"
   ]
  },
  {
   "cell_type": "code",
   "execution_count": 183,
   "id": "638108a5-9447-4f83-8a9e-a9bf4f950b8b",
   "metadata": {},
   "outputs": [
    {
     "ename": "NameError",
     "evalue": "name 'list4' is not defined",
     "output_type": "error",
     "traceback": [
      "\u001b[1;31m---------------------------------------------------------------------------\u001b[0m",
      "\u001b[1;31mNameError\u001b[0m                                 Traceback (most recent call last)",
      "Cell \u001b[1;32mIn[183], line 1\u001b[0m\n\u001b[1;32m----> 1\u001b[0m list4\u001b[38;5;241m.\u001b[39msort(reverse\u001b[38;5;241m=\u001b[39m\u001b[38;5;28;01mTrue\u001b[39;00m)\n",
      "\u001b[1;31mNameError\u001b[0m: name 'list4' is not defined"
     ]
    }
   ],
   "source": [
    "list4.sort(reverse=True) # reverse=true sorts elements in the descending order. By default the sorting happens in the asc order."
   ]
  },
  {
   "cell_type": "code",
   "execution_count": null,
   "id": "a4be5273-2cf7-4fe2-b807-50e6590d0419",
   "metadata": {},
   "outputs": [],
   "source": [
    "list4"
   ]
  },
  {
   "cell_type": "markdown",
   "id": "39765e24-c5d9-41e8-ae29-37a823ab020b",
   "metadata": {},
   "source": [
    "#### Sets are unordered collection of elements. Sets do not allow duplicates,though sets are mutable,the elements of a set object are not.Sets are created using curly brackets or the set constructor"
   ]
  },
  {
   "cell_type": "code",
   "execution_count": 185,
   "id": "d45fab65-518a-4cc7-aac0-9ec30079d0a2",
   "metadata": {},
   "outputs": [
    {
     "name": "stdout",
     "output_type": "stream",
     "text": [
      "{False, True, 65.2, 'string', 100, (7+2j), 17, (4, 5), 23.5, 89, 'text'}\n",
      "<class 'set'>\n"
     ]
    }
   ],
   "source": [
    "set1={17, 23.5, False, (4, 5), (7+2j), 'string', 100, 17, True, 89, 65.2, 'text'}\n",
    "print(set1)\n",
    "print(type(set1))"
   ]
  },
  {
   "cell_type": "code",
   "execution_count": 186,
   "id": "c7deca97-a49b-4529-8711-c2ab1b10bec8",
   "metadata": {},
   "outputs": [],
   "source": [
    "set2=set(set1)"
   ]
  },
  {
   "cell_type": "code",
   "execution_count": 187,
   "id": "6184685e-327e-4bc6-ad27-365a5d2c3dda",
   "metadata": {},
   "outputs": [
    {
     "name": "stdout",
     "output_type": "stream",
     "text": [
      "{False, True, 65.2, 'string', 100, (7+2j), 17, (4, 5), 23.5, 89, 'text'}\n",
      "<class 'set'>\n"
     ]
    }
   ],
   "source": [
    "print(set2)\n",
    "print(type(set2))"
   ]
  },
  {
   "cell_type": "code",
   "execution_count": 188,
   "id": "79bdd8da-d37b-4506-b35a-a4fffa39afd4",
   "metadata": {},
   "outputs": [
    {
     "ename": "TypeError",
     "evalue": "'set' object is not subscriptable",
     "output_type": "error",
     "traceback": [
      "\u001b[1;31m---------------------------------------------------------------------------\u001b[0m",
      "\u001b[1;31mTypeError\u001b[0m                                 Traceback (most recent call last)",
      "Cell \u001b[1;32mIn[188], line 1\u001b[0m\n\u001b[1;32m----> 1\u001b[0m set1[\u001b[38;5;241m2\u001b[39m]\n",
      "\u001b[1;31mTypeError\u001b[0m: 'set' object is not subscriptable"
     ]
    }
   ],
   "source": [
    "set1[2]"
   ]
  },
  {
   "cell_type": "code",
   "execution_count": 189,
   "id": "b2273814-7d02-4ca1-97ae-4af9ecd08f9b",
   "metadata": {},
   "outputs": [],
   "source": [
    "### immutable sets-Frozensets:"
   ]
  },
  {
   "cell_type": "code",
   "execution_count": 190,
   "id": "4ba6a36f-46dc-4678-8b2a-e44e272a1289",
   "metadata": {},
   "outputs": [],
   "source": [
    "set3=frozenset({67,67,(7,2),'text'})"
   ]
  },
  {
   "cell_type": "code",
   "execution_count": 191,
   "id": "ce8c1dc2-d7df-44cb-9c68-c8bf47f679e6",
   "metadata": {},
   "outputs": [
    {
     "data": {
      "text/plain": [
       "frozenset({(7, 2), 67, 'text'})"
      ]
     },
     "execution_count": 191,
     "metadata": {},
     "output_type": "execute_result"
    }
   ],
   "source": [
    "set3"
   ]
  },
  {
   "cell_type": "code",
   "execution_count": 192,
   "id": "eee6cbd2-7898-438c-97a6-a03551582383",
   "metadata": {},
   "outputs": [],
   "source": [
    "###add elements to a set:\n",
    "set1.add(50) #we can add a single element to a set using the add method."
   ]
  },
  {
   "cell_type": "code",
   "execution_count": 193,
   "id": "bf92839d-2ea5-476a-90e8-48ad8ac5da04",
   "metadata": {},
   "outputs": [
    {
     "data": {
      "text/plain": [
       "{(4, 5), (7+2j), 100, 17, 23.5, 50, 65.2, 89, False, True, 'string', 'text'}"
      ]
     },
     "execution_count": 193,
     "metadata": {},
     "output_type": "execute_result"
    }
   ],
   "source": [
    "set1"
   ]
  },
  {
   "cell_type": "code",
   "execution_count": 194,
   "id": "cbc23e57-3319-4db0-97e8-62416319d628",
   "metadata": {},
   "outputs": [
    {
     "ename": "AttributeError",
     "evalue": "'frozenset' object has no attribute 'add'",
     "output_type": "error",
     "traceback": [
      "\u001b[1;31m---------------------------------------------------------------------------\u001b[0m",
      "\u001b[1;31mAttributeError\u001b[0m                            Traceback (most recent call last)",
      "Cell \u001b[1;32mIn[194], line 1\u001b[0m\n\u001b[1;32m----> 1\u001b[0m set3\u001b[38;5;241m.\u001b[39madd(\u001b[38;5;241m50\u001b[39m)\n",
      "\u001b[1;31mAttributeError\u001b[0m: 'frozenset' object has no attribute 'add'"
     ]
    }
   ],
   "source": [
    "set3.add(50) ## adds a single element in a random position in the set"
   ]
  },
  {
   "cell_type": "code",
   "execution_count": null,
   "id": "7c98b03e-f990-4efe-9298-4c96797b827b",
   "metadata": {},
   "outputs": [],
   "source": [
    "set1.update([11,9.2,'python',None]) ###add multiple elements in random position"
   ]
  },
  {
   "cell_type": "code",
   "execution_count": null,
   "id": "3d27a7d5-07f3-4595-983c-e3ebcfccd3c6",
   "metadata": {},
   "outputs": [],
   "source": [
    "print(set1)"
   ]
  },
  {
   "cell_type": "code",
   "execution_count": null,
   "id": "33007d1c-bc17-4201-bf1e-35ab1bc0c4e2",
   "metadata": {},
   "outputs": [],
   "source": [
    "set1.discard(True) #discard/remove will drop elements from an exsisting set"
   ]
  },
  {
   "cell_type": "code",
   "execution_count": 195,
   "id": "4f09734e-ff6b-41b0-a806-682b14b74a30",
   "metadata": {},
   "outputs": [
    {
     "name": "stdout",
     "output_type": "stream",
     "text": [
      "{False, True, 65.2, 'string', 100, (7+2j), 17, (4, 5), 50, 23.5, 89, 'text'}\n"
     ]
    }
   ],
   "source": [
    "print(set1)"
   ]
  },
  {
   "cell_type": "code",
   "execution_count": 196,
   "id": "976d1ee1-b16d-4f0f-9ca2-26d0ba12f41a",
   "metadata": {},
   "outputs": [
    {
     "data": {
      "text/plain": [
       "False"
      ]
     },
     "execution_count": 196,
     "metadata": {},
     "output_type": "execute_result"
    }
   ],
   "source": [
    "set1.pop() #any one random element is removed from the set"
   ]
  },
  {
   "cell_type": "code",
   "execution_count": 197,
   "id": "5c151793-bb05-4502-839c-1d63ea43e22b",
   "metadata": {},
   "outputs": [
    {
     "name": "stdout",
     "output_type": "stream",
     "text": [
      "{True, 65.2, 'string', 100, (7+2j), 17, (4, 5), 50, 23.5, 89, 'text'}\n"
     ]
    }
   ],
   "source": [
    "print(set1)"
   ]
  },
  {
   "cell_type": "code",
   "execution_count": 198,
   "id": "17bab394-28f1-443e-b3c2-640913af8630",
   "metadata": {},
   "outputs": [],
   "source": [
    "set4={10,20,40,50,60}\n",
    "set5={11,20,60,70,90}"
   ]
  },
  {
   "cell_type": "code",
   "execution_count": 199,
   "id": "cd55e5ee-7cdd-473f-8ffc-dfdfb76e6218",
   "metadata": {},
   "outputs": [
    {
     "data": {
      "text/plain": [
       "{10, 11, 20, 40, 50, 60, 70, 90}"
      ]
     },
     "execution_count": 199,
     "metadata": {},
     "output_type": "execute_result"
    }
   ],
   "source": [
    "set4.union(set5)  # combine all elements of both sets discarding the duplicates"
   ]
  },
  {
   "cell_type": "code",
   "execution_count": 200,
   "id": "cd100742-9ea0-4ab8-8ae1-da22434390fe",
   "metadata": {},
   "outputs": [
    {
     "data": {
      "text/plain": [
       "{20, 60}"
      ]
     },
     "execution_count": 200,
     "metadata": {},
     "output_type": "execute_result"
    }
   ],
   "source": [
    "set4.intersection(set5) # return only the common elements in both sets."
   ]
  },
  {
   "cell_type": "code",
   "execution_count": 201,
   "id": "b3bd6d00-7383-4361-a46d-907971c09625",
   "metadata": {},
   "outputs": [
    {
     "data": {
      "text/plain": [
       "{10, 40, 50}"
      ]
     },
     "execution_count": 201,
     "metadata": {},
     "output_type": "execute_result"
    }
   ],
   "source": [
    "set4.difference(set5) #elements in set4,but not in set5."
   ]
  },
  {
   "cell_type": "markdown",
   "id": "179487a7-bea3-496d-8494-e79d7cdb4d94",
   "metadata": {},
   "source": [
    "#### Dictionaries contain pair of elements as key,value pairs. dictionaries contain multiple data types and are mutable(keys are immutable but values are mutable). dictionaries allow duplicates and can be created with curly brackets or the dict constructor."
   ]
  },
  {
   "cell_type": "code",
   "execution_count": 340,
   "id": "5a1960a7-cd43-417c-8bf5-52d9125fe2f2",
   "metadata": {},
   "outputs": [],
   "source": [
    "dict1={10875:'Madhu','summer':'mangoes','session':2,'participants':20,'language':['R','SAS','SPSS','Python']}"
   ]
  },
  {
   "cell_type": "code",
   "execution_count": 342,
   "id": "4bcae835-f6f4-43fc-93a2-45d1cb6c6075",
   "metadata": {},
   "outputs": [
    {
     "name": "stdout",
     "output_type": "stream",
     "text": [
      "{10875: 'Madhu', 'summer': 'mangoes', 'session': 2, 'participants': 20, 'language': ['R', 'SAS', 'SPSS', 'Python']}\n",
      "<class 'dict'>\n"
     ]
    }
   ],
   "source": [
    "print(dict1)\n",
    "print(type(dict1))"
   ]
  },
  {
   "cell_type": "code",
   "execution_count": 344,
   "id": "db049b9c-d983-411b-b43d-7faed9acf076",
   "metadata": {},
   "outputs": [
    {
     "name": "stdout",
     "output_type": "stream",
     "text": [
      "{10875: 'Madhu', 'summer': 'mangoes', 'session': 2, 'participants': 20, 'language': ['R', 'SAS', 'SPSS', 'Python']}\n",
      "<class 'dict'>\n"
     ]
    }
   ],
   "source": [
    "dict2=dict(dict1)\n",
    "print(dict2)\n",
    "print(type(dict2))"
   ]
  },
  {
   "cell_type": "code",
   "execution_count": 346,
   "id": "0b1bac28-6525-484a-85c3-312867bac803",
   "metadata": {},
   "outputs": [
    {
     "data": {
      "text/plain": [
       "'mangoes'"
      ]
     },
     "execution_count": 346,
     "metadata": {},
     "output_type": "execute_result"
    }
   ],
   "source": [
    "dict1['summer']"
   ]
  },
  {
   "cell_type": "code",
   "execution_count": 348,
   "id": "97599e2b-219a-4ae4-841b-1aea85a1217a",
   "metadata": {},
   "outputs": [
    {
     "data": {
      "text/plain": [
       "dict_keys([10875, 'summer', 'session', 'participants', 'language'])"
      ]
     },
     "execution_count": 348,
     "metadata": {},
     "output_type": "execute_result"
    }
   ],
   "source": [
    "dict1.keys()"
   ]
  },
  {
   "cell_type": "code",
   "execution_count": 350,
   "id": "3d1ab2f8-1e90-404f-a07b-3011c63b9c78",
   "metadata": {},
   "outputs": [
    {
     "data": {
      "text/plain": [
       "dict_values(['Madhu', 'mangoes', 2, 20, ['R', 'SAS', 'SPSS', 'Python']])"
      ]
     },
     "execution_count": 350,
     "metadata": {},
     "output_type": "execute_result"
    }
   ],
   "source": [
    "dict1.values()"
   ]
  },
  {
   "cell_type": "code",
   "execution_count": 352,
   "id": "44e63897-7678-409f-8a83-f9012fef6128",
   "metadata": {},
   "outputs": [
    {
     "data": {
      "text/plain": [
       "dict_items([(10875, 'Madhu'), ('summer', 'mangoes'), ('session', 2), ('participants', 20), ('language', ['R', 'SAS', 'SPSS', 'Python'])])"
      ]
     },
     "execution_count": 352,
     "metadata": {},
     "output_type": "execute_result"
    }
   ],
   "source": [
    "dict1.items()"
   ]
  },
  {
   "cell_type": "code",
   "execution_count": 354,
   "id": "908748f7-39c5-4697-be3f-73522d4d309b",
   "metadata": {},
   "outputs": [
    {
     "data": {
      "text/plain": [
       "['R', 'SAS', 'SPSS', 'Python']"
      ]
     },
     "execution_count": 354,
     "metadata": {},
     "output_type": "execute_result"
    }
   ],
   "source": [
    "dict1.get('language') ##return the value associated with the key"
   ]
  },
  {
   "cell_type": "code",
   "execution_count": 356,
   "id": "f7ee2624-8ad6-4d89-b371-8fd901223040",
   "metadata": {},
   "outputs": [],
   "source": [
    "#updating values in a dict\n",
    "dict1['summer']='Melons'"
   ]
  },
  {
   "cell_type": "code",
   "execution_count": 358,
   "id": "c9052b27-c6b8-4f8d-9633-7716e52cefad",
   "metadata": {},
   "outputs": [
    {
     "data": {
      "text/plain": [
       "{10875: 'Madhu',\n",
       " 'summer': 'Melons',\n",
       " 'session': 2,\n",
       " 'participants': 20,\n",
       " 'language': ['R', 'SAS', 'SPSS', 'Python']}"
      ]
     },
     "execution_count": 358,
     "metadata": {},
     "output_type": "execute_result"
    }
   ],
   "source": [
    "dict1"
   ]
  },
  {
   "cell_type": "code",
   "execution_count": 360,
   "id": "9a352b48-4cdf-4dd8-94b5-8de66838ce4f",
   "metadata": {},
   "outputs": [],
   "source": [
    "dict1['session']='basics'"
   ]
  },
  {
   "cell_type": "code",
   "execution_count": 362,
   "id": "9646b7f2-a106-4070-9cb2-1faa45b33063",
   "metadata": {},
   "outputs": [
    {
     "name": "stdout",
     "output_type": "stream",
     "text": [
      "{10875: 'Madhu', 'summer': 'Melons', 'session': 'basics', 'participants': 20, 'language': ['R', 'SAS', 'SPSS', 'Python']}\n"
     ]
    }
   ],
   "source": [
    "print(dict1)"
   ]
  },
  {
   "cell_type": "code",
   "execution_count": 366,
   "id": "c0747dfb-0fa3-46c6-bdb7-fdea26c79fb1",
   "metadata": {},
   "outputs": [],
   "source": [
    "object1=dict1['language']"
   ]
  },
  {
   "cell_type": "code",
   "execution_count": 368,
   "id": "c34eef84-dfe6-463c-82e6-a8ddaf891e8b",
   "metadata": {},
   "outputs": [
    {
     "data": {
      "text/plain": [
       "['R', 'SAS', 'SPSS', 'Python']"
      ]
     },
     "execution_count": 368,
     "metadata": {},
     "output_type": "execute_result"
    }
   ],
   "source": [
    "object1"
   ]
  },
  {
   "cell_type": "code",
   "execution_count": 372,
   "id": "57d8704d-e34f-4397-bc07-2b8f0933d304",
   "metadata": {},
   "outputs": [],
   "source": [
    "object1[2]='Excel'"
   ]
  },
  {
   "cell_type": "code",
   "execution_count": 374,
   "id": "10c1f82c-015e-4f09-b36e-6a70ed77b451",
   "metadata": {},
   "outputs": [
    {
     "data": {
      "text/plain": [
       "['R', 'SAS', 'Excel', 'Python']"
      ]
     },
     "execution_count": 374,
     "metadata": {},
     "output_type": "execute_result"
    }
   ],
   "source": [
    "object1"
   ]
  },
  {
   "cell_type": "code",
   "execution_count": 376,
   "id": "06c13665-988b-4d3f-9d40-558ef4117b65",
   "metadata": {},
   "outputs": [
    {
     "name": "stdout",
     "output_type": "stream",
     "text": [
      "{10875: 'Madhu', 'summer': 'Melons', 'session': 'basics', 'participants': 20, 'language': ['R', 'SAS', 'Excel', 'Python']}\n"
     ]
    }
   ],
   "source": [
    "print(dict1)"
   ]
  },
  {
   "cell_type": "code",
   "execution_count": 215,
   "id": "e60f6674-1c50-4287-b0e0-fb41ae4c78f4",
   "metadata": {},
   "outputs": [],
   "source": [
    "###remove keys \n",
    "del dict1['session']"
   ]
  },
  {
   "cell_type": "code",
   "execution_count": 216,
   "id": "723859a6-0cc6-4c38-9bc6-a2fd4ac29563",
   "metadata": {},
   "outputs": [
    {
     "name": "stdout",
     "output_type": "stream",
     "text": [
      "{10875: 'Madhu', 'summer': 'Melons', 'participants': 20, 'language': ['R', 'SAS', 'SPSS', 'Python']}\n"
     ]
    }
   ],
   "source": [
    "print(dict1)"
   ]
  },
  {
   "cell_type": "code",
   "execution_count": 217,
   "id": "486794ee-9952-47a0-bebf-21354e5b686d",
   "metadata": {},
   "outputs": [],
   "source": [
    "###adding elements to a dictionary:\n",
    "dict1['Session']='Basicsofpython'"
   ]
  },
  {
   "cell_type": "code",
   "execution_count": 218,
   "id": "0f265b4a-1ba8-4bc9-9423-9c6b69a14954",
   "metadata": {},
   "outputs": [
    {
     "name": "stdout",
     "output_type": "stream",
     "text": [
      "{10875: 'Madhu', 'summer': 'Melons', 'participants': 20, 'language': ['R', 'SAS', 'SPSS', 'Python'], 'Session': 'Basicsofpython'}\n"
     ]
    }
   ],
   "source": [
    "print(dict1)"
   ]
  },
  {
   "cell_type": "code",
   "execution_count": 219,
   "id": "913d447f-3abe-4279-9828-b0e3cd3a88a5",
   "metadata": {},
   "outputs": [
    {
     "data": {
      "text/plain": [
       "'Basicsofpython'"
      ]
     },
     "execution_count": 219,
     "metadata": {},
     "output_type": "execute_result"
    }
   ],
   "source": [
    "dict1.pop('Session')  #remove a specific key-value pair by its internal position"
   ]
  },
  {
   "cell_type": "code",
   "execution_count": 220,
   "id": "38578007-5b42-4fe3-9b0e-a0ae4d041033",
   "metadata": {},
   "outputs": [
    {
     "name": "stdout",
     "output_type": "stream",
     "text": [
      "{10875: 'Madhu', 'summer': 'Melons', 'participants': 20, 'language': ['R', 'SAS', 'SPSS', 'Python']}\n"
     ]
    }
   ],
   "source": [
    "print(dict1)"
   ]
  },
  {
   "cell_type": "code",
   "execution_count": 221,
   "id": "0730d075-f594-41c9-a461-486150b3df1d",
   "metadata": {},
   "outputs": [
    {
     "data": {
      "text/plain": [
       "('language', ['R', 'SAS', 'SPSS', 'Python'])"
      ]
     },
     "execution_count": 221,
     "metadata": {},
     "output_type": "execute_result"
    }
   ],
   "source": [
    "dict1.popitem() ## by default this method removes the last key-value pair from the dict"
   ]
  },
  {
   "cell_type": "code",
   "execution_count": 222,
   "id": "bb2a83e9-ec9f-4bbb-a742-2b48c60828e2",
   "metadata": {},
   "outputs": [
    {
     "name": "stdout",
     "output_type": "stream",
     "text": [
      "{10875: 'Madhu', 'summer': 'Melons', 'participants': 20}\n"
     ]
    }
   ],
   "source": [
    "print(dict1)"
   ]
  },
  {
   "cell_type": "code",
   "execution_count": 223,
   "id": "b212d3cb-04f5-4063-a9f3-bb307b003f3f",
   "metadata": {},
   "outputs": [],
   "source": [
    "my_dict = {\n",
    "    \"brand\": \"Ford\",\n",
    "    \"model\": \"Mustang\",\n",
    "    \"year\": 1964\n",
    "}"
   ]
  },
  {
   "cell_type": "code",
   "execution_count": 224,
   "id": "8f549d81-2810-43dd-8fdd-065170144b9b",
   "metadata": {},
   "outputs": [
    {
     "data": {
      "text/plain": [
       "dict_values(['Ford', 'Mustang', 1964])"
      ]
     },
     "execution_count": 224,
     "metadata": {},
     "output_type": "execute_result"
    }
   ],
   "source": [
    "my_dict.values()"
   ]
  },
  {
   "cell_type": "code",
   "execution_count": 225,
   "id": "7f495d9b-bdc4-40e5-bbb0-ead272d6f40e",
   "metadata": {},
   "outputs": [],
   "source": [
    "#### Q) we have a list10=['Orange','apple','','banana','pineapple','','mangoes']\n",
    "##### You need to remove the empty strings from list10"
   ]
  },
  {
   "cell_type": "code",
   "execution_count": 1,
   "id": "f3cc94c9-4e5e-464f-a81e-8d4f5441e32e",
   "metadata": {},
   "outputs": [
    {
     "data": {
      "text/plain": [
       "['Orange', 'apple', 'banana', 'pineapple', 'mangoes']"
      ]
     },
     "execution_count": 1,
     "metadata": {},
     "output_type": "execute_result"
    }
   ],
   "source": [
    "list10=['Orange','apple','','banana','pineapple','','mangoes']\n",
    "list10.remove('')\n",
    "list10.remove('')\n",
    "list10"
   ]
  },
  {
   "cell_type": "code",
   "execution_count": 7,
   "id": "a84a69e4-ad21-440c-947a-daa189181b41",
   "metadata": {},
   "outputs": [
    {
     "data": {
      "text/plain": [
       "['Orange', 'apple', 'banana', 'pineapple', 'mangoes']"
      ]
     },
     "execution_count": 7,
     "metadata": {},
     "output_type": "execute_result"
    }
   ],
   "source": [
    "list10=['Orange','apple','','banana','pineapple','','mangoes']\n",
    "result=list(filter(None,list10))\n",
    "result"
   ]
  },
  {
   "cell_type": "code",
   "execution_count": 226,
   "id": "07c1a228-93b8-4472-a9d5-5e5411c94494",
   "metadata": {},
   "outputs": [],
   "source": [
    "####Q) We have a list [10,15,[150,200,[6000,4000],20,25]]\n",
    "#### add a value of 5000 after 4000 in the above list"
   ]
  },
  {
   "cell_type": "code",
   "execution_count": 9,
   "id": "190a6f86-49cf-44a1-885d-3c2108e8b6f0",
   "metadata": {},
   "outputs": [],
   "source": [
    "list11= [10,15,[150,200,[6000,4000],20,25]]"
   ]
  },
  {
   "cell_type": "code",
   "execution_count": 3,
   "id": "50ade111-8c9a-45f1-bb6a-558db9333612",
   "metadata": {},
   "outputs": [
    {
     "data": {
      "text/plain": [
       "[150, 200, [6000, 4000], 20, 25]"
      ]
     },
     "execution_count": 3,
     "metadata": {},
     "output_type": "execute_result"
    }
   ],
   "source": [
    "list11[2]"
   ]
  },
  {
   "cell_type": "code",
   "execution_count": 5,
   "id": "fc734d7b-53ed-4a3f-bcf0-2197d63a889b",
   "metadata": {},
   "outputs": [
    {
     "data": {
      "text/plain": [
       "[6000, 4000]"
      ]
     },
     "execution_count": 5,
     "metadata": {},
     "output_type": "execute_result"
    }
   ],
   "source": [
    "list11[2][2]"
   ]
  },
  {
   "cell_type": "code",
   "execution_count": 7,
   "id": "8fce7789-f5b9-4fde-a69d-bc289dbfec8b",
   "metadata": {},
   "outputs": [
    {
     "data": {
      "text/plain": [
       "[10, 15, [150, 200, [6000, 4000, 5000], 20, 25]]"
      ]
     },
     "execution_count": 7,
     "metadata": {},
     "output_type": "execute_result"
    }
   ],
   "source": [
    "list11[2][2].append(5000)\n",
    "list11"
   ]
  },
  {
   "cell_type": "code",
   "execution_count": 11,
   "id": "91989799-bccf-401e-b8b1-6ecf8822985e",
   "metadata": {},
   "outputs": [
    {
     "data": {
      "text/plain": [
       "[10, 15, [150, 200, [6000, 4000, 5000], 20, 25]]"
      ]
     },
     "execution_count": 11,
     "metadata": {},
     "output_type": "execute_result"
    }
   ],
   "source": [
    "list11[2][2].insert(2,5000)\n",
    "list11"
   ]
  },
  {
   "cell_type": "code",
   "execution_count": 227,
   "id": "9692cc95-a83c-4468-a30a-65cb32ddff91",
   "metadata": {},
   "outputs": [],
   "source": [
    "#####Q)we have a sample dictionary={'name':'madhu','city':'xyz','salary':11,age:80}\n",
    "#### Change the key 'city' to 'location' in the above dictionary"
   ]
  },
  {
   "cell_type": "code",
   "execution_count": 15,
   "id": "7fab322d-a868-448d-b3c8-7ad75ef91b6b",
   "metadata": {},
   "outputs": [],
   "source": [
    "dictionary={'name':'madhu','city':'xyz','salary':11,'age':80}"
   ]
  },
  {
   "cell_type": "code",
   "execution_count": 17,
   "id": "8b104e37-5a8d-4721-86a6-b008721650f2",
   "metadata": {},
   "outputs": [
    {
     "name": "stdout",
     "output_type": "stream",
     "text": [
      "{'name': 'madhu', 'salary': 11, 'age': 80, 'location': 'xyz'}\n"
     ]
    }
   ],
   "source": [
    "dictionary['location']=dictionary.pop('city')\n",
    "print(dictionary)"
   ]
  },
  {
   "cell_type": "code",
   "execution_count": 21,
   "id": "dd4553d4-8c1d-4f31-83df-45010202860e",
   "metadata": {},
   "outputs": [
    {
     "name": "stdout",
     "output_type": "stream",
     "text": [
      "{'name': 'madhu', 'salary': 11, 'age': 80, 'location': 'xyz'}\n"
     ]
    }
   ],
   "source": [
    "##2nd approach-:\n",
    "dictionary={'name':'madhu','city':'xyz','salary':11,'age':80}\n",
    "del dictionary['city']\n",
    "dictionary['location']='xyz'\n",
    "print(dictionary)"
   ]
  },
  {
   "cell_type": "code",
   "execution_count": 380,
   "id": "7d9f3b46-c4a7-400c-8036-4829ffaef294",
   "metadata": {},
   "outputs": [
    {
     "data": {
      "text/plain": [
       "[16, 17.5, (5+2j), False]"
      ]
     },
     "execution_count": 380,
     "metadata": {},
     "output_type": "execute_result"
    }
   ],
   "source": [
    "list8=list(t1) #converting a tuple to a list\n",
    "list8"
   ]
  },
  {
   "cell_type": "code",
   "execution_count": 384,
   "id": "5e79ff50-2127-4caa-9735-c764118505a7",
   "metadata": {},
   "outputs": [
    {
     "data": {
      "text/plain": [
       "[50, 20, 40, 10, 60]"
      ]
     },
     "execution_count": 384,
     "metadata": {},
     "output_type": "execute_result"
    }
   ],
   "source": [
    "list9=list(set4) #converting a set to a list \n",
    "list9"
   ]
  },
  {
   "cell_type": "markdown",
   "id": "bfa0e43a-eb90-4dfe-952f-9f642b388405",
   "metadata": {},
   "source": [
    " #### Loops:"
   ]
  },
  {
   "cell_type": "code",
   "execution_count": 24,
   "id": "41ae92d2-e864-4519-9488-652a2b493680",
   "metadata": {},
   "outputs": [],
   "source": [
    "list12=[45,65,82,78]"
   ]
  },
  {
   "cell_type": "code",
   "execution_count": 26,
   "id": "9f1cd83d-7b2a-40bd-8327-fafe8e8459d0",
   "metadata": {},
   "outputs": [],
   "source": [
    "#increment each element by a 1 and print out the results."
   ]
  },
  {
   "cell_type": "code",
   "execution_count": 28,
   "id": "366bb0c9-8676-4c30-96b1-907596078228",
   "metadata": {},
   "outputs": [
    {
     "name": "stdout",
     "output_type": "stream",
     "text": [
      "46\n",
      "66\n",
      "83\n",
      "79\n"
     ]
    }
   ],
   "source": [
    "print(list12[0]+1)\n",
    "print(list12[1]+1)\n",
    "print(list12[2]+1)\n",
    "print(list12[3]+1)"
   ]
  },
  {
   "cell_type": "code",
   "execution_count": 30,
   "id": "b0bacdcf-977a-41dd-a266-1a7777372e63",
   "metadata": {},
   "outputs": [
    {
     "name": "stdout",
     "output_type": "stream",
     "text": [
      "46\n",
      "66\n",
      "83\n",
      "79\n"
     ]
    }
   ],
   "source": [
    "for taha in list12:\n",
    "    print(taha+1)"
   ]
  },
  {
   "cell_type": "code",
   "execution_count": 32,
   "id": "28ae99c7-c87b-4f2a-8d4c-1c7d516bb4da",
   "metadata": {},
   "outputs": [
    {
     "name": "stdout",
     "output_type": "stream",
     "text": [
      "s\n",
      "i\n",
      "m\n",
      "p\n",
      "l\n",
      "i\n",
      "l\n",
      "e\n",
      "a\n",
      "r\n",
      "n\n"
     ]
    }
   ],
   "source": [
    "###example2:\n",
    "string='simplilearn'\n",
    "for k in string:\n",
    "    print(k)"
   ]
  },
  {
   "cell_type": "code",
   "execution_count": 40,
   "id": "1f99e4b0-6600-43c8-8598-b571ec007b5a",
   "metadata": {},
   "outputs": [
    {
     "name": "stdout",
     "output_type": "stream",
     "text": [
      "8\n",
      "9\n",
      "10\n"
     ]
    }
   ],
   "source": [
    "list1=[7,8,9]\n",
    "for x in list1:\n",
    " print(x+1)   #why error mamm"
   ]
  },
  {
   "cell_type": "code",
   "execution_count": 36,
   "id": "5bbde60d-4d61-4ca0-a525-c585bbfdf2bd",
   "metadata": {},
   "outputs": [
    {
     "data": {
      "text/plain": [
       "'mn'"
      ]
     },
     "execution_count": 36,
     "metadata": {},
     "output_type": "execute_result"
    }
   ],
   "source": [
    "'m'+'n'"
   ]
  },
  {
   "cell_type": "code",
   "execution_count": 38,
   "id": "fcf2e1f1-4ad8-468c-97ff-d7e5ee3687d6",
   "metadata": {},
   "outputs": [
    {
     "data": {
      "text/plain": [
       "17"
      ]
     },
     "execution_count": 38,
     "metadata": {},
     "output_type": "execute_result"
    }
   ],
   "source": [
    "8+9"
   ]
  },
  {
   "cell_type": "code",
   "execution_count": 48,
   "id": "a2ef88f2-b001-4762-8191-a2d4738e6f70",
   "metadata": {},
   "outputs": [
    {
     "name": "stdout",
     "output_type": "stream",
     "text": [
      "1\n",
      "4\n",
      "9\n",
      "16\n",
      "25\n",
      "36\n",
      "49\n",
      "64\n"
     ]
    }
   ],
   "source": [
    "##example 3:\n",
    "for x in range(1,9):\n",
    "    print(x**2)"
   ]
  },
  {
   "cell_type": "code",
   "execution_count": 46,
   "id": "b1750349-a39a-4cd1-8c17-537dacd35626",
   "metadata": {},
   "outputs": [
    {
     "name": "stdout",
     "output_type": "stream",
     "text": [
      "[0, 1, 2, 3, 4, 5, 6, 7]\n"
     ]
    }
   ],
   "source": [
    "print(list(range(8)))"
   ]
  },
  {
   "cell_type": "code",
   "execution_count": 50,
   "id": "b9700b16-740c-4b2e-85e2-4c250827c90d",
   "metadata": {},
   "outputs": [
    {
     "name": "stdout",
     "output_type": "stream",
     "text": [
      "1\n",
      "4\n",
      "9\n",
      "16\n",
      "25\n",
      "36\n",
      "49\n",
      "64\n"
     ]
    }
   ],
   "source": [
    "list=[1,2,3,4,5,6,7,8]\n",
    "for x in list:\n",
    " print(x**2)"
   ]
  },
  {
   "cell_type": "code",
   "execution_count": 52,
   "id": "f984ada3-27db-4bb6-9e25-40de5890ea6f",
   "metadata": {},
   "outputs": [],
   "source": [
    "#### I have a list of values 'cat','mat','bat','rat','sat'. Print out all these values along with the index."
   ]
  },
  {
   "cell_type": "code",
   "execution_count": 54,
   "id": "3fc589f4-2923-4a1e-840a-2a53b53fe32e",
   "metadata": {},
   "outputs": [
    {
     "name": "stdout",
     "output_type": "stream",
     "text": [
      "The element at index: 0 is cat\n",
      "The element at index: 1 is mat\n",
      "The element at index: 2 is bat\n",
      "The element at index: 3 is rat\n",
      "The element at index: 4 is sat\n"
     ]
    }
   ],
   "source": [
    "list13=['cat','mat','bat','rat','sat']\n",
    "i=0\n",
    "for k in list13:\n",
    "    print('The element at index:',i,'is',k)\n",
    "    i=i+1\n",
    "    \n"
   ]
  },
  {
   "cell_type": "code",
   "execution_count": 56,
   "id": "2ffa7cdc-f888-41db-bf9c-1bdfe72ff80b",
   "metadata": {},
   "outputs": [
    {
     "name": "stdout",
     "output_type": "stream",
     "text": [
      "0 cat\n",
      "1 bat\n",
      "2 mat\n",
      "3 rat\n",
      "4 sat\n"
     ]
    }
   ],
   "source": [
    "animal= [\"cat\",\"bat\",\"mat\",\"rat\",\"sat\"]\n",
    "for i in range (len(animal)):\n",
    "    print(i, animal[i])"
   ]
  },
  {
   "cell_type": "markdown",
   "id": "2497b8ab-76eb-484f-a25a-75ac9aa3c1c7",
   "metadata": {},
   "source": [
    "### Loop Control Statements:"
   ]
  },
  {
   "cell_type": "code",
   "execution_count": 59,
   "id": "6411666c-a326-4143-b476-de53d100e581",
   "metadata": {},
   "outputs": [
    {
     "name": "stdout",
     "output_type": "stream",
     "text": [
      "Maths\n",
      "Eng\n",
      "French\n",
      "Civics\n"
     ]
    }
   ],
   "source": [
    "subs=['Maths','Eng','French','Civics','Economics','Hindi']\n",
    "\n",
    "for i in subs:\n",
    "    print(i)\n",
    "    if i=='Civics':\n",
    "        break"
   ]
  },
  {
   "cell_type": "code",
   "execution_count": 61,
   "id": "276efdc4-0d30-4d20-81dc-61f37db9521b",
   "metadata": {},
   "outputs": [],
   "source": [
    "# break statement will stop the execution of the loop. Continue will skip an iteration and move to the next iteration."
   ]
  },
  {
   "cell_type": "code",
   "execution_count": 11,
   "id": "7935a564-75d8-4650-83be-65c9c15eea97",
   "metadata": {},
   "outputs": [
    {
     "name": "stdout",
     "output_type": "stream",
     "text": [
      "Maths\n",
      "Eng\n",
      "French\n",
      "Hindi\n"
     ]
    }
   ],
   "source": [
    "subs=['Maths','Eng','French','Civics','Economics','Hindi']\n",
    "\n",
    "for i in subs:\n",
    "    \n",
    "    if i=='Civics'or i=='Economics':\n",
    "        continue\n",
    "    print(i)\n",
    "        "
   ]
  },
  {
   "cell_type": "code",
   "execution_count": 1,
   "id": "3d1f213c-93fe-43e4-b362-10206e48218e",
   "metadata": {},
   "outputs": [
    {
     "name": "stdout",
     "output_type": "stream",
     "text": [
      "[0, 1, 2, 3, 4, 5, 6, 7, 8, 9]\n"
     ]
    }
   ],
   "source": [
    "print(list(range(10)))\n"
   ]
  },
  {
   "cell_type": "code",
   "execution_count": 3,
   "id": "ff370c11-128a-48e2-a4ae-55862f6042f9",
   "metadata": {},
   "outputs": [
    {
     "name": "stdout",
     "output_type": "stream",
     "text": [
      "[0, 1, 2, 3, 4, 5, 6, 7, 8, 9]\n"
     ]
    }
   ],
   "source": [
    "print(list(range(10)))"
   ]
  },
  {
   "cell_type": "code",
   "execution_count": 5,
   "id": "41bc2716-833a-43d0-9dd3-2f567b9dbf16",
   "metadata": {},
   "outputs": [
    {
     "data": {
      "text/plain": [
       "[0, 1, 2, 3, 4, 5, 6, 7, 8, 9]"
      ]
     },
     "execution_count": 5,
     "metadata": {},
     "output_type": "execute_result"
    }
   ],
   "source": [
    "list1 = list(range(10))\n",
    "list1"
   ]
  },
  {
   "cell_type": "code",
   "execution_count": null,
   "id": "5ccdf40c-7bbd-49a8-9673-7f4afbabc772",
   "metadata": {},
   "outputs": [],
   "source": [
    "###Q) consider a string 'simplilearn'. print only the consonants from this string using the for loop."
   ]
  },
  {
   "cell_type": "code",
   "execution_count": 15,
   "id": "d5475e4d-e975-477d-9458-05da20282ff5",
   "metadata": {},
   "outputs": [
    {
     "name": "stdout",
     "output_type": "stream",
     "text": [
      "s\n",
      "m\n",
      "p\n",
      "l\n",
      "l\n",
      "r\n",
      "n\n"
     ]
    }
   ],
   "source": [
    "str10='simplilearn'\n",
    "for i in str10:\n",
    "    if i=='i' or i=='a' or i=='e' or i=='o' or i=='u':\n",
    "        continue\n",
    "    \n",
    "    print(i)\n"
   ]
  },
  {
   "cell_type": "code",
   "execution_count": null,
   "id": "e441aab9-847b-472a-9afa-111df3194e00",
   "metadata": {},
   "outputs": [],
   "source": []
  },
  {
   "cell_type": "code",
   "execution_count": 27,
   "id": "60ee5717-e405-4b65-bdb6-b7869d3189d3",
   "metadata": {},
   "outputs": [
    {
     "name": "stdout",
     "output_type": "stream",
     "text": [
      "s\n",
      "m\n",
      "p\n",
      "l\n",
      "l\n",
      "r\n",
      "n\n"
     ]
    }
   ],
   "source": [
    "str = 'simplilearn'\n",
    "for x in str:\n",
    "    if not (x=='i' or x=='e' or x == 'a'):\n",
    "        print(x)\n",
    "    #print(x)\n",
    "    \n",
    "\n",
    "\n"
   ]
  },
  {
   "cell_type": "code",
   "execution_count": 3,
   "id": "06f16008-651a-4232-8196-9f43fbf30ed3",
   "metadata": {},
   "outputs": [
    {
     "name": "stdout",
     "output_type": "stream",
     "text": [
      "smpllern"
     ]
    }
   ],
   "source": [
    "str ='simplilearn'\n",
    "vovel ='auiou'\n",
    "for i in str:\n",
    "    if i not in vovel:\n",
    "        print(i,end=\"\")"
   ]
  },
  {
   "cell_type": "code",
   "execution_count": 30,
   "id": "b7221b4c-2757-4922-aa3a-ad158f550344",
   "metadata": {},
   "outputs": [],
   "source": [
    "###Q)write a for loop to print the following sequence 10,20,30,40,.....200"
   ]
  },
  {
   "cell_type": "code",
   "execution_count": 7,
   "id": "5c7c244b-bb70-4e82-a784-265b7cc74e87",
   "metadata": {},
   "outputs": [],
   "source": [
    "\n",
    "#for item in range(10,201,10):\n",
    "    #print (item)"
   ]
  },
  {
   "cell_type": "code",
   "execution_count": 5,
   "id": "4b5e0d66-abc1-4da9-96c3-4ba314414f28",
   "metadata": {},
   "outputs": [
    {
     "name": "stdout",
     "output_type": "stream",
     "text": [
      "sequence: 10\n",
      "sequence: 20\n",
      "sequence: 30\n",
      "sequence: 40\n",
      "sequence: 50\n",
      "sequence: 60\n",
      "sequence: 70\n",
      "sequence: 80\n",
      "sequence: 90\n",
      "sequence: 100\n",
      "sequence: 110\n",
      "sequence: 120\n",
      "sequence: 130\n",
      "sequence: 140\n",
      "sequence: 150\n",
      "sequence: 160\n",
      "sequence: 170\n",
      "sequence: 180\n",
      "sequence: 190\n",
      "sequence: 200\n"
     ]
    }
   ],
   "source": [
    "list25=(range(1,21))\n",
    "for i in list25:\n",
    "    print('sequence:',i*10)"
   ]
  },
  {
   "cell_type": "code",
   "execution_count": null,
   "id": "ddfeaa08-1f21-4e8c-8d02-e7c64ffece38",
   "metadata": {},
   "outputs": [],
   "source": []
  }
 ],
 "metadata": {
  "kernelspec": {
   "display_name": "Python [conda env:base] *",
   "language": "python",
   "name": "conda-base-py"
  },
  "language_info": {
   "codemirror_mode": {
    "name": "ipython",
    "version": 3
   },
   "file_extension": ".py",
   "mimetype": "text/x-python",
   "name": "python",
   "nbconvert_exporter": "python",
   "pygments_lexer": "ipython3",
   "version": "3.12.7"
  }
 },
 "nbformat": 4,
 "nbformat_minor": 5
}

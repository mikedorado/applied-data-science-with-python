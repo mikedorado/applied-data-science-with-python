{
 "cells": [
  {
   "cell_type": "markdown",
   "id": "04f0bc1c-9a34-421f-adf2-10f8171a450a",
   "metadata": {
    "tags": []
   },
   "source": [
    "## Course End Project\n",
    "## Retail Analysis with Walmart Data\n",
    "#### By: Mike Dorado\n",
    "\n",
    "### Problem Statement:\n",
    "\n",
    "One of the leading retail stores in the US, Walmart, would like to predict the sales and demand accurately. There are certain events and holidays which impact sales on each day. There are sales data available for 45 stores of Walmart. The business is facing a challenge due to unforeseen demands and runs out of stock some times, due to the inappropriate machine learning algorithm. An ideal ML algorithm will predict demand accurately and ingest factors like economic conditions including CPI, Unemployment Index, etc.\n",
    "\n",
    "Walmart runs several promotional markdown events throughout the year. These markdowns precede prominent holidays, the four largest of all, which are the Super Bowl, Labour Day, Thanksgiving, and Christmas. The weeks including these holidays are weighted five times higher in the evaluation than non-holiday weeks. Part of the challenge presented by this competition is modeling the effects of markdowns on these holiday weeks in the absence of complete/ideal historical data. Historical sales data for 45 Walmart stores located in different regions are available.\n",
    "\n",
    "### Tasks\n",
    "#### Basic Statistics tasks\n",
    "- Which store has maximum sales\n",
    "- Which store has maximum standard deviation i.e., the sales vary a lot. Also, find out the coefficient of mean to standard deviation\n",
    "- Which store/s has good quarterly growth rate in Q3’2012\n",
    "- Some holidays have a negative impact on sales. Find out holidays which have higher sales than the mean sales in non-holiday season for all stores together\n",
    "- Provide a monthly and semester view of sales in units and give insights\n",
    "\n",
    "#### Statistical Model\n",
    "For Store 1 – Build  prediction models to forecast demand:\n",
    "  - Linear Regression – Utilize variables like date and restructure dates as 1 for 5 Feb 2010 (starting from the earliest date in order). Hypothesize if CPI, unemployment, and fuel price have any impact on sales.\n",
    "  - Change dates into days by creating new variable.\n"
   ]
  },
  {
   "cell_type": "markdown",
   "id": "07a41c34-8b05-47a6-afeb-130f9edbd136",
   "metadata": {},
   "source": [
    "***"
   ]
  },
  {
   "cell_type": "markdown",
   "id": "050f07f1-022d-4287-93a5-40ed7165e165",
   "metadata": {
    "jp-MarkdownHeadingCollapsed": true,
    "tags": []
   },
   "source": [
    "### Data Preparation and Analysis"
   ]
  },
  {
   "cell_type": "markdown",
   "id": "c0b54e67-3a2e-4dca-a38b-b764fb9eacd3",
   "metadata": {
    "tags": []
   },
   "source": [
    "#### Import Libraries"
   ]
  },
  {
   "cell_type": "code",
   "execution_count": 2,
   "id": "8a65edf4-59ae-4c23-a5b8-25fc41adf82d",
   "metadata": {},
   "outputs": [],
   "source": [
    "### Importing the packages\n",
    "import numpy as np\n",
    "import pandas as pd\n",
    "import matplotlib.pyplot as plt\n",
    "import seaborn as sns"
   ]
  },
  {
   "cell_type": "markdown",
   "id": "eb4fa501-300c-4a22-b54a-05971cea783b",
   "metadata": {
    "tags": []
   },
   "source": [
    "#### Load Data\n",
    "\n",
    "- Load the Walmart_Store_sales.csv to a dataframe\n",
    "- Validate the dataframe (head) to see the labels and data\n",
    "- Verfiy the dataframe attributes (info)\n",
    "  - Range Index count matches Column Non-Null Count (6435 entries)\n",
    "  - dtypes consist of: \n",
    "       - 5x Float64\n",
    "       - 2x int64\n",
    "       - 1x object\n",
    "  - Verify no missing data (isna sum)\n",
    "  - Verify no duplicate data (duplicated sum)"
   ]
  },
  {
   "cell_type": "code",
   "execution_count": 3,
   "id": "4103a91c-d34b-4d70-be04-3afffb26b144",
   "metadata": {},
   "outputs": [
    {
     "data": {
      "text/html": [
       "<div>\n",
       "<style scoped>\n",
       "    .dataframe tbody tr th:only-of-type {\n",
       "        vertical-align: middle;\n",
       "    }\n",
       "\n",
       "    .dataframe tbody tr th {\n",
       "        vertical-align: top;\n",
       "    }\n",
       "\n",
       "    .dataframe thead th {\n",
       "        text-align: right;\n",
       "    }\n",
       "</style>\n",
       "<table border=\"1\" class=\"dataframe\">\n",
       "  <thead>\n",
       "    <tr style=\"text-align: right;\">\n",
       "      <th></th>\n",
       "      <th>Store</th>\n",
       "      <th>Date</th>\n",
       "      <th>Weekly_Sales</th>\n",
       "      <th>Holiday_Flag</th>\n",
       "      <th>Temperature</th>\n",
       "      <th>Fuel_Price</th>\n",
       "      <th>CPI</th>\n",
       "      <th>Unemployment</th>\n",
       "    </tr>\n",
       "  </thead>\n",
       "  <tbody>\n",
       "    <tr>\n",
       "      <th>0</th>\n",
       "      <td>1</td>\n",
       "      <td>05-02-2010</td>\n",
       "      <td>1643690.90</td>\n",
       "      <td>0</td>\n",
       "      <td>42.31</td>\n",
       "      <td>2.572</td>\n",
       "      <td>211.096358</td>\n",
       "      <td>8.106</td>\n",
       "    </tr>\n",
       "    <tr>\n",
       "      <th>1</th>\n",
       "      <td>1</td>\n",
       "      <td>12-02-2010</td>\n",
       "      <td>1641957.44</td>\n",
       "      <td>1</td>\n",
       "      <td>38.51</td>\n",
       "      <td>2.548</td>\n",
       "      <td>211.242170</td>\n",
       "      <td>8.106</td>\n",
       "    </tr>\n",
       "    <tr>\n",
       "      <th>2</th>\n",
       "      <td>1</td>\n",
       "      <td>19-02-2010</td>\n",
       "      <td>1611968.17</td>\n",
       "      <td>0</td>\n",
       "      <td>39.93</td>\n",
       "      <td>2.514</td>\n",
       "      <td>211.289143</td>\n",
       "      <td>8.106</td>\n",
       "    </tr>\n",
       "    <tr>\n",
       "      <th>3</th>\n",
       "      <td>1</td>\n",
       "      <td>26-02-2010</td>\n",
       "      <td>1409727.59</td>\n",
       "      <td>0</td>\n",
       "      <td>46.63</td>\n",
       "      <td>2.561</td>\n",
       "      <td>211.319643</td>\n",
       "      <td>8.106</td>\n",
       "    </tr>\n",
       "    <tr>\n",
       "      <th>4</th>\n",
       "      <td>1</td>\n",
       "      <td>05-03-2010</td>\n",
       "      <td>1554806.68</td>\n",
       "      <td>0</td>\n",
       "      <td>46.50</td>\n",
       "      <td>2.625</td>\n",
       "      <td>211.350143</td>\n",
       "      <td>8.106</td>\n",
       "    </tr>\n",
       "  </tbody>\n",
       "</table>\n",
       "</div>"
      ],
      "text/plain": [
       "   Store        Date  Weekly_Sales  Holiday_Flag  Temperature  Fuel_Price  \\\n",
       "0      1  05-02-2010    1643690.90             0        42.31       2.572   \n",
       "1      1  12-02-2010    1641957.44             1        38.51       2.548   \n",
       "2      1  19-02-2010    1611968.17             0        39.93       2.514   \n",
       "3      1  26-02-2010    1409727.59             0        46.63       2.561   \n",
       "4      1  05-03-2010    1554806.68             0        46.50       2.625   \n",
       "\n",
       "          CPI  Unemployment  \n",
       "0  211.096358         8.106  \n",
       "1  211.242170         8.106  \n",
       "2  211.289143         8.106  \n",
       "3  211.319643         8.106  \n",
       "4  211.350143         8.106  "
      ]
     },
     "execution_count": 3,
     "metadata": {},
     "output_type": "execute_result"
    }
   ],
   "source": [
    "data=pd.read_csv('Walmart_Store_sales.csv')\n",
    "data.head()"
   ]
  },
  {
   "cell_type": "code",
   "execution_count": 4,
   "id": "55aba503-8eb4-4f9f-a43c-57b38cca25e8",
   "metadata": {},
   "outputs": [
    {
     "name": "stdout",
     "output_type": "stream",
     "text": [
      "<class 'pandas.core.frame.DataFrame'>\n",
      "RangeIndex: 6435 entries, 0 to 6434\n",
      "Data columns (total 8 columns):\n",
      " #   Column        Non-Null Count  Dtype  \n",
      "---  ------        --------------  -----  \n",
      " 0   Store         6435 non-null   int64  \n",
      " 1   Date          6435 non-null   object \n",
      " 2   Weekly_Sales  6435 non-null   float64\n",
      " 3   Holiday_Flag  6435 non-null   int64  \n",
      " 4   Temperature   6435 non-null   float64\n",
      " 5   Fuel_Price    6435 non-null   float64\n",
      " 6   CPI           6435 non-null   float64\n",
      " 7   Unemployment  6435 non-null   float64\n",
      "dtypes: float64(5), int64(2), object(1)\n",
      "memory usage: 402.3+ KB\n"
     ]
    }
   ],
   "source": [
    "data.info()"
   ]
  },
  {
   "cell_type": "code",
   "execution_count": 5,
   "id": "7ac04322-7eb5-4862-8e14-4ec9c4e4abe3",
   "metadata": {},
   "outputs": [
    {
     "data": {
      "text/plain": [
       "Store           0\n",
       "Date            0\n",
       "Weekly_Sales    0\n",
       "Holiday_Flag    0\n",
       "Temperature     0\n",
       "Fuel_Price      0\n",
       "CPI             0\n",
       "Unemployment    0\n",
       "dtype: int64"
      ]
     },
     "execution_count": 5,
     "metadata": {},
     "output_type": "execute_result"
    }
   ],
   "source": [
    "data.isna().sum()"
   ]
  },
  {
   "cell_type": "code",
   "execution_count": 6,
   "id": "f8951c66-a461-4490-bc47-65602e31e2e6",
   "metadata": {},
   "outputs": [
    {
     "data": {
      "text/plain": [
       "0"
      ]
     },
     "execution_count": 6,
     "metadata": {},
     "output_type": "execute_result"
    }
   ],
   "source": [
    "data.duplicated().sum()"
   ]
  },
  {
   "cell_type": "markdown",
   "id": "6b020c0d-2536-4c0b-b23b-a7d9d6f8fcf9",
   "metadata": {
    "tags": []
   },
   "source": [
    "#### Data cleanup and Conversions\n",
    "\n",
    "- Import datetime library\n",
    "- Convert dataframe Date format from object to datetime\n",
    "- Validate dtypes updates:\n",
    "  - 1x datetime64"
   ]
  },
  {
   "cell_type": "code",
   "execution_count": 7,
   "id": "2c1a6b4c-c57e-45bd-8e58-dbf7379eeb96",
   "metadata": {},
   "outputs": [],
   "source": [
    "### Convert data format to datetime\n",
    "from datetime import datetime\n",
    "data['Date']=pd.to_datetime(data['Date'],dayfirst=True)"
   ]
  },
  {
   "cell_type": "code",
   "execution_count": 8,
   "id": "7f78c154-82cb-472c-b0ee-3facb8f9d0fc",
   "metadata": {},
   "outputs": [
    {
     "data": {
      "text/plain": [
       "Store                    int64\n",
       "Date            datetime64[ns]\n",
       "Weekly_Sales           float64\n",
       "Holiday_Flag             int64\n",
       "Temperature            float64\n",
       "Fuel_Price             float64\n",
       "CPI                    float64\n",
       "Unemployment           float64\n",
       "dtype: object"
      ]
     },
     "execution_count": 8,
     "metadata": {},
     "output_type": "execute_result"
    }
   ],
   "source": [
    "data.dtypes"
   ]
  },
  {
   "cell_type": "markdown",
   "id": "a5379854-03e6-4688-9369-e126982406a6",
   "metadata": {
    "jp-MarkdownHeadingCollapsed": true,
    "tags": []
   },
   "source": [
    "### Statistics Tasks"
   ]
  },
  {
   "cell_type": "markdown",
   "id": "a7bda020-f0f4-4202-bc61-039e64d62d3a",
   "metadata": {
    "tags": []
   },
   "source": [
    "#### Which store has maximum sales?\n",
    "\n",
    "- total sales: Dataframe grouped by Store with the sum of Weekly_Sales (rounded and sorted ascending)\n",
    "- Verify the top results (head)\n",
    "\n",
    "##### Store ID # 20 - highest sales"
   ]
  },
  {
   "cell_type": "code",
   "execution_count": 9,
   "id": "adfaa6e6-2809-4244-9f92-841e3bf548db",
   "metadata": {},
   "outputs": [],
   "source": [
    "total_sales=data.groupby('Store')['Weekly_Sales'].sum().round().sort_values(ascending=False)"
   ]
  },
  {
   "cell_type": "code",
   "execution_count": 10,
   "id": "f1801695-4cb4-4a2f-9393-f95f04dc4187",
   "metadata": {},
   "outputs": [
    {
     "data": {
      "text/plain": [
       "Store\n",
       "20    301397792.0\n",
       "4     299543953.0\n",
       "Name: Weekly_Sales, dtype: float64"
      ]
     },
     "execution_count": 10,
     "metadata": {},
     "output_type": "execute_result"
    }
   ],
   "source": [
    "total_sales.head(2)"
   ]
  },
  {
   "cell_type": "markdown",
   "id": "38126f90-760c-40a8-9cb6-bc999ac935cd",
   "metadata": {},
   "source": [
    "##### Store ID # 20 - highest sales"
   ]
  },
  {
   "cell_type": "code",
   "execution_count": 11,
   "id": "88c9b641-71a1-4242-a738-7be6dc1c128c",
   "metadata": {},
   "outputs": [
    {
     "data": {
      "text/html": [
       "<div>\n",
       "<style scoped>\n",
       "    .dataframe tbody tr th:only-of-type {\n",
       "        vertical-align: middle;\n",
       "    }\n",
       "\n",
       "    .dataframe tbody tr th {\n",
       "        vertical-align: top;\n",
       "    }\n",
       "\n",
       "    .dataframe thead th {\n",
       "        text-align: right;\n",
       "    }\n",
       "</style>\n",
       "<table border=\"1\" class=\"dataframe\">\n",
       "  <thead>\n",
       "    <tr style=\"text-align: right;\">\n",
       "      <th></th>\n",
       "      <th>Weekly_Sales</th>\n",
       "    </tr>\n",
       "    <tr>\n",
       "      <th>Store</th>\n",
       "      <th></th>\n",
       "    </tr>\n",
       "  </thead>\n",
       "  <tbody>\n",
       "    <tr>\n",
       "      <th>33</th>\n",
       "      <td>37160222.0</td>\n",
       "    </tr>\n",
       "  </tbody>\n",
       "</table>\n",
       "</div>"
      ],
      "text/plain": [
       "       Weekly_Sales\n",
       "Store              \n",
       "33       37160222.0"
      ]
     },
     "execution_count": 11,
     "metadata": {},
     "output_type": "execute_result"
    }
   ],
   "source": [
    "pd.DataFrame(total_sales).tail(1)"
   ]
  },
  {
   "cell_type": "markdown",
   "id": "095b8033-c68f-46af-80ca-3e0ef0789026",
   "metadata": {},
   "source": [
    "##### Store ID # 33 - lowest sales"
   ]
  },
  {
   "cell_type": "markdown",
   "id": "7dff72f1-48e7-4d15-b9fb-3cb701651954",
   "metadata": {
    "tags": []
   },
   "source": [
    "#### Which store has the maximum standard diviation - i.e., the sales vary a lot. \n",
    "#### Also, find out the coefficient of mean to the standard diviation\n",
    "\n",
    "- standard diviation: Dataframe grouped by Store with the standard diviation function (std) on Weekly_sales (rounded and sorted ascending)\n",
    "- Verify the top results (head)\n",
    "- Calculate the coefficient of variation for the top result (Store 14)\n",
    "  - store14 isolated Weekly sales data\n",
    "  - Calculate store 14 standard diviation / mean * 100 (rounded 2 decimal)\n",
    "  \n",
    "##### Store # 14 has the highest variation in sales\n",
    "##### Coefficient of variatition for Store 14: 15.71%"
   ]
  },
  {
   "cell_type": "code",
   "execution_count": 12,
   "id": "9c3c21c8-f0bc-4a6e-888b-97324818605d",
   "metadata": {},
   "outputs": [],
   "source": [
    "data_std=data.groupby('Store')['Weekly_Sales'].std().round().sort_values(ascending=0)"
   ]
  },
  {
   "cell_type": "code",
   "execution_count": 13,
   "id": "04239a2f-f415-41a2-8a06-8758364b4b9b",
   "metadata": {},
   "outputs": [
    {
     "data": {
      "text/html": [
       "<div>\n",
       "<style scoped>\n",
       "    .dataframe tbody tr th:only-of-type {\n",
       "        vertical-align: middle;\n",
       "    }\n",
       "\n",
       "    .dataframe tbody tr th {\n",
       "        vertical-align: top;\n",
       "    }\n",
       "\n",
       "    .dataframe thead th {\n",
       "        text-align: right;\n",
       "    }\n",
       "</style>\n",
       "<table border=\"1\" class=\"dataframe\">\n",
       "  <thead>\n",
       "    <tr style=\"text-align: right;\">\n",
       "      <th></th>\n",
       "      <th>Weekly_Sales</th>\n",
       "    </tr>\n",
       "    <tr>\n",
       "      <th>Store</th>\n",
       "      <th></th>\n",
       "    </tr>\n",
       "  </thead>\n",
       "  <tbody>\n",
       "    <tr>\n",
       "      <th>14</th>\n",
       "      <td>317570.0</td>\n",
       "    </tr>\n",
       "  </tbody>\n",
       "</table>\n",
       "</div>"
      ],
      "text/plain": [
       "       Weekly_Sales\n",
       "Store              \n",
       "14         317570.0"
      ]
     },
     "execution_count": 13,
     "metadata": {},
     "output_type": "execute_result"
    }
   ],
   "source": [
    "pd.DataFrame(data_std).head(1)"
   ]
  },
  {
   "cell_type": "markdown",
   "id": "d3205784-1d68-4cd8-9fbd-328066123d53",
   "metadata": {},
   "source": [
    "##### Store # 14 has the highest variation in sales"
   ]
  },
  {
   "cell_type": "code",
   "execution_count": 14,
   "id": "0979c248-3e19-427b-bf16-f6d4e3822342",
   "metadata": {},
   "outputs": [],
   "source": [
    "store14=data[data.Store==14].Weekly_Sales"
   ]
  },
  {
   "cell_type": "code",
   "execution_count": 15,
   "id": "0122a971-4d60-448e-bb2d-70a0bd34d82f",
   "metadata": {},
   "outputs": [
    {
     "data": {
      "text/plain": [
       "15.71"
      ]
     },
     "execution_count": 15,
     "metadata": {},
     "output_type": "execute_result"
    }
   ],
   "source": [
    "coefficient_of_variatition=store14.std()/store14.mean()*100\n",
    "coefficient_of_variatition.round(2)"
   ]
  },
  {
   "cell_type": "markdown",
   "id": "0bc6c464-8287-4787-ae71-45c20768e323",
   "metadata": {},
   "source": [
    "##### Coefficient of variatition for Store 14: 15.71%"
   ]
  },
  {
   "cell_type": "markdown",
   "id": "5149c030-610a-48a5-9f69-cb3b6611f37b",
   "metadata": {
    "tags": []
   },
   "source": [
    "#### Which store/s has good quarterly growth rate in Q3'2012\n",
    "\n",
    "- Quarterly sales data for Q2 and Q3: Dataframe ranges grouped by Store with Weekly_Sales (sum and rounded)\n",
    "  - Q2 range: 2012-04-01 <-> 2012-06-30\n",
    "  - Q3 range: 2021-07-01 <-> 2012-09-30\n",
    "- Dataframe table of Q2 sales | Q3 sales | Difference | Growth Rate (sorted by Growth rate ascending)\n",
    "  - DIfference: q2_sales - q3_sales\n",
    "  - Growth Rate: q2_sales - q3_sales / q2_sales * 100\n",
    "  \n",
    "##### Top 3 Growth rates - Store7 (13.33%), Store16 (8.49%), Store35 (4.47%)"
   ]
  },
  {
   "cell_type": "code",
   "execution_count": 16,
   "id": "b4e245e3-2d38-4f1d-84ce-80eadb6d6da1",
   "metadata": {},
   "outputs": [],
   "source": [
    "### Q2 Sales\n",
    "q2_sales=data[(data['Date']>='2012-04-01')&(data['Date']<='2012-06-30')].groupby('Store')['Weekly_Sales'].sum().round()\n",
    "q3_sales=data[(data['Date']>='2012-07-01')&(data['Date']<='2012-09-30')].groupby('Store')['Weekly_Sales'].sum().round()"
   ]
  },
  {
   "cell_type": "code",
   "execution_count": 17,
   "id": "2e762998-460b-4443-8fcd-3b6dc8caffd5",
   "metadata": {},
   "outputs": [
    {
     "data": {
      "text/html": [
       "<div>\n",
       "<style scoped>\n",
       "    .dataframe tbody tr th:only-of-type {\n",
       "        vertical-align: middle;\n",
       "    }\n",
       "\n",
       "    .dataframe tbody tr th {\n",
       "        vertical-align: top;\n",
       "    }\n",
       "\n",
       "    .dataframe thead th {\n",
       "        text-align: right;\n",
       "    }\n",
       "</style>\n",
       "<table border=\"1\" class=\"dataframe\">\n",
       "  <thead>\n",
       "    <tr style=\"text-align: right;\">\n",
       "      <th></th>\n",
       "      <th>Q2_Sales</th>\n",
       "      <th>Q3_Sales</th>\n",
       "      <th>Difference</th>\n",
       "      <th>Growth_Rate</th>\n",
       "    </tr>\n",
       "    <tr>\n",
       "      <th>Store</th>\n",
       "      <th></th>\n",
       "      <th></th>\n",
       "      <th></th>\n",
       "      <th></th>\n",
       "    </tr>\n",
       "  </thead>\n",
       "  <tbody>\n",
       "    <tr>\n",
       "      <th>7</th>\n",
       "      <td>7290859.0</td>\n",
       "      <td>8262787.0</td>\n",
       "      <td>971928.0</td>\n",
       "      <td>13.330775</td>\n",
       "    </tr>\n",
       "    <tr>\n",
       "      <th>16</th>\n",
       "      <td>6564336.0</td>\n",
       "      <td>7121542.0</td>\n",
       "      <td>557206.0</td>\n",
       "      <td>8.488383</td>\n",
       "    </tr>\n",
       "    <tr>\n",
       "      <th>35</th>\n",
       "      <td>10838313.0</td>\n",
       "      <td>11322421.0</td>\n",
       "      <td>484108.0</td>\n",
       "      <td>4.466636</td>\n",
       "    </tr>\n",
       "    <tr>\n",
       "      <th>26</th>\n",
       "      <td>13155336.0</td>\n",
       "      <td>13675692.0</td>\n",
       "      <td>520356.0</td>\n",
       "      <td>3.955475</td>\n",
       "    </tr>\n",
       "    <tr>\n",
       "      <th>39</th>\n",
       "      <td>20214128.0</td>\n",
       "      <td>20715116.0</td>\n",
       "      <td>500988.0</td>\n",
       "      <td>2.478405</td>\n",
       "    </tr>\n",
       "  </tbody>\n",
       "</table>\n",
       "</div>"
      ],
      "text/plain": [
       "         Q2_Sales    Q3_Sales  Difference  Growth_Rate\n",
       "Store                                                 \n",
       "7       7290859.0   8262787.0    971928.0    13.330775\n",
       "16      6564336.0   7121542.0    557206.0     8.488383\n",
       "35     10838313.0  11322421.0    484108.0     4.466636\n",
       "26     13155336.0  13675692.0    520356.0     3.955475\n",
       "39     20214128.0  20715116.0    500988.0     2.478405"
      ]
     },
     "execution_count": 17,
     "metadata": {},
     "output_type": "execute_result"
    }
   ],
   "source": [
    "pd.DataFrame({'Q2_Sales':q2_sales,'Q3_Sales':q3_sales,'Difference':(q3_sales-q2_sales),'Growth_Rate':(q3_sales-q2_sales)/q2_sales*100}).sort_values(by=['Growth_Rate'],ascending=0).head()"
   ]
  },
  {
   "cell_type": "markdown",
   "id": "0b78d5e3-9dc2-4677-aa95-a5f364e49174",
   "metadata": {
    "tags": []
   },
   "source": [
    "#### Sales Impacts - which Holidays which have a higher sales than the mean sales in non-holiday season for all stores togather\n",
    "#### Holidays: \n",
    "##### Super_Bowl: 12-Feb-10, 11-Feb-11, 10-Feb-12, 8-Feb-13\n",
    "##### Labour_Day: 10-Sep-10, 9-Sep-11, 7-Sep-12, 6-Sep-13\n",
    "##### Thanksgiving: 26-Nov-10, 25-Nov-11, 23-Nov-12, 29-Nov-13\n",
    "##### Christmas: 31-Dec-10, 30-Dec-11, 28-Dec-12, 27-Dec-13\n",
    "\n",
    "- Create lists of Specified holidays\n",
    "- Convert holiday lists to datetime format\n",
    "- Calculate the holiday mean sales: Weekly_Sales mean (rounded 2 decimals) for each holiday date range (Dataframe Date.isin(Holiday))\n",
    "- Calculate the non-holiday mean sales: Weekly_Sales mean (rounded 2 decimals) for data with Holiday flag set as 0\n",
    "- Dataframe table of Holiday and Non-Holiday mean sales listed\n",
    "\n",
    "##### Greater then mean non-holiday: Thanksgiving - 1471273.43\n",
    "##### mean sales: Non-Holiday  1041256.38\n",
    "##### Lesser then mean non-holiday: Christmas - 960833.11"
   ]
  },
  {
   "cell_type": "code",
   "execution_count": 18,
   "id": "da7d4652-b274-4b99-971e-1965c4396653",
   "metadata": {},
   "outputs": [],
   "source": [
    "### Holiday Lists\n",
    "Super_Bowl=['12-2-2010', '11-2-2011', '10-2-2012', '8-2-2013']\n",
    "Labour_Day=['10-9-2010', '9-9-2011', '7-9-2012', '6-9-2013']\n",
    "Thanksgiving=['26-11-2010', '25-11-2011', '23-11-2012', '29-11-2013']\n",
    "Christmas=['31-12-2010', '30-12-2011', '28-12-2012', '27-12-2013']"
   ]
  },
  {
   "cell_type": "code",
   "execution_count": 19,
   "id": "53afbf73-08b5-4e47-8f77-09224767cfd0",
   "metadata": {},
   "outputs": [],
   "source": [
    "import warnings\n",
    "warnings.filterwarnings('ignore')\n",
    "\n",
    "# Convert to Datetime\n",
    "Super_Bowl=pd.to_datetime(Super_Bowl, dayfirst=True)\n",
    "Labour_Day=pd.to_datetime(Labour_Day, dayfirst=True)\n",
    "Thanksgiving=pd.to_datetime(Thanksgiving, dayfirst=True)\n",
    "Christmas=pd.to_datetime(Christmas, dayfirst=True)\n",
    "\n",
    "\n",
    "Super_Bowl_sales=round(data.loc[data.Date.isin(Super_Bowl)]['Weekly_Sales'].mean(),2)\n",
    "Labour_Day_sales=round(data.loc[data.Date.isin(Labour_Day)]['Weekly_Sales'].mean(),2)\n",
    "Thanksgiving_sales=round(data.loc[data.Date.isin(Thanksgiving)]['Weekly_Sales'].mean(),2)\n",
    "Christmas_sales=round(data.loc[data.Date.isin(Christmas)]['Weekly_Sales'].mean(),2)"
   ]
  },
  {
   "cell_type": "code",
   "execution_count": 20,
   "id": "5d3cfb09-f343-428b-89b6-f3bbd6e37b91",
   "metadata": {},
   "outputs": [
    {
     "data": {
      "text/plain": [
       "(1079127.99, 1042427.29, 1471273.43, 960833.11)"
      ]
     },
     "execution_count": 20,
     "metadata": {},
     "output_type": "execute_result"
    }
   ],
   "source": [
    "Super_Bowl_sales, Labour_Day_sales, Thanksgiving_sales, Christmas_sales\n"
   ]
  },
  {
   "cell_type": "code",
   "execution_count": 21,
   "id": "e82a9cc7-fdb7-4000-a7ba-c1013e763ac6",
   "metadata": {},
   "outputs": [
    {
     "data": {
      "text/plain": [
       "1041256.38"
      ]
     },
     "execution_count": 21,
     "metadata": {},
     "output_type": "execute_result"
    }
   ],
   "source": [
    "non_holiday_sales=data[(data['Holiday_Flag']==0)]['Weekly_Sales'].mean().round(2)\n",
    "non_holiday_sales"
   ]
  },
  {
   "cell_type": "code",
   "execution_count": 22,
   "id": "9934640b-9220-4d9e-bee9-23e60aae12ff",
   "metadata": {},
   "outputs": [
    {
     "data": {
      "text/html": [
       "<div>\n",
       "<style scoped>\n",
       "    .dataframe tbody tr th:only-of-type {\n",
       "        vertical-align: middle;\n",
       "    }\n",
       "\n",
       "    .dataframe tbody tr th {\n",
       "        vertical-align: top;\n",
       "    }\n",
       "\n",
       "    .dataframe thead th {\n",
       "        text-align: right;\n",
       "    }\n",
       "</style>\n",
       "<table border=\"1\" class=\"dataframe\">\n",
       "  <thead>\n",
       "    <tr style=\"text-align: right;\">\n",
       "      <th></th>\n",
       "      <th>mean_sales</th>\n",
       "    </tr>\n",
       "  </thead>\n",
       "  <tbody>\n",
       "    <tr>\n",
       "      <th>Super_Bowl_sales</th>\n",
       "      <td>1079127.99</td>\n",
       "    </tr>\n",
       "    <tr>\n",
       "      <th>Labour_Day_sales</th>\n",
       "      <td>1042427.29</td>\n",
       "    </tr>\n",
       "    <tr>\n",
       "      <th>Thanksgiving_sales</th>\n",
       "      <td>1471273.43</td>\n",
       "    </tr>\n",
       "    <tr>\n",
       "      <th>Christmas_sales</th>\n",
       "      <td>960833.11</td>\n",
       "    </tr>\n",
       "    <tr>\n",
       "      <th>non_holiday_sales</th>\n",
       "      <td>1041256.38</td>\n",
       "    </tr>\n",
       "  </tbody>\n",
       "</table>\n",
       "</div>"
      ],
      "text/plain": [
       "                    mean_sales\n",
       "Super_Bowl_sales    1079127.99\n",
       "Labour_Day_sales    1042427.29\n",
       "Thanksgiving_sales  1471273.43\n",
       "Christmas_sales      960833.11\n",
       "non_holiday_sales   1041256.38"
      ]
     },
     "execution_count": 22,
     "metadata": {},
     "output_type": "execute_result"
    }
   ],
   "source": [
    "final_sales=pd.DataFrame({'Super_Bowl_sales':[Super_Bowl_sales],\n",
    "                          'Labour_Day_sales':[Labour_Day_sales],\n",
    "                          'Thanksgiving_sales':[Thanksgiving_sales],\n",
    "                          'Christmas_sales':[Christmas_sales],\n",
    "                          'non_holiday_sales':[non_holiday_sales]},index=['mean_sales']).T\n",
    "\n",
    "final_sales"
   ]
  },
  {
   "cell_type": "markdown",
   "id": "f6bef7ce-0244-43d7-9666-62d56dd6481c",
   "metadata": {},
   "source": [
    "##### Thanksgiving sales are the highest as compared to the average non holidays sales put togather"
   ]
  },
  {
   "cell_type": "markdown",
   "id": "a1bd98eb-11b8-4d33-a581-fd04a662361e",
   "metadata": {
    "jp-MarkdownHeadingCollapsed": true,
    "tags": []
   },
   "source": [
    "#### Provide a monthly and semester view of sales in units and give insights\n",
    "\n",
    "- Validate Dataframe columns\n",
    "- Create Monthly labled data (datetime month)\n",
    "- Create Yearly labled data (datetime year)\n",
    "- Create Semester labled data (datetime 1st six months H1, datetime 2nd six months H2)\n",
    "- Plot Monthly Data (X-axis month, Y-axis Weekly Sales)\n",
    "  - Mothly Max: December 3818686.45\n",
    "- Plot Yearly Data (2010, 2011, 2012)\n",
    "  - Year Max: 20144 (Highest Sum of weekly Sales)\n",
    "- Plot Semester Data (Mean Weekly sales grouped by Year/Semester)\n",
    "  - Mean Min and Max: 2011 H1 (Min), 2011 H2 (Max)\n"
   ]
  },
  {
   "cell_type": "code",
   "execution_count": 23,
   "id": "51247cc4-7f0f-49ff-bda4-aee2b1f2c68b",
   "metadata": {},
   "outputs": [
    {
     "data": {
      "text/plain": [
       "Index(['Store', 'Date', 'Weekly_Sales', 'Holiday_Flag', 'Temperature',\n",
       "       'Fuel_Price', 'CPI', 'Unemployment'],\n",
       "      dtype='object')"
      ]
     },
     "execution_count": 23,
     "metadata": {},
     "output_type": "execute_result"
    }
   ],
   "source": [
    "data.columns"
   ]
  },
  {
   "cell_type": "code",
   "execution_count": 24,
   "id": "0a926824-d4d8-43d4-86b2-56dbd8edf1ad",
   "metadata": {},
   "outputs": [],
   "source": [
    "import datetime as dt\n",
    "import pandas as pd\n",
    "data['month']=data['Date'].dt.month\n",
    "data['year']=data['Date'].dt.year\n",
    "data['semester']=np.where(data['Date'].dt.month.le(6),'H1','H2') #assumes a semester is half a year"
   ]
  },
  {
   "cell_type": "code",
   "execution_count": 25,
   "id": "531a140e-874c-4110-85e1-2415e3521779",
   "metadata": {},
   "outputs": [
    {
     "data": {
      "text/html": [
       "<div>\n",
       "<style scoped>\n",
       "    .dataframe tbody tr th:only-of-type {\n",
       "        vertical-align: middle;\n",
       "    }\n",
       "\n",
       "    .dataframe tbody tr th {\n",
       "        vertical-align: top;\n",
       "    }\n",
       "\n",
       "    .dataframe thead th {\n",
       "        text-align: right;\n",
       "    }\n",
       "</style>\n",
       "<table border=\"1\" class=\"dataframe\">\n",
       "  <thead>\n",
       "    <tr style=\"text-align: right;\">\n",
       "      <th></th>\n",
       "      <th>Store</th>\n",
       "      <th>Date</th>\n",
       "      <th>Weekly_Sales</th>\n",
       "      <th>Holiday_Flag</th>\n",
       "      <th>Temperature</th>\n",
       "      <th>Fuel_Price</th>\n",
       "      <th>CPI</th>\n",
       "      <th>Unemployment</th>\n",
       "      <th>month</th>\n",
       "      <th>year</th>\n",
       "      <th>semester</th>\n",
       "    </tr>\n",
       "  </thead>\n",
       "  <tbody>\n",
       "    <tr>\n",
       "      <th>0</th>\n",
       "      <td>1</td>\n",
       "      <td>2010-02-05</td>\n",
       "      <td>1643690.90</td>\n",
       "      <td>0</td>\n",
       "      <td>42.31</td>\n",
       "      <td>2.572</td>\n",
       "      <td>211.096358</td>\n",
       "      <td>8.106</td>\n",
       "      <td>2</td>\n",
       "      <td>2010</td>\n",
       "      <td>H1</td>\n",
       "    </tr>\n",
       "    <tr>\n",
       "      <th>1</th>\n",
       "      <td>1</td>\n",
       "      <td>2010-02-12</td>\n",
       "      <td>1641957.44</td>\n",
       "      <td>1</td>\n",
       "      <td>38.51</td>\n",
       "      <td>2.548</td>\n",
       "      <td>211.242170</td>\n",
       "      <td>8.106</td>\n",
       "      <td>2</td>\n",
       "      <td>2010</td>\n",
       "      <td>H1</td>\n",
       "    </tr>\n",
       "  </tbody>\n",
       "</table>\n",
       "</div>"
      ],
      "text/plain": [
       "   Store       Date  Weekly_Sales  Holiday_Flag  Temperature  Fuel_Price  \\\n",
       "0      1 2010-02-05    1643690.90             0        42.31       2.572   \n",
       "1      1 2010-02-12    1641957.44             1        38.51       2.548   \n",
       "\n",
       "          CPI  Unemployment  month  year semester  \n",
       "0  211.096358         8.106      2  2010       H1  \n",
       "1  211.242170         8.106      2  2010       H1  "
      ]
     },
     "execution_count": 25,
     "metadata": {},
     "output_type": "execute_result"
    }
   ],
   "source": [
    "data.head(2)"
   ]
  },
  {
   "cell_type": "code",
   "execution_count": 26,
   "id": "73655a10-fe37-4a7d-bf66-84c90b0661b6",
   "metadata": {},
   "outputs": [
    {
     "data": {
      "image/png": "[encoded data removed]",
      "text/plain": [
       "<Figure size 1080x576 with 1 Axes>"
      ]
     },
     "metadata": {
      "needs_background": "light"
     },
     "output_type": "display_data"
    }
   ],
   "source": [
    "#monthwise sales:\n",
    "plt.figure(figsize=(15,8))\n",
    "plt.bar(data['month'],data['Weekly_Sales'],color='blue')\n",
    "plt.xlabel('Months')\n",
    "plt.ylabel('Weekly Sales')\n",
    "plt.title('Monthwise Sales')\n",
    "plt.show()"
   ]
  },
  {
   "cell_type": "code",
   "execution_count": 26,
   "id": "55ebd2c5-62c2-4e00-b1e3-e38ad2a8d3a0",
   "metadata": {},
   "outputs": [
    {
     "data": {
      "text/plain": [
       "3818686.45"
      ]
     },
     "execution_count": 26,
     "metadata": {},
     "output_type": "execute_result"
    }
   ],
   "source": [
    "data['Weekly_Sales'].max()"
   ]
  },
  {
   "cell_type": "code",
   "execution_count": 27,
   "id": "7ed97380-d2d2-4dfa-b94f-6e2a57e1b7b9",
   "metadata": {},
   "outputs": [
    {
     "data": {
      "text/plain": [
       "Weekly_Sales    3818686.45\n",
       "dtype: float64"
      ]
     },
     "execution_count": 27,
     "metadata": {},
     "output_type": "execute_result"
    }
   ],
   "source": [
    "data[['Weekly_Sales']].max()"
   ]
  },
  {
   "cell_type": "code",
   "execution_count": 28,
   "id": "62f21aae-7126-40f1-9131-e9b33f822dd6",
   "metadata": {},
   "outputs": [
    {
     "data": {
      "text/plain": [
       "<Figure size 1080x576 with 0 Axes>"
      ]
     },
     "metadata": {},
     "output_type": "display_data"
    },
    {
     "data": {
      "image/png": "[encoded data removed]",
      "text/plain": [
       "<Figure size 432x288 with 1 Axes>"
      ]
     },
     "metadata": {
      "needs_background": "light"
     },
     "output_type": "display_data"
    }
   ],
   "source": [
    "#yearwise sales:\n",
    "plt.figure(figsize=(15,8))\n",
    "data.groupby('year')[['Weekly_Sales']].sum().plot(kind='bar',legend=True)\n",
    "plt.title('Yearly Sales')\n",
    "plt.show()"
   ]
  },
  {
   "cell_type": "code",
   "execution_count": 29,
   "id": "e3a6c3a5-3f64-405e-a669-5c30f84517ed",
   "metadata": {},
   "outputs": [
    {
     "data": {
      "image/png": "[encoded data removed]",
      "text/plain": [
       "<Figure size 1440x360 with 1 Axes>"
      ]
     },
     "metadata": {
      "needs_background": "light"
     },
     "output_type": "display_data"
    }
   ],
   "source": [
    "plt.rcParams[\"figure.figsize\"]=(20,5)\n",
    "data.groupby(['year','semester'])['Weekly_Sales'].mean().plot()\n",
    "plt.show()"
   ]
  },
  {
   "cell_type": "markdown",
   "id": "c2f18481-8a8b-4570-9b10-9ffe05877598",
   "metadata": {},
   "source": [
    "### Statistical Model:"
   ]
  },
  {
   "cell_type": "markdown",
   "id": "5dcf7229-3fd6-4533-bf4d-ba9020af1ef8",
   "metadata": {
    "tags": []
   },
   "source": [
    "#### Prediction Model to forecast demand\n",
    "\n",
    "Utilize variables (date, restructured)\n",
    "Hypothesize if: CPI, Unemployment, and Fuel Price have any impact on Sales.\n",
    "\n",
    "- Import required Libraries\n",
    "- Create model using Ordinary Least Square to evaluate the impact on Weekly Sales by the factors (CPI, Unemployment, Fuel Price)\n",
    "\n",
    "#### Hypothesis Results: The final accuracy of the codel is given by R2 =0.024. \n",
    "- The R-squared value of 0.024 indicates that approximately 2.4% of the variance in Weekly_Sales can be explained by the independent variables CPI, Unemployment, and Fuel_Price. \n",
    "- This is a low value, suggesting the model is not a good fit for the data and the chosen factors are not strong predictors of weekly sales.\n",
    "- The p-values for CPI and Unemployment are 0.000, which is < 0.05 \n",
    "  - This suggests that both CPI and Unemployment have a statistically significant relationship with Weekly_Sales\n",
    "- The p-value for Fuel_Price is 0.212 (> 0.05), indicating that it does not have a statistically significant impact on Weekly_Sales in this model"
   ]
  },
  {
   "cell_type": "code",
   "execution_count": 27,
   "id": "999c5771-fcba-4c35-a795-d4dfe8827f63",
   "metadata": {},
   "outputs": [],
   "source": [
    "import statsmodels.formula.api as sm\n",
    "model=sm.ols(formula=\"Weekly_Sales~CPI+Unemployment+Fuel_Price\",data=data).fit()"
   ]
  },
  {
   "cell_type": "code",
   "execution_count": 28,
   "id": "8664a7d4-17e1-4e35-92a0-dd1fb274b266",
   "metadata": {},
   "outputs": [
    {
     "data": {
      "text/html": [
       "<table class=\"simpletable\">\n",
       "<caption>OLS Regression Results</caption>\n",
       "<tr>\n",
       "  <th>Dep. Variable:</th>      <td>Weekly_Sales</td>   <th>  R-squared:         </th> <td>   0.024</td> \n",
       "</tr>\n",
       "<tr>\n",
       "  <th>Model:</th>                   <td>OLS</td>       <th>  Adj. R-squared:    </th> <td>   0.023</td> \n",
       "</tr>\n",
       "<tr>\n",
       "  <th>Method:</th>             <td>Least Squares</td>  <th>  F-statistic:       </th> <td>   51.75</td> \n",
       "</tr>\n",
       "<tr>\n",
       "  <th>Date:</th>             <td>Thu, 14 Aug 2025</td> <th>  Prob (F-statistic):</th> <td>4.81e-33</td> \n",
       "</tr>\n",
       "<tr>\n",
       "  <th>Time:</th>                 <td>06:04:33</td>     <th>  Log-Likelihood:    </th> <td> -94275.</td> \n",
       "</tr>\n",
       "<tr>\n",
       "  <th>No. Observations:</th>      <td>  6435</td>      <th>  AIC:               </th> <td>1.886e+05</td>\n",
       "</tr>\n",
       "<tr>\n",
       "  <th>Df Residuals:</th>          <td>  6431</td>      <th>  BIC:               </th> <td>1.886e+05</td>\n",
       "</tr>\n",
       "<tr>\n",
       "  <th>Df Model:</th>              <td>     3</td>      <th>                     </th>     <td> </td>    \n",
       "</tr>\n",
       "<tr>\n",
       "  <th>Covariance Type:</th>      <td>nonrobust</td>    <th>                     </th>     <td> </td>    \n",
       "</tr>\n",
       "</table>\n",
       "<table class=\"simpletable\">\n",
       "<tr>\n",
       "        <td></td>          <th>coef</th>     <th>std err</th>      <th>t</th>      <th>P>|t|</th>  <th>[0.025</th>    <th>0.975]</th>  \n",
       "</tr>\n",
       "<tr>\n",
       "  <th>Intercept</th>    <td> 1.746e+06</td> <td> 7.96e+04</td> <td>   21.938</td> <td> 0.000</td> <td> 1.59e+06</td> <td>  1.9e+06</td>\n",
       "</tr>\n",
       "<tr>\n",
       "  <th>CPI</th>          <td>-1696.8760</td> <td>  188.793</td> <td>   -8.988</td> <td> 0.000</td> <td>-2066.973</td> <td>-1326.779</td>\n",
       "</tr>\n",
       "<tr>\n",
       "  <th>Unemployment</th> <td>-4.286e+04</td> <td> 3905.197</td> <td>  -10.975</td> <td> 0.000</td> <td>-5.05e+04</td> <td>-3.52e+04</td>\n",
       "</tr>\n",
       "<tr>\n",
       "  <th>Fuel_Price</th>   <td>-1.927e+04</td> <td> 1.54e+04</td> <td>   -1.248</td> <td> 0.212</td> <td>-4.95e+04</td> <td>  1.1e+04</td>\n",
       "</tr>\n",
       "</table>\n",
       "<table class=\"simpletable\">\n",
       "<tr>\n",
       "  <th>Omnibus:</th>       <td>370.117</td> <th>  Durbin-Watson:     </th> <td>   0.112</td>\n",
       "</tr>\n",
       "<tr>\n",
       "  <th>Prob(Omnibus):</th> <td> 0.000</td>  <th>  Jarque-Bera (JB):  </th> <td> 436.792</td>\n",
       "</tr>\n",
       "<tr>\n",
       "  <th>Skew:</th>          <td> 0.638</td>  <th>  Prob(JB):          </th> <td>1.42e-95</td>\n",
       "</tr>\n",
       "<tr>\n",
       "  <th>Kurtosis:</th>      <td> 3.051</td>  <th>  Cond. No.          </th> <td>2.04e+03</td>\n",
       "</tr>\n",
       "</table><br/><br/>Notes:<br/>[1] Standard Errors assume that the covariance matrix of the errors is correctly specified.<br/>[2] The condition number is large, 2.04e+03. This might indicate that there are<br/>strong multicollinearity or other numerical problems."
      ],
      "text/plain": [
       "<class 'statsmodels.iolib.summary.Summary'>\n",
       "\"\"\"\n",
       "                            OLS Regression Results                            \n",
       "==============================================================================\n",
       "Dep. Variable:           Weekly_Sales   R-squared:                       0.024\n",
       "Model:                            OLS   Adj. R-squared:                  0.023\n",
       "Method:                 Least Squares   F-statistic:                     51.75\n",
       "Date:                Thu, 14 Aug 2025   Prob (F-statistic):           4.81e-33\n",
       "Time:                        06:04:33   Log-Likelihood:                -94275.\n",
       "No. Observations:                6435   AIC:                         1.886e+05\n",
       "Df Residuals:                    6431   BIC:                         1.886e+05\n",
       "Df Model:                           3                                         \n",
       "Covariance Type:            nonrobust                                         \n",
       "================================================================================\n",
       "                   coef    std err          t      P>|t|      [0.025      0.975]\n",
       "--------------------------------------------------------------------------------\n",
       "Intercept     1.746e+06   7.96e+04     21.938      0.000    1.59e+06     1.9e+06\n",
       "CPI          -1696.8760    188.793     -8.988      0.000   -2066.973   -1326.779\n",
       "Unemployment -4.286e+04   3905.197    -10.975      0.000   -5.05e+04   -3.52e+04\n",
       "Fuel_Price   -1.927e+04   1.54e+04     -1.248      0.212   -4.95e+04     1.1e+04\n",
       "==============================================================================\n",
       "Omnibus:                      370.117   Durbin-Watson:                   0.112\n",
       "Prob(Omnibus):                  0.000   Jarque-Bera (JB):              436.792\n",
       "Skew:                           0.638   Prob(JB):                     1.42e-95\n",
       "Kurtosis:                       3.051   Cond. No.                     2.04e+03\n",
       "==============================================================================\n",
       "\n",
       "Notes:\n",
       "[1] Standard Errors assume that the covariance matrix of the errors is correctly specified.\n",
       "[2] The condition number is large, 2.04e+03. This might indicate that there are\n",
       "strong multicollinearity or other numerical problems.\n",
       "\"\"\""
      ]
     },
     "execution_count": 28,
     "metadata": {},
     "output_type": "execute_result"
    }
   ],
   "source": [
    "model.summary()"
   ]
  },
  {
   "cell_type": "markdown",
   "id": "c8c8f04f-b3c8-4f99-b134-14daf096eaf6",
   "metadata": {
    "tags": []
   },
   "source": [
    "##### Notes:\n",
    "- Null hypothesis is the initial assumption which we start off with when we are addressing a problem statement\n",
    "- Null hypothesis WILL ALWYAS INDICATE NO DEPENDANCY/NO RELATIONSHIP\n",
    "- Alternate hypothesis always negates the Null hypothesis\n",
    "- WHEN P IS LOW, NULL SHOULD GO."
   ]
  },
  {
   "cell_type": "code",
   "execution_count": 29,
   "id": "d014e7f8-dd72-4692-a771-6c71671459d8",
   "metadata": {},
   "outputs": [],
   "source": [
    "model1=sm.ols(formula=\"Weekly_Sales~CPI+Unemployment\",data=data).fit()"
   ]
  },
  {
   "cell_type": "code",
   "execution_count": 30,
   "id": "41f7df62-3aa6-4f85-b61b-193a88240d74",
   "metadata": {},
   "outputs": [
    {
     "data": {
      "text/html": [
       "<table class=\"simpletable\">\n",
       "<caption>OLS Regression Results</caption>\n",
       "<tr>\n",
       "  <th>Dep. Variable:</th>      <td>Weekly_Sales</td>   <th>  R-squared:         </th> <td>   0.023</td> \n",
       "</tr>\n",
       "<tr>\n",
       "  <th>Model:</th>                   <td>OLS</td>       <th>  Adj. R-squared:    </th> <td>   0.023</td> \n",
       "</tr>\n",
       "<tr>\n",
       "  <th>Method:</th>             <td>Least Squares</td>  <th>  F-statistic:       </th> <td>   76.84</td> \n",
       "</tr>\n",
       "<tr>\n",
       "  <th>Date:</th>             <td>Thu, 14 Aug 2025</td> <th>  Prob (F-statistic):</th> <td>1.05e-33</td> \n",
       "</tr>\n",
       "<tr>\n",
       "  <th>Time:</th>                 <td>06:05:23</td>     <th>  Log-Likelihood:    </th> <td> -94276.</td> \n",
       "</tr>\n",
       "<tr>\n",
       "  <th>No. Observations:</th>      <td>  6435</td>      <th>  AIC:               </th> <td>1.886e+05</td>\n",
       "</tr>\n",
       "<tr>\n",
       "  <th>Df Residuals:</th>          <td>  6432</td>      <th>  BIC:               </th> <td>1.886e+05</td>\n",
       "</tr>\n",
       "<tr>\n",
       "  <th>Df Model:</th>              <td>     2</td>      <th>                     </th>     <td> </td>    \n",
       "</tr>\n",
       "<tr>\n",
       "  <th>Covariance Type:</th>      <td>nonrobust</td>    <th>                     </th>     <td> </td>    \n",
       "</tr>\n",
       "</table>\n",
       "<table class=\"simpletable\">\n",
       "<tr>\n",
       "        <td></td>          <th>coef</th>     <th>std err</th>      <th>t</th>      <th>P>|t|</th>  <th>[0.025</th>    <th>0.975]</th>  \n",
       "</tr>\n",
       "<tr>\n",
       "  <th>Intercept</th>    <td>  1.67e+06</td> <td> 5.12e+04</td> <td>   32.588</td> <td> 0.000</td> <td> 1.57e+06</td> <td> 1.77e+06</td>\n",
       "</tr>\n",
       "<tr>\n",
       "  <th>CPI</th>          <td>-1652.0937</td> <td>  185.358</td> <td>   -8.913</td> <td> 0.000</td> <td>-2015.457</td> <td>-1288.730</td>\n",
       "</tr>\n",
       "<tr>\n",
       "  <th>Unemployment</th> <td>-4.241e+04</td> <td> 3888.879</td> <td>  -10.906</td> <td> 0.000</td> <td>   -5e+04</td> <td>-3.48e+04</td>\n",
       "</tr>\n",
       "</table>\n",
       "<table class=\"simpletable\">\n",
       "<tr>\n",
       "  <th>Omnibus:</th>       <td>372.804</td> <th>  Durbin-Watson:     </th> <td>   0.112</td>\n",
       "</tr>\n",
       "<tr>\n",
       "  <th>Prob(Omnibus):</th> <td> 0.000</td>  <th>  Jarque-Bera (JB):  </th> <td> 440.398</td>\n",
       "</tr>\n",
       "<tr>\n",
       "  <th>Skew:</th>          <td> 0.640</td>  <th>  Prob(JB):          </th> <td>2.34e-96</td>\n",
       "</tr>\n",
       "<tr>\n",
       "  <th>Kurtosis:</th>      <td> 3.060</td>  <th>  Cond. No.          </th> <td>1.30e+03</td>\n",
       "</tr>\n",
       "</table><br/><br/>Notes:<br/>[1] Standard Errors assume that the covariance matrix of the errors is correctly specified.<br/>[2] The condition number is large, 1.3e+03. This might indicate that there are<br/>strong multicollinearity or other numerical problems."
      ],
      "text/plain": [
       "<class 'statsmodels.iolib.summary.Summary'>\n",
       "\"\"\"\n",
       "                            OLS Regression Results                            \n",
       "==============================================================================\n",
       "Dep. Variable:           Weekly_Sales   R-squared:                       0.023\n",
       "Model:                            OLS   Adj. R-squared:                  0.023\n",
       "Method:                 Least Squares   F-statistic:                     76.84\n",
       "Date:                Thu, 14 Aug 2025   Prob (F-statistic):           1.05e-33\n",
       "Time:                        06:05:23   Log-Likelihood:                -94276.\n",
       "No. Observations:                6435   AIC:                         1.886e+05\n",
       "Df Residuals:                    6432   BIC:                         1.886e+05\n",
       "Df Model:                           2                                         \n",
       "Covariance Type:            nonrobust                                         \n",
       "================================================================================\n",
       "                   coef    std err          t      P>|t|      [0.025      0.975]\n",
       "--------------------------------------------------------------------------------\n",
       "Intercept      1.67e+06   5.12e+04     32.588      0.000    1.57e+06    1.77e+06\n",
       "CPI          -1652.0937    185.358     -8.913      0.000   -2015.457   -1288.730\n",
       "Unemployment -4.241e+04   3888.879    -10.906      0.000      -5e+04   -3.48e+04\n",
       "==============================================================================\n",
       "Omnibus:                      372.804   Durbin-Watson:                   0.112\n",
       "Prob(Omnibus):                  0.000   Jarque-Bera (JB):              440.398\n",
       "Skew:                           0.640   Prob(JB):                     2.34e-96\n",
       "Kurtosis:                       3.060   Cond. No.                     1.30e+03\n",
       "==============================================================================\n",
       "\n",
       "Notes:\n",
       "[1] Standard Errors assume that the covariance matrix of the errors is correctly specified.\n",
       "[2] The condition number is large, 1.3e+03. This might indicate that there are\n",
       "strong multicollinearity or other numerical problems.\n",
       "\"\"\""
      ]
     },
     "execution_count": 30,
     "metadata": {},
     "output_type": "execute_result"
    }
   ],
   "source": [
    "model1.summary()"
   ]
  },
  {
   "cell_type": "markdown",
   "id": "b9cc2053-3d67-4634-8556-d55f55d118cd",
   "metadata": {},
   "source": [
    "***"
   ]
  },
  {
   "cell_type": "markdown",
   "id": "7647c4fe-30b9-40e2-a5f9-2135ea673337",
   "metadata": {
    "tags": []
   },
   "source": [
    "### Summary:\n",
    "\n",
    "Results from Ordinary Least Square model helped to predict the forecasted demand by testing the relationships of the factors. Considering the size of the data set and the ability of this model may not provide strong evidence for the predictions. Some additional research into other models that better account for seasonality (Holidays) may provide stronger prediction to forecast demand:\n",
    "- ARIMA (Autoregressive Integrated Moving Average)\n",
    "- SARIMAX (Seasonal Autoregressive Integrated Moving-Average with eXogenous regressors)\n",
    "- Exponential Smoothing"
   ]
  },
  {
   "cell_type": "code",
   "execution_count": null,
   "id": "d3a3b7bf-86fc-4f58-be36-fde156898a26",
   "metadata": {},
   "outputs": [],
   "source": []
  }
 ],
 "metadata": {
  "kernelspec": {
   "display_name": "Python 3 [3.10]",
   "language": "python",
   "name": "python3"
  },
  "language_info": {
   "codemirror_mode": {
    "name": "ipython",
    "version": 3
   },
   "file_extension": ".py",
   "mimetype": "text/x-python",
   "name": "python",
   "nbconvert_exporter": "python",
   "pygments_lexer": "ipython3",
   "version": "3.10.2"
  }
 },
 "nbformat": 4,
 "nbformat_minor": 5
}
